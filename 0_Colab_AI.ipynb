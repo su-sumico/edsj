{
  "nbformat": 4,
  "nbformat_minor": 0,
  "metadata": {
    "colab": {
      "provenance": [],
      "include_colab_link": true
    },
    "kernelspec": {
      "name": "python3",
      "display_name": "Python 3"
    },
    "language_info": {
      "name": "python"
    }
  },
  "cells": [
    {
      "cell_type": "markdown",
      "metadata": {
        "id": "view-in-github",
        "colab_type": "text"
      },
      "source": [
        "<a href=\"https://colab.research.google.com/github/su-sumico/edsj/blob/main/0_Colab_AI.ipynb\" target=\"_parent\"><img src=\"https://colab.research.google.com/assets/colab-badge.svg\" alt=\"Open In Colab\"/></a>"
      ]
    },
    {
      "cell_type": "markdown",
      "source": [
        "* Colab AIはGoogle Colab上でGIthub CopilotのようにAIからコーディングのサポートを受けることができるペアプログラミング機能です。\n",
        "* Colab AI is a pair programming feature on Google Colab that allows users to get coding support from an AI like GIthub Copilot.\n",
        "* Reference: https://generativeinfo365.com/?p=1857"
      ],
      "metadata": {
        "id": "TlCmZro1zuA-"
      }
    },
    {
      "cell_type": "code",
      "source": [
        "# prompt: xlsxを読み込む/Read xlsx\n",
        "\n",
        "import pandas as pd\n",
        "\n",
        "# Read the xlsx file\n",
        "df = pd.read_excel('your_xlsx_file.xlsx')\n",
        "\n",
        "# Print the DataFrame\n",
        "print(df)\n"
      ],
      "metadata": {
        "id": "3eW-q4sd1c_g"
      },
      "execution_count": null,
      "outputs": []
    },
    {
      "cell_type": "code",
      "source": [
        "# prompt: tell me how to read csv\n",
        "\n",
        "import pandas as pd\n",
        "\n",
        "# Read a CSV file\n",
        "data = pd.read_csv('filename.csv')\n",
        "\n",
        "# Print the data\n",
        "print(data)\n"
      ],
      "metadata": {
        "id": "WR89RCtsf9EB"
      },
      "execution_count": null,
      "outputs": []
    },
    {
      "cell_type": "code",
      "source": [
        "# prompt: csvデータの読み込み方法は?/How to read csv data?\n",
        "\n",
        "import pandas as pd\n",
        "\n",
        "# Load a CSV file from a URL\n",
        "url = 'https://raw.githubusercontent.com/juliavassimon/dados_python/main/pandas'\n",
        "df = pd.read_csv(url)\n",
        "\n",
        "# Load a CSV file from a local path\n",
        "path = '/path/to/your/file.csv'\n",
        "df = pd.read_csv(path)\n",
        "\n",
        "# Load a CSV file from a Google Drive path\n",
        "from google.colab import drive\n",
        "drive.mount('/content/drive')\n",
        "path = '/content/drive/My Drive/your_file.csv'\n",
        "df = pd.read_csv(path)\n"
      ],
      "metadata": {
        "id": "wuMQzBwQzC6A"
      },
      "execution_count": null,
      "outputs": []
    }
  ]
}
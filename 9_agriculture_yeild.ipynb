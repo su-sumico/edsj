{
  "metadata": {
    "kernelspec": {
      "language": "python",
      "display_name": "Python 3",
      "name": "python3"
    },
    "language_info": {
      "name": "python",
      "version": "3.10.13",
      "mimetype": "text/x-python",
      "codemirror_mode": {
        "name": "ipython",
        "version": 3
      },
      "pygments_lexer": "ipython3",
      "nbconvert_exporter": "python",
      "file_extension": ".py"
    },
    "kaggle": {
      "accelerator": "none",
      "dataSources": [
        {
          "sourceId": 6920221,
          "sourceType": "datasetVersion",
          "datasetId": 3973639
        }
      ],
      "dockerImageVersionId": 30664,
      "isInternetEnabled": false,
      "language": "python",
      "sourceType": "notebook",
      "isGpuEnabled": false
    },
    "colab": {
      "provenance": [],
      "include_colab_link": true
    }
  },
  "nbformat_minor": 0,
  "nbformat": 4,
  "cells": [
    {
      "cell_type": "markdown",
      "metadata": {
        "id": "view-in-github",
        "colab_type": "text"
      },
      "source": [
        "<a href=\"https://colab.research.google.com/github/su-sumico/edsj/blob/main/9_agriculture_yeild.ipynb\" target=\"_parent\"><img src=\"https://colab.research.google.com/assets/colab-badge.svg\" alt=\"Open In Colab\"/></a>"
      ]
    },
    {
      "cell_type": "markdown",
      "source": [
        "#####予測モデルの訓練の流れ\n",
        "1. データセットを訓練データとテストデータに分割\n",
        "2. 説明変数の標準化\n",
        "3. 予測モデルの指定\n",
        "4. 損失関数の指定\n",
        "5. 訓練データと損失関数を用いたモデルの訓練\n",
        "6. テストデータを用いたモデルの評価\n",
        "---\n",
        "#####Flow of training a predictive model\n",
        "1. split the dataset into training and test data\n",
        "2. standardize explanatory variables\n",
        "3. specify a predictive model\n",
        "4. specify a loss function\n",
        "5. train the model using the training data and the loss function\n",
        "6. evaluate the model using the test data"
      ],
      "metadata": {
        "id": "Mxjslr1HCMFh"
      }
    },
    {
      "cell_type": "markdown",
      "source": [
        "目的\n",
        "* 様々な環境要因や管理要因に基づく農業収量の予測\n",
        "---\n",
        "Objective\n",
        "* Predicting agricultural yields based on various environmental and management factors"
      ],
      "metadata": {
        "id": "E5tAAUW5FOZq"
      }
    },
    {
      "cell_type": "markdown",
      "source": [
        "データセット/Dataset\n",
        "* agricultural_yield_train.csv\n",
        "* agricultural_yield_test.csv"
      ],
      "metadata": {
        "id": "blGMm1FJDb7B"
      }
    },
    {
      "cell_type": "markdown",
      "source": [
        "データセットには、以下の特徴を持つ2万件のエントリーが含まれている：\n",
        "\n",
        "* 土壌の品質： 50から100までの土壌品質指数\n",
        "* 種子品種： 種子の品種を表すバイナリ指標。ここで1は高収量品種を表す\n",
        "* 1ヘクタールあたりの肥料量（キログラム）: 肥料の使用量（ヘクタール当たりキログラム\n",
        "* 晴れの日：生育期の晴天日数\n",
        "* 降雨量 mm: 生育期に降った総雨量（ミリメートル）\n",
        "* 灌漑スケジュール： 生育期間中の灌漑回数\n",
        "* 収穫量 kg ヘクタール当たり: 1ヘクタール当たりのキログラム単位の農業収量で、予測の目的変数\n",
        "---\n",
        "The dataset contains 20,000 entries with the following features:\n",
        "\n",
        "* Soil_Quality: Soil quality index, ranging from 50 to 100\n",
        "* Seed_Variety: Binary indicator of seed variety, where 1 represents a high-yield variety\n",
        "* Fertilizer_Amount_kg_per_hectare: The amount of fertilizer used in kilograms per hectare\n",
        "* Sunny_Days: The number of sunny days during the growing season.\n",
        "* Rainfall_mm: Total rainfall received during the growing season in millimeters.\n",
        "* Irrigation_Schedule: The number of irrigations during the growing season.\n",
        "* Yield_kg_per_hectare: The agricultural yield in kilograms per hectare, serving as the target variable for prediction."
      ],
      "metadata": {
        "id": "u7D-WoYKEFB_"
      }
    },
    {
      "cell_type": "code",
      "source": [
        "from google.colab import drive\n",
        "drive.mount('/content/drive')"
      ],
      "metadata": {
        "_uuid": "8f2839f25d086af736a60e9eeb907d3b93b6e0e5",
        "_cell_guid": "b1076dfc-b9ad-4769-8c92-a6c4dae69d19",
        "execution": {
          "iopub.status.busy": "2024-03-24T13:07:37.921941Z",
          "iopub.execute_input": "2024-03-24T13:07:37.922662Z",
          "iopub.status.idle": "2024-03-24T13:07:37.939438Z",
          "shell.execute_reply.started": "2024-03-24T13:07:37.922619Z",
          "shell.execute_reply": "2024-03-24T13:07:37.938162Z"
        },
        "trusted": true,
        "colab": {
          "base_uri": "https://localhost:8080/"
        },
        "id": "p2BeG55GAscQ",
        "outputId": "1c70a536-a1e1-47ad-dbe0-a39077aadf4e"
      },
      "execution_count": null,
      "outputs": [
        {
          "output_type": "stream",
          "name": "stdout",
          "text": [
            "Mounted at /content/drive\n"
          ]
        }
      ]
    },
    {
      "cell_type": "code",
      "source": [
        "import numpy as np\n",
        "import pandas as pd\n",
        "import matplotlib.pyplot as plt\n",
        "import seaborn as sns\n",
        "import warnings\n",
        "warnings.filterwarnings(\"ignore\")\n",
        "plt.rcParams['figure.figsize']=[10,5]"
      ],
      "metadata": {
        "execution": {
          "iopub.status.busy": "2024-03-24T13:07:37.941852Z",
          "iopub.execute_input": "2024-03-24T13:07:37.942593Z",
          "iopub.status.idle": "2024-03-24T13:07:37.94967Z",
          "shell.execute_reply.started": "2024-03-24T13:07:37.942554Z",
          "shell.execute_reply": "2024-03-24T13:07:37.948268Z"
        },
        "trusted": true,
        "id": "O4agFMQnAscU"
      },
      "execution_count": null,
      "outputs": []
    },
    {
      "cell_type": "code",
      "source": [
        "train=pd.read_csv('/content/drive/MyDrive/Colab Notebooks/9data/agricultural_yield_train.csv')\n",
        "train.head()"
      ],
      "metadata": {
        "execution": {
          "iopub.status.busy": "2024-03-24T13:07:37.951416Z",
          "iopub.execute_input": "2024-03-24T13:07:37.952137Z",
          "iopub.status.idle": "2024-03-24T13:07:37.999536Z",
          "shell.execute_reply.started": "2024-03-24T13:07:37.952099Z",
          "shell.execute_reply": "2024-03-24T13:07:37.99838Z"
        },
        "trusted": true,
        "colab": {
          "base_uri": "https://localhost:8080/",
          "height": 206
        },
        "id": "OSSJQSPjAscV",
        "outputId": "478422f4-ff06-4fe7-edca-c30569fd6af3"
      },
      "execution_count": null,
      "outputs": [
        {
          "output_type": "execute_result",
          "data": {
            "text/plain": [
              "   Soil_Quality  Seed_Variety  Fertilizer_Amount_kg_per_hectare  Sunny_Days  \\\n",
              "0     96.415657             1                        147.853040   94.593926   \n",
              "1     92.352626             0                        281.565396   90.504644   \n",
              "2     63.714785             1                        137.864940   97.329340   \n",
              "3     90.084256             1                        100.946659  113.404828   \n",
              "4     81.600341             1                        223.088908   83.048176   \n",
              "\n",
              "   Rainfall_mm  Irrigation_Schedule  Yield_kg_per_hectare  \n",
              "0   444.267569                    3            683.759119  \n",
              "1   517.585491                    7            678.714861  \n",
              "2   420.310945                    8            934.691975  \n",
              "3   547.817646                    7            905.842541  \n",
              "4   434.726333                    6            897.584665  "
            ],
            "text/html": [
              "\n",
              "  <div id=\"df-7b0e00fb-d543-4377-8097-5cba7f6dbf17\" class=\"colab-df-container\">\n",
              "    <div>\n",
              "<style scoped>\n",
              "    .dataframe tbody tr th:only-of-type {\n",
              "        vertical-align: middle;\n",
              "    }\n",
              "\n",
              "    .dataframe tbody tr th {\n",
              "        vertical-align: top;\n",
              "    }\n",
              "\n",
              "    .dataframe thead th {\n",
              "        text-align: right;\n",
              "    }\n",
              "</style>\n",
              "<table border=\"1\" class=\"dataframe\">\n",
              "  <thead>\n",
              "    <tr style=\"text-align: right;\">\n",
              "      <th></th>\n",
              "      <th>Soil_Quality</th>\n",
              "      <th>Seed_Variety</th>\n",
              "      <th>Fertilizer_Amount_kg_per_hectare</th>\n",
              "      <th>Sunny_Days</th>\n",
              "      <th>Rainfall_mm</th>\n",
              "      <th>Irrigation_Schedule</th>\n",
              "      <th>Yield_kg_per_hectare</th>\n",
              "    </tr>\n",
              "  </thead>\n",
              "  <tbody>\n",
              "    <tr>\n",
              "      <th>0</th>\n",
              "      <td>96.415657</td>\n",
              "      <td>1</td>\n",
              "      <td>147.853040</td>\n",
              "      <td>94.593926</td>\n",
              "      <td>444.267569</td>\n",
              "      <td>3</td>\n",
              "      <td>683.759119</td>\n",
              "    </tr>\n",
              "    <tr>\n",
              "      <th>1</th>\n",
              "      <td>92.352626</td>\n",
              "      <td>0</td>\n",
              "      <td>281.565396</td>\n",
              "      <td>90.504644</td>\n",
              "      <td>517.585491</td>\n",
              "      <td>7</td>\n",
              "      <td>678.714861</td>\n",
              "    </tr>\n",
              "    <tr>\n",
              "      <th>2</th>\n",
              "      <td>63.714785</td>\n",
              "      <td>1</td>\n",
              "      <td>137.864940</td>\n",
              "      <td>97.329340</td>\n",
              "      <td>420.310945</td>\n",
              "      <td>8</td>\n",
              "      <td>934.691975</td>\n",
              "    </tr>\n",
              "    <tr>\n",
              "      <th>3</th>\n",
              "      <td>90.084256</td>\n",
              "      <td>1</td>\n",
              "      <td>100.946659</td>\n",
              "      <td>113.404828</td>\n",
              "      <td>547.817646</td>\n",
              "      <td>7</td>\n",
              "      <td>905.842541</td>\n",
              "    </tr>\n",
              "    <tr>\n",
              "      <th>4</th>\n",
              "      <td>81.600341</td>\n",
              "      <td>1</td>\n",
              "      <td>223.088908</td>\n",
              "      <td>83.048176</td>\n",
              "      <td>434.726333</td>\n",
              "      <td>6</td>\n",
              "      <td>897.584665</td>\n",
              "    </tr>\n",
              "  </tbody>\n",
              "</table>\n",
              "</div>\n",
              "    <div class=\"colab-df-buttons\">\n",
              "\n",
              "  <div class=\"colab-df-container\">\n",
              "    <button class=\"colab-df-convert\" onclick=\"convertToInteractive('df-7b0e00fb-d543-4377-8097-5cba7f6dbf17')\"\n",
              "            title=\"Convert this dataframe to an interactive table.\"\n",
              "            style=\"display:none;\">\n",
              "\n",
              "  <svg xmlns=\"http://www.w3.org/2000/svg\" height=\"24px\" viewBox=\"0 -960 960 960\">\n",
              "    <path d=\"M120-120v-720h720v720H120Zm60-500h600v-160H180v160Zm220 220h160v-160H400v160Zm0 220h160v-160H400v160ZM180-400h160v-160H180v160Zm440 0h160v-160H620v160ZM180-180h160v-160H180v160Zm440 0h160v-160H620v160Z\"/>\n",
              "  </svg>\n",
              "    </button>\n",
              "\n",
              "  <style>\n",
              "    .colab-df-container {\n",
              "      display:flex;\n",
              "      gap: 12px;\n",
              "    }\n",
              "\n",
              "    .colab-df-convert {\n",
              "      background-color: #E8F0FE;\n",
              "      border: none;\n",
              "      border-radius: 50%;\n",
              "      cursor: pointer;\n",
              "      display: none;\n",
              "      fill: #1967D2;\n",
              "      height: 32px;\n",
              "      padding: 0 0 0 0;\n",
              "      width: 32px;\n",
              "    }\n",
              "\n",
              "    .colab-df-convert:hover {\n",
              "      background-color: #E2EBFA;\n",
              "      box-shadow: 0px 1px 2px rgba(60, 64, 67, 0.3), 0px 1px 3px 1px rgba(60, 64, 67, 0.15);\n",
              "      fill: #174EA6;\n",
              "    }\n",
              "\n",
              "    .colab-df-buttons div {\n",
              "      margin-bottom: 4px;\n",
              "    }\n",
              "\n",
              "    [theme=dark] .colab-df-convert {\n",
              "      background-color: #3B4455;\n",
              "      fill: #D2E3FC;\n",
              "    }\n",
              "\n",
              "    [theme=dark] .colab-df-convert:hover {\n",
              "      background-color: #434B5C;\n",
              "      box-shadow: 0px 1px 3px 1px rgba(0, 0, 0, 0.15);\n",
              "      filter: drop-shadow(0px 1px 2px rgba(0, 0, 0, 0.3));\n",
              "      fill: #FFFFFF;\n",
              "    }\n",
              "  </style>\n",
              "\n",
              "    <script>\n",
              "      const buttonEl =\n",
              "        document.querySelector('#df-7b0e00fb-d543-4377-8097-5cba7f6dbf17 button.colab-df-convert');\n",
              "      buttonEl.style.display =\n",
              "        google.colab.kernel.accessAllowed ? 'block' : 'none';\n",
              "\n",
              "      async function convertToInteractive(key) {\n",
              "        const element = document.querySelector('#df-7b0e00fb-d543-4377-8097-5cba7f6dbf17');\n",
              "        const dataTable =\n",
              "          await google.colab.kernel.invokeFunction('convertToInteractive',\n",
              "                                                    [key], {});\n",
              "        if (!dataTable) return;\n",
              "\n",
              "        const docLinkHtml = 'Like what you see? Visit the ' +\n",
              "          '<a target=\"_blank\" href=https://colab.research.google.com/notebooks/data_table.ipynb>data table notebook</a>'\n",
              "          + ' to learn more about interactive tables.';\n",
              "        element.innerHTML = '';\n",
              "        dataTable['output_type'] = 'display_data';\n",
              "        await google.colab.output.renderOutput(dataTable, element);\n",
              "        const docLink = document.createElement('div');\n",
              "        docLink.innerHTML = docLinkHtml;\n",
              "        element.appendChild(docLink);\n",
              "      }\n",
              "    </script>\n",
              "  </div>\n",
              "\n",
              "\n",
              "<div id=\"df-93bd694d-0de8-4ae0-abc5-74ba55b344cb\">\n",
              "  <button class=\"colab-df-quickchart\" onclick=\"quickchart('df-93bd694d-0de8-4ae0-abc5-74ba55b344cb')\"\n",
              "            title=\"Suggest charts\"\n",
              "            style=\"display:none;\">\n",
              "\n",
              "<svg xmlns=\"http://www.w3.org/2000/svg\" height=\"24px\"viewBox=\"0 0 24 24\"\n",
              "     width=\"24px\">\n",
              "    <g>\n",
              "        <path d=\"M19 3H5c-1.1 0-2 .9-2 2v14c0 1.1.9 2 2 2h14c1.1 0 2-.9 2-2V5c0-1.1-.9-2-2-2zM9 17H7v-7h2v7zm4 0h-2V7h2v10zm4 0h-2v-4h2v4z\"/>\n",
              "    </g>\n",
              "</svg>\n",
              "  </button>\n",
              "\n",
              "<style>\n",
              "  .colab-df-quickchart {\n",
              "      --bg-color: #E8F0FE;\n",
              "      --fill-color: #1967D2;\n",
              "      --hover-bg-color: #E2EBFA;\n",
              "      --hover-fill-color: #174EA6;\n",
              "      --disabled-fill-color: #AAA;\n",
              "      --disabled-bg-color: #DDD;\n",
              "  }\n",
              "\n",
              "  [theme=dark] .colab-df-quickchart {\n",
              "      --bg-color: #3B4455;\n",
              "      --fill-color: #D2E3FC;\n",
              "      --hover-bg-color: #434B5C;\n",
              "      --hover-fill-color: #FFFFFF;\n",
              "      --disabled-bg-color: #3B4455;\n",
              "      --disabled-fill-color: #666;\n",
              "  }\n",
              "\n",
              "  .colab-df-quickchart {\n",
              "    background-color: var(--bg-color);\n",
              "    border: none;\n",
              "    border-radius: 50%;\n",
              "    cursor: pointer;\n",
              "    display: none;\n",
              "    fill: var(--fill-color);\n",
              "    height: 32px;\n",
              "    padding: 0;\n",
              "    width: 32px;\n",
              "  }\n",
              "\n",
              "  .colab-df-quickchart:hover {\n",
              "    background-color: var(--hover-bg-color);\n",
              "    box-shadow: 0 1px 2px rgba(60, 64, 67, 0.3), 0 1px 3px 1px rgba(60, 64, 67, 0.15);\n",
              "    fill: var(--button-hover-fill-color);\n",
              "  }\n",
              "\n",
              "  .colab-df-quickchart-complete:disabled,\n",
              "  .colab-df-quickchart-complete:disabled:hover {\n",
              "    background-color: var(--disabled-bg-color);\n",
              "    fill: var(--disabled-fill-color);\n",
              "    box-shadow: none;\n",
              "  }\n",
              "\n",
              "  .colab-df-spinner {\n",
              "    border: 2px solid var(--fill-color);\n",
              "    border-color: transparent;\n",
              "    border-bottom-color: var(--fill-color);\n",
              "    animation:\n",
              "      spin 1s steps(1) infinite;\n",
              "  }\n",
              "\n",
              "  @keyframes spin {\n",
              "    0% {\n",
              "      border-color: transparent;\n",
              "      border-bottom-color: var(--fill-color);\n",
              "      border-left-color: var(--fill-color);\n",
              "    }\n",
              "    20% {\n",
              "      border-color: transparent;\n",
              "      border-left-color: var(--fill-color);\n",
              "      border-top-color: var(--fill-color);\n",
              "    }\n",
              "    30% {\n",
              "      border-color: transparent;\n",
              "      border-left-color: var(--fill-color);\n",
              "      border-top-color: var(--fill-color);\n",
              "      border-right-color: var(--fill-color);\n",
              "    }\n",
              "    40% {\n",
              "      border-color: transparent;\n",
              "      border-right-color: var(--fill-color);\n",
              "      border-top-color: var(--fill-color);\n",
              "    }\n",
              "    60% {\n",
              "      border-color: transparent;\n",
              "      border-right-color: var(--fill-color);\n",
              "    }\n",
              "    80% {\n",
              "      border-color: transparent;\n",
              "      border-right-color: var(--fill-color);\n",
              "      border-bottom-color: var(--fill-color);\n",
              "    }\n",
              "    90% {\n",
              "      border-color: transparent;\n",
              "      border-bottom-color: var(--fill-color);\n",
              "    }\n",
              "  }\n",
              "</style>\n",
              "\n",
              "  <script>\n",
              "    async function quickchart(key) {\n",
              "      const quickchartButtonEl =\n",
              "        document.querySelector('#' + key + ' button');\n",
              "      quickchartButtonEl.disabled = true;  // To prevent multiple clicks.\n",
              "      quickchartButtonEl.classList.add('colab-df-spinner');\n",
              "      try {\n",
              "        const charts = await google.colab.kernel.invokeFunction(\n",
              "            'suggestCharts', [key], {});\n",
              "      } catch (error) {\n",
              "        console.error('Error during call to suggestCharts:', error);\n",
              "      }\n",
              "      quickchartButtonEl.classList.remove('colab-df-spinner');\n",
              "      quickchartButtonEl.classList.add('colab-df-quickchart-complete');\n",
              "    }\n",
              "    (() => {\n",
              "      let quickchartButtonEl =\n",
              "        document.querySelector('#df-93bd694d-0de8-4ae0-abc5-74ba55b344cb button');\n",
              "      quickchartButtonEl.style.display =\n",
              "        google.colab.kernel.accessAllowed ? 'block' : 'none';\n",
              "    })();\n",
              "  </script>\n",
              "</div>\n",
              "\n",
              "    </div>\n",
              "  </div>\n"
            ],
            "application/vnd.google.colaboratory.intrinsic+json": {
              "type": "dataframe",
              "variable_name": "train",
              "summary": "{\n  \"name\": \"train\",\n  \"rows\": 16000,\n  \"fields\": [\n    {\n      \"column\": \"Soil_Quality\",\n      \"properties\": {\n        \"dtype\": \"number\",\n        \"std\": 14.529295127324072,\n        \"min\": 50.00751905404277,\n        \"max\": 99.99810086706526,\n        \"num_unique_values\": 16000,\n        \"samples\": [\n          91.97712084165246,\n          73.83293912949253,\n          98.6466808640107\n        ],\n        \"semantic_type\": \"\",\n        \"description\": \"\"\n      }\n    },\n    {\n      \"column\": \"Seed_Variety\",\n      \"properties\": {\n        \"dtype\": \"number\",\n        \"std\": 0,\n        \"min\": 0,\n        \"max\": 1,\n        \"num_unique_values\": 2,\n        \"samples\": [\n          0,\n          1\n        ],\n        \"semantic_type\": \"\",\n        \"description\": \"\"\n      }\n    },\n    {\n      \"column\": \"Fertilizer_Amount_kg_per_hectare\",\n      \"properties\": {\n        \"dtype\": \"number\",\n        \"std\": 71.97190021154566,\n        \"min\": 50.049203691011165,\n        \"max\": 299.9876445738935,\n        \"num_unique_values\": 16000,\n        \"samples\": [\n          272.50167163695164,\n          188.3137017559352\n        ],\n        \"semantic_type\": \"\",\n        \"description\": \"\"\n      }\n    },\n    {\n      \"column\": \"Sunny_Days\",\n      \"properties\": {\n        \"dtype\": \"number\",\n        \"std\": 9.980609545998748,\n        \"min\": 51.47882346819883,\n        \"max\": 142.41771912903698,\n        \"num_unique_values\": 16000,\n        \"samples\": [\n          95.40148776970908,\n          91.25141030748618\n        ],\n        \"semantic_type\": \"\",\n        \"description\": \"\"\n      }\n    },\n    {\n      \"column\": \"Rainfall_mm\",\n      \"properties\": {\n        \"dtype\": \"number\",\n        \"std\": 100.06242193279867,\n        \"min\": 109.99745471225556,\n        \"max\": 872.3496731997113,\n        \"num_unique_values\": 16000,\n        \"samples\": [\n          542.9821696141648,\n          401.41664943289817\n        ],\n        \"semantic_type\": \"\",\n        \"description\": \"\"\n      }\n    },\n    {\n      \"column\": \"Irrigation_Schedule\",\n      \"properties\": {\n        \"dtype\": \"number\",\n        \"std\": 2,\n        \"min\": 0,\n        \"max\": 15,\n        \"num_unique_values\": 16,\n        \"samples\": [\n          3,\n          7\n        ],\n        \"semantic_type\": \"\",\n        \"description\": \"\"\n      }\n    },\n    {\n      \"column\": \"Yield_kg_per_hectare\",\n      \"properties\": {\n        \"dtype\": \"number\",\n        \"std\": 202.2109137522895,\n        \"min\": 57.51489114958822,\n        \"max\": 1385.1136002632345,\n        \"num_unique_values\": 16000,\n        \"samples\": [\n          800.9592200534809,\n          816.9273035129353\n        ],\n        \"semantic_type\": \"\",\n        \"description\": \"\"\n      }\n    }\n  ]\n}"
            }
          },
          "metadata": {},
          "execution_count": 3
        }
      ]
    },
    {
      "cell_type": "code",
      "source": [
        "test=pd.read_csv('/content/drive/MyDrive/Colab Notebooks/9data/agricultural_yield_test.csv')\n",
        "test.head()"
      ],
      "metadata": {
        "execution": {
          "iopub.status.busy": "2024-03-24T13:07:38.002495Z",
          "iopub.execute_input": "2024-03-24T13:07:38.003184Z",
          "iopub.status.idle": "2024-03-24T13:07:38.028902Z",
          "shell.execute_reply.started": "2024-03-24T13:07:38.003144Z",
          "shell.execute_reply": "2024-03-24T13:07:38.027498Z"
        },
        "trusted": true,
        "colab": {
          "base_uri": "https://localhost:8080/",
          "height": 206
        },
        "id": "ldYob1f2AscV",
        "outputId": "a4b758c9-3d49-4d72-f427-5e20b746bde5"
      },
      "execution_count": null,
      "outputs": [
        {
          "output_type": "execute_result",
          "data": {
            "text/plain": [
              "   Soil_Quality  Seed_Variety  Fertilizer_Amount_kg_per_hectare  Sunny_Days  \\\n",
              "0     93.304721             0                        132.522218   96.670922   \n",
              "1     83.674653             1                         57.283997   99.007556   \n",
              "2     65.963033             1                        227.895479  104.844272   \n",
              "3     78.692834             1                        176.314126   90.136191   \n",
              "4     72.415684             1                        160.070418  101.221668   \n",
              "\n",
              "   Rainfall_mm  Irrigation_Schedule  Yield_kg_per_hectare  \n",
              "0   602.386237                    3            278.986563  \n",
              "1   466.518251                    8            836.434840  \n",
              "2   510.320495                    4            785.881787  \n",
              "3   354.350914                    5            807.884526  \n",
              "4   443.993788                   10           1064.542374  "
            ],
            "text/html": [
              "\n",
              "  <div id=\"df-cfda50b4-6f4c-4ffc-a2b7-167a2394e18f\" class=\"colab-df-container\">\n",
              "    <div>\n",
              "<style scoped>\n",
              "    .dataframe tbody tr th:only-of-type {\n",
              "        vertical-align: middle;\n",
              "    }\n",
              "\n",
              "    .dataframe tbody tr th {\n",
              "        vertical-align: top;\n",
              "    }\n",
              "\n",
              "    .dataframe thead th {\n",
              "        text-align: right;\n",
              "    }\n",
              "</style>\n",
              "<table border=\"1\" class=\"dataframe\">\n",
              "  <thead>\n",
              "    <tr style=\"text-align: right;\">\n",
              "      <th></th>\n",
              "      <th>Soil_Quality</th>\n",
              "      <th>Seed_Variety</th>\n",
              "      <th>Fertilizer_Amount_kg_per_hectare</th>\n",
              "      <th>Sunny_Days</th>\n",
              "      <th>Rainfall_mm</th>\n",
              "      <th>Irrigation_Schedule</th>\n",
              "      <th>Yield_kg_per_hectare</th>\n",
              "    </tr>\n",
              "  </thead>\n",
              "  <tbody>\n",
              "    <tr>\n",
              "      <th>0</th>\n",
              "      <td>93.304721</td>\n",
              "      <td>0</td>\n",
              "      <td>132.522218</td>\n",
              "      <td>96.670922</td>\n",
              "      <td>602.386237</td>\n",
              "      <td>3</td>\n",
              "      <td>278.986563</td>\n",
              "    </tr>\n",
              "    <tr>\n",
              "      <th>1</th>\n",
              "      <td>83.674653</td>\n",
              "      <td>1</td>\n",
              "      <td>57.283997</td>\n",
              "      <td>99.007556</td>\n",
              "      <td>466.518251</td>\n",
              "      <td>8</td>\n",
              "      <td>836.434840</td>\n",
              "    </tr>\n",
              "    <tr>\n",
              "      <th>2</th>\n",
              "      <td>65.963033</td>\n",
              "      <td>1</td>\n",
              "      <td>227.895479</td>\n",
              "      <td>104.844272</td>\n",
              "      <td>510.320495</td>\n",
              "      <td>4</td>\n",
              "      <td>785.881787</td>\n",
              "    </tr>\n",
              "    <tr>\n",
              "      <th>3</th>\n",
              "      <td>78.692834</td>\n",
              "      <td>1</td>\n",
              "      <td>176.314126</td>\n",
              "      <td>90.136191</td>\n",
              "      <td>354.350914</td>\n",
              "      <td>5</td>\n",
              "      <td>807.884526</td>\n",
              "    </tr>\n",
              "    <tr>\n",
              "      <th>4</th>\n",
              "      <td>72.415684</td>\n",
              "      <td>1</td>\n",
              "      <td>160.070418</td>\n",
              "      <td>101.221668</td>\n",
              "      <td>443.993788</td>\n",
              "      <td>10</td>\n",
              "      <td>1064.542374</td>\n",
              "    </tr>\n",
              "  </tbody>\n",
              "</table>\n",
              "</div>\n",
              "    <div class=\"colab-df-buttons\">\n",
              "\n",
              "  <div class=\"colab-df-container\">\n",
              "    <button class=\"colab-df-convert\" onclick=\"convertToInteractive('df-cfda50b4-6f4c-4ffc-a2b7-167a2394e18f')\"\n",
              "            title=\"Convert this dataframe to an interactive table.\"\n",
              "            style=\"display:none;\">\n",
              "\n",
              "  <svg xmlns=\"http://www.w3.org/2000/svg\" height=\"24px\" viewBox=\"0 -960 960 960\">\n",
              "    <path d=\"M120-120v-720h720v720H120Zm60-500h600v-160H180v160Zm220 220h160v-160H400v160Zm0 220h160v-160H400v160ZM180-400h160v-160H180v160Zm440 0h160v-160H620v160ZM180-180h160v-160H180v160Zm440 0h160v-160H620v160Z\"/>\n",
              "  </svg>\n",
              "    </button>\n",
              "\n",
              "  <style>\n",
              "    .colab-df-container {\n",
              "      display:flex;\n",
              "      gap: 12px;\n",
              "    }\n",
              "\n",
              "    .colab-df-convert {\n",
              "      background-color: #E8F0FE;\n",
              "      border: none;\n",
              "      border-radius: 50%;\n",
              "      cursor: pointer;\n",
              "      display: none;\n",
              "      fill: #1967D2;\n",
              "      height: 32px;\n",
              "      padding: 0 0 0 0;\n",
              "      width: 32px;\n",
              "    }\n",
              "\n",
              "    .colab-df-convert:hover {\n",
              "      background-color: #E2EBFA;\n",
              "      box-shadow: 0px 1px 2px rgba(60, 64, 67, 0.3), 0px 1px 3px 1px rgba(60, 64, 67, 0.15);\n",
              "      fill: #174EA6;\n",
              "    }\n",
              "\n",
              "    .colab-df-buttons div {\n",
              "      margin-bottom: 4px;\n",
              "    }\n",
              "\n",
              "    [theme=dark] .colab-df-convert {\n",
              "      background-color: #3B4455;\n",
              "      fill: #D2E3FC;\n",
              "    }\n",
              "\n",
              "    [theme=dark] .colab-df-convert:hover {\n",
              "      background-color: #434B5C;\n",
              "      box-shadow: 0px 1px 3px 1px rgba(0, 0, 0, 0.15);\n",
              "      filter: drop-shadow(0px 1px 2px rgba(0, 0, 0, 0.3));\n",
              "      fill: #FFFFFF;\n",
              "    }\n",
              "  </style>\n",
              "\n",
              "    <script>\n",
              "      const buttonEl =\n",
              "        document.querySelector('#df-cfda50b4-6f4c-4ffc-a2b7-167a2394e18f button.colab-df-convert');\n",
              "      buttonEl.style.display =\n",
              "        google.colab.kernel.accessAllowed ? 'block' : 'none';\n",
              "\n",
              "      async function convertToInteractive(key) {\n",
              "        const element = document.querySelector('#df-cfda50b4-6f4c-4ffc-a2b7-167a2394e18f');\n",
              "        const dataTable =\n",
              "          await google.colab.kernel.invokeFunction('convertToInteractive',\n",
              "                                                    [key], {});\n",
              "        if (!dataTable) return;\n",
              "\n",
              "        const docLinkHtml = 'Like what you see? Visit the ' +\n",
              "          '<a target=\"_blank\" href=https://colab.research.google.com/notebooks/data_table.ipynb>data table notebook</a>'\n",
              "          + ' to learn more about interactive tables.';\n",
              "        element.innerHTML = '';\n",
              "        dataTable['output_type'] = 'display_data';\n",
              "        await google.colab.output.renderOutput(dataTable, element);\n",
              "        const docLink = document.createElement('div');\n",
              "        docLink.innerHTML = docLinkHtml;\n",
              "        element.appendChild(docLink);\n",
              "      }\n",
              "    </script>\n",
              "  </div>\n",
              "\n",
              "\n",
              "<div id=\"df-0cd5ad3f-556a-4ae0-a29d-55392cafa5c1\">\n",
              "  <button class=\"colab-df-quickchart\" onclick=\"quickchart('df-0cd5ad3f-556a-4ae0-a29d-55392cafa5c1')\"\n",
              "            title=\"Suggest charts\"\n",
              "            style=\"display:none;\">\n",
              "\n",
              "<svg xmlns=\"http://www.w3.org/2000/svg\" height=\"24px\"viewBox=\"0 0 24 24\"\n",
              "     width=\"24px\">\n",
              "    <g>\n",
              "        <path d=\"M19 3H5c-1.1 0-2 .9-2 2v14c0 1.1.9 2 2 2h14c1.1 0 2-.9 2-2V5c0-1.1-.9-2-2-2zM9 17H7v-7h2v7zm4 0h-2V7h2v10zm4 0h-2v-4h2v4z\"/>\n",
              "    </g>\n",
              "</svg>\n",
              "  </button>\n",
              "\n",
              "<style>\n",
              "  .colab-df-quickchart {\n",
              "      --bg-color: #E8F0FE;\n",
              "      --fill-color: #1967D2;\n",
              "      --hover-bg-color: #E2EBFA;\n",
              "      --hover-fill-color: #174EA6;\n",
              "      --disabled-fill-color: #AAA;\n",
              "      --disabled-bg-color: #DDD;\n",
              "  }\n",
              "\n",
              "  [theme=dark] .colab-df-quickchart {\n",
              "      --bg-color: #3B4455;\n",
              "      --fill-color: #D2E3FC;\n",
              "      --hover-bg-color: #434B5C;\n",
              "      --hover-fill-color: #FFFFFF;\n",
              "      --disabled-bg-color: #3B4455;\n",
              "      --disabled-fill-color: #666;\n",
              "  }\n",
              "\n",
              "  .colab-df-quickchart {\n",
              "    background-color: var(--bg-color);\n",
              "    border: none;\n",
              "    border-radius: 50%;\n",
              "    cursor: pointer;\n",
              "    display: none;\n",
              "    fill: var(--fill-color);\n",
              "    height: 32px;\n",
              "    padding: 0;\n",
              "    width: 32px;\n",
              "  }\n",
              "\n",
              "  .colab-df-quickchart:hover {\n",
              "    background-color: var(--hover-bg-color);\n",
              "    box-shadow: 0 1px 2px rgba(60, 64, 67, 0.3), 0 1px 3px 1px rgba(60, 64, 67, 0.15);\n",
              "    fill: var(--button-hover-fill-color);\n",
              "  }\n",
              "\n",
              "  .colab-df-quickchart-complete:disabled,\n",
              "  .colab-df-quickchart-complete:disabled:hover {\n",
              "    background-color: var(--disabled-bg-color);\n",
              "    fill: var(--disabled-fill-color);\n",
              "    box-shadow: none;\n",
              "  }\n",
              "\n",
              "  .colab-df-spinner {\n",
              "    border: 2px solid var(--fill-color);\n",
              "    border-color: transparent;\n",
              "    border-bottom-color: var(--fill-color);\n",
              "    animation:\n",
              "      spin 1s steps(1) infinite;\n",
              "  }\n",
              "\n",
              "  @keyframes spin {\n",
              "    0% {\n",
              "      border-color: transparent;\n",
              "      border-bottom-color: var(--fill-color);\n",
              "      border-left-color: var(--fill-color);\n",
              "    }\n",
              "    20% {\n",
              "      border-color: transparent;\n",
              "      border-left-color: var(--fill-color);\n",
              "      border-top-color: var(--fill-color);\n",
              "    }\n",
              "    30% {\n",
              "      border-color: transparent;\n",
              "      border-left-color: var(--fill-color);\n",
              "      border-top-color: var(--fill-color);\n",
              "      border-right-color: var(--fill-color);\n",
              "    }\n",
              "    40% {\n",
              "      border-color: transparent;\n",
              "      border-right-color: var(--fill-color);\n",
              "      border-top-color: var(--fill-color);\n",
              "    }\n",
              "    60% {\n",
              "      border-color: transparent;\n",
              "      border-right-color: var(--fill-color);\n",
              "    }\n",
              "    80% {\n",
              "      border-color: transparent;\n",
              "      border-right-color: var(--fill-color);\n",
              "      border-bottom-color: var(--fill-color);\n",
              "    }\n",
              "    90% {\n",
              "      border-color: transparent;\n",
              "      border-bottom-color: var(--fill-color);\n",
              "    }\n",
              "  }\n",
              "</style>\n",
              "\n",
              "  <script>\n",
              "    async function quickchart(key) {\n",
              "      const quickchartButtonEl =\n",
              "        document.querySelector('#' + key + ' button');\n",
              "      quickchartButtonEl.disabled = true;  // To prevent multiple clicks.\n",
              "      quickchartButtonEl.classList.add('colab-df-spinner');\n",
              "      try {\n",
              "        const charts = await google.colab.kernel.invokeFunction(\n",
              "            'suggestCharts', [key], {});\n",
              "      } catch (error) {\n",
              "        console.error('Error during call to suggestCharts:', error);\n",
              "      }\n",
              "      quickchartButtonEl.classList.remove('colab-df-spinner');\n",
              "      quickchartButtonEl.classList.add('colab-df-quickchart-complete');\n",
              "    }\n",
              "    (() => {\n",
              "      let quickchartButtonEl =\n",
              "        document.querySelector('#df-0cd5ad3f-556a-4ae0-a29d-55392cafa5c1 button');\n",
              "      quickchartButtonEl.style.display =\n",
              "        google.colab.kernel.accessAllowed ? 'block' : 'none';\n",
              "    })();\n",
              "  </script>\n",
              "</div>\n",
              "\n",
              "    </div>\n",
              "  </div>\n"
            ],
            "application/vnd.google.colaboratory.intrinsic+json": {
              "type": "dataframe",
              "variable_name": "test",
              "summary": "{\n  \"name\": \"test\",\n  \"rows\": 4000,\n  \"fields\": [\n    {\n      \"column\": \"Soil_Quality\",\n      \"properties\": {\n        \"dtype\": \"number\",\n        \"std\": 14.49629809978564,\n        \"min\": 50.00362248192461,\n        \"max\": 99.99889758903616,\n        \"num_unique_values\": 4000,\n        \"samples\": [\n          95.50271972004408,\n          53.82433845151427,\n          75.36597041666013\n        ],\n        \"semantic_type\": \"\",\n        \"description\": \"\"\n      }\n    },\n    {\n      \"column\": \"Seed_Variety\",\n      \"properties\": {\n        \"dtype\": \"number\",\n        \"std\": 0,\n        \"min\": 0,\n        \"max\": 1,\n        \"num_unique_values\": 2,\n        \"samples\": [\n          1,\n          0\n        ],\n        \"semantic_type\": \"\",\n        \"description\": \"\"\n      }\n    },\n    {\n      \"column\": \"Fertilizer_Amount_kg_per_hectare\",\n      \"properties\": {\n        \"dtype\": \"number\",\n        \"std\": 72.29867114468188,\n        \"min\": 50.06265491148749,\n        \"max\": 299.9920540908917,\n        \"num_unique_values\": 4000,\n        \"samples\": [\n          186.1346037945725,\n          227.7865002948423\n        ],\n        \"semantic_type\": \"\",\n        \"description\": \"\"\n      }\n    },\n    {\n      \"column\": \"Sunny_Days\",\n      \"properties\": {\n        \"dtype\": \"number\",\n        \"std\": 9.888546719083823,\n        \"min\": 66.72446890908668,\n        \"max\": 138.52020171941672,\n        \"num_unique_values\": 4000,\n        \"samples\": [\n          98.13196843484536,\n          91.98725384045028\n        ],\n        \"semantic_type\": \"\",\n        \"description\": \"\"\n      }\n    },\n    {\n      \"column\": \"Rainfall_mm\",\n      \"properties\": {\n        \"dtype\": \"number\",\n        \"std\": 99.22276744946465,\n        \"min\": 102.0075178449252,\n        \"max\": 876.694216751489,\n        \"num_unique_values\": 4000,\n        \"samples\": [\n          703.2501821697401,\n          457.5334785515781\n        ],\n        \"semantic_type\": \"\",\n        \"description\": \"\"\n      }\n    },\n    {\n      \"column\": \"Irrigation_Schedule\",\n      \"properties\": {\n        \"dtype\": \"number\",\n        \"std\": 2,\n        \"min\": 0,\n        \"max\": 15,\n        \"num_unique_values\": 16,\n        \"samples\": [\n          3,\n          8\n        ],\n        \"semantic_type\": \"\",\n        \"description\": \"\"\n      }\n    },\n    {\n      \"column\": \"Yield_kg_per_hectare\",\n      \"properties\": {\n        \"dtype\": \"number\",\n        \"std\": 199.4976211764372,\n        \"min\": 108.25242093283045,\n        \"max\": 1406.1107054578508,\n        \"num_unique_values\": 4000,\n        \"samples\": [\n          422.5437450375383,\n          588.6214974453133\n        ],\n        \"semantic_type\": \"\",\n        \"description\": \"\"\n      }\n    }\n  ]\n}"
            }
          },
          "metadata": {},
          "execution_count": 4
        }
      ]
    },
    {
      "cell_type": "code",
      "source": [
        "train.shape"
      ],
      "metadata": {
        "execution": {
          "iopub.status.busy": "2024-03-24T13:07:38.030278Z",
          "iopub.execute_input": "2024-03-24T13:07:38.030766Z",
          "iopub.status.idle": "2024-03-24T13:07:38.03708Z",
          "shell.execute_reply.started": "2024-03-24T13:07:38.030739Z",
          "shell.execute_reply": "2024-03-24T13:07:38.035863Z"
        },
        "trusted": true,
        "colab": {
          "base_uri": "https://localhost:8080/"
        },
        "id": "tcnR1D6iAscW",
        "outputId": "0c877a9a-3417-47f4-9df9-3bc48a65f09f"
      },
      "execution_count": null,
      "outputs": [
        {
          "output_type": "execute_result",
          "data": {
            "text/plain": [
              "(16000, 7)"
            ]
          },
          "metadata": {},
          "execution_count": 5
        }
      ]
    },
    {
      "cell_type": "code",
      "source": [
        "test.shape"
      ],
      "metadata": {
        "execution": {
          "iopub.status.busy": "2024-03-24T13:07:38.038837Z",
          "iopub.execute_input": "2024-03-24T13:07:38.039167Z",
          "iopub.status.idle": "2024-03-24T13:07:38.049888Z",
          "shell.execute_reply.started": "2024-03-24T13:07:38.039139Z",
          "shell.execute_reply": "2024-03-24T13:07:38.048966Z"
        },
        "trusted": true,
        "colab": {
          "base_uri": "https://localhost:8080/"
        },
        "id": "mY1xlVxGAscW",
        "outputId": "7d6867ca-562e-4274-93e6-149180baf18c"
      },
      "execution_count": null,
      "outputs": [
        {
          "output_type": "execute_result",
          "data": {
            "text/plain": [
              "(4000, 7)"
            ]
          },
          "metadata": {},
          "execution_count": 6
        }
      ]
    },
    {
      "cell_type": "code",
      "source": [
        "ytrain=train['Yield_kg_per_hectare']\n",
        "xtrain=train.drop('Yield_kg_per_hectare',axis=1)"
      ],
      "metadata": {
        "execution": {
          "iopub.status.busy": "2024-03-24T13:07:38.051401Z",
          "iopub.execute_input": "2024-03-24T13:07:38.052062Z",
          "iopub.status.idle": "2024-03-24T13:07:38.063156Z",
          "shell.execute_reply.started": "2024-03-24T13:07:38.052032Z",
          "shell.execute_reply": "2024-03-24T13:07:38.062169Z"
        },
        "trusted": true,
        "id": "KdL4lSayAscW"
      },
      "execution_count": null,
      "outputs": []
    },
    {
      "cell_type": "code",
      "source": [
        "ytest=test['Yield_kg_per_hectare']\n",
        "xtest=test.drop('Yield_kg_per_hectare',axis=1)"
      ],
      "metadata": {
        "execution": {
          "iopub.status.busy": "2024-03-24T13:07:38.064894Z",
          "iopub.execute_input": "2024-03-24T13:07:38.065734Z",
          "iopub.status.idle": "2024-03-24T13:07:38.074836Z",
          "shell.execute_reply.started": "2024-03-24T13:07:38.065685Z",
          "shell.execute_reply": "2024-03-24T13:07:38.073824Z"
        },
        "trusted": true,
        "id": "2WEGf8ayAscX"
      },
      "execution_count": null,
      "outputs": []
    },
    {
      "cell_type": "code",
      "source": [
        "from sklearn.ensemble import RandomForestRegressor\n",
        "from sklearn.metrics import r2_score,mean_squared_error"
      ],
      "metadata": {
        "execution": {
          "iopub.status.busy": "2024-03-24T13:11:19.667546Z",
          "iopub.execute_input": "2024-03-24T13:11:19.667954Z",
          "iopub.status.idle": "2024-03-24T13:11:19.673117Z",
          "shell.execute_reply.started": "2024-03-24T13:11:19.667926Z",
          "shell.execute_reply": "2024-03-24T13:11:19.671901Z"
        },
        "trusted": true,
        "id": "5IM3Bf-qAscX"
      },
      "execution_count": null,
      "outputs": []
    },
    {
      "cell_type": "code",
      "source": [
        "rf=RandomForestRegressor()\n",
        "rf_model=rf.fit(xtrain,ytrain)\n",
        "rf_model"
      ],
      "metadata": {
        "execution": {
          "iopub.status.busy": "2024-03-24T13:07:38.12728Z",
          "iopub.execute_input": "2024-03-24T13:07:38.128038Z",
          "iopub.status.idle": "2024-03-24T13:07:45.199711Z",
          "shell.execute_reply.started": "2024-03-24T13:07:38.127995Z",
          "shell.execute_reply": "2024-03-24T13:07:45.198535Z"
        },
        "trusted": true,
        "colab": {
          "base_uri": "https://localhost:8080/",
          "height": 75
        },
        "id": "IFYpVqCdAscY",
        "outputId": "312890a6-e4b7-42f4-9f80-60a498083099"
      },
      "execution_count": null,
      "outputs": [
        {
          "output_type": "execute_result",
          "data": {
            "text/plain": [
              "RandomForestRegressor()"
            ],
            "text/html": [
              "<style>#sk-container-id-1 {color: black;background-color: white;}#sk-container-id-1 pre{padding: 0;}#sk-container-id-1 div.sk-toggleable {background-color: white;}#sk-container-id-1 label.sk-toggleable__label {cursor: pointer;display: block;width: 100%;margin-bottom: 0;padding: 0.3em;box-sizing: border-box;text-align: center;}#sk-container-id-1 label.sk-toggleable__label-arrow:before {content: \"▸\";float: left;margin-right: 0.25em;color: #696969;}#sk-container-id-1 label.sk-toggleable__label-arrow:hover:before {color: black;}#sk-container-id-1 div.sk-estimator:hover label.sk-toggleable__label-arrow:before {color: black;}#sk-container-id-1 div.sk-toggleable__content {max-height: 0;max-width: 0;overflow: hidden;text-align: left;background-color: #f0f8ff;}#sk-container-id-1 div.sk-toggleable__content pre {margin: 0.2em;color: black;border-radius: 0.25em;background-color: #f0f8ff;}#sk-container-id-1 input.sk-toggleable__control:checked~div.sk-toggleable__content {max-height: 200px;max-width: 100%;overflow: auto;}#sk-container-id-1 input.sk-toggleable__control:checked~label.sk-toggleable__label-arrow:before {content: \"▾\";}#sk-container-id-1 div.sk-estimator input.sk-toggleable__control:checked~label.sk-toggleable__label {background-color: #d4ebff;}#sk-container-id-1 div.sk-label input.sk-toggleable__control:checked~label.sk-toggleable__label {background-color: #d4ebff;}#sk-container-id-1 input.sk-hidden--visually {border: 0;clip: rect(1px 1px 1px 1px);clip: rect(1px, 1px, 1px, 1px);height: 1px;margin: -1px;overflow: hidden;padding: 0;position: absolute;width: 1px;}#sk-container-id-1 div.sk-estimator {font-family: monospace;background-color: #f0f8ff;border: 1px dotted black;border-radius: 0.25em;box-sizing: border-box;margin-bottom: 0.5em;}#sk-container-id-1 div.sk-estimator:hover {background-color: #d4ebff;}#sk-container-id-1 div.sk-parallel-item::after {content: \"\";width: 100%;border-bottom: 1px solid gray;flex-grow: 1;}#sk-container-id-1 div.sk-label:hover label.sk-toggleable__label {background-color: #d4ebff;}#sk-container-id-1 div.sk-serial::before {content: \"\";position: absolute;border-left: 1px solid gray;box-sizing: border-box;top: 0;bottom: 0;left: 50%;z-index: 0;}#sk-container-id-1 div.sk-serial {display: flex;flex-direction: column;align-items: center;background-color: white;padding-right: 0.2em;padding-left: 0.2em;position: relative;}#sk-container-id-1 div.sk-item {position: relative;z-index: 1;}#sk-container-id-1 div.sk-parallel {display: flex;align-items: stretch;justify-content: center;background-color: white;position: relative;}#sk-container-id-1 div.sk-item::before, #sk-container-id-1 div.sk-parallel-item::before {content: \"\";position: absolute;border-left: 1px solid gray;box-sizing: border-box;top: 0;bottom: 0;left: 50%;z-index: -1;}#sk-container-id-1 div.sk-parallel-item {display: flex;flex-direction: column;z-index: 1;position: relative;background-color: white;}#sk-container-id-1 div.sk-parallel-item:first-child::after {align-self: flex-end;width: 50%;}#sk-container-id-1 div.sk-parallel-item:last-child::after {align-self: flex-start;width: 50%;}#sk-container-id-1 div.sk-parallel-item:only-child::after {width: 0;}#sk-container-id-1 div.sk-dashed-wrapped {border: 1px dashed gray;margin: 0 0.4em 0.5em 0.4em;box-sizing: border-box;padding-bottom: 0.4em;background-color: white;}#sk-container-id-1 div.sk-label label {font-family: monospace;font-weight: bold;display: inline-block;line-height: 1.2em;}#sk-container-id-1 div.sk-label-container {text-align: center;}#sk-container-id-1 div.sk-container {/* jupyter's `normalize.less` sets `[hidden] { display: none; }` but bootstrap.min.css set `[hidden] { display: none !important; }` so we also need the `!important` here to be able to override the default hidden behavior on the sphinx rendered scikit-learn.org. See: https://github.com/scikit-learn/scikit-learn/issues/21755 */display: inline-block !important;position: relative;}#sk-container-id-1 div.sk-text-repr-fallback {display: none;}</style><div id=\"sk-container-id-1\" class=\"sk-top-container\"><div class=\"sk-text-repr-fallback\"><pre>RandomForestRegressor()</pre><b>In a Jupyter environment, please rerun this cell to show the HTML representation or trust the notebook. <br />On GitHub, the HTML representation is unable to render, please try loading this page with nbviewer.org.</b></div><div class=\"sk-container\" hidden><div class=\"sk-item\"><div class=\"sk-estimator sk-toggleable\"><input class=\"sk-toggleable__control sk-hidden--visually\" id=\"sk-estimator-id-1\" type=\"checkbox\" checked><label for=\"sk-estimator-id-1\" class=\"sk-toggleable__label sk-toggleable__label-arrow\">RandomForestRegressor</label><div class=\"sk-toggleable__content\"><pre>RandomForestRegressor()</pre></div></div></div></div></div>"
            ]
          },
          "metadata": {},
          "execution_count": 10
        }
      ]
    },
    {
      "cell_type": "code",
      "source": [
        "ypred = rf_model.predict(xtest)\n",
        "ypred"
      ],
      "metadata": {
        "execution": {
          "iopub.status.busy": "2024-03-24T13:07:45.203781Z",
          "iopub.execute_input": "2024-03-24T13:07:45.204104Z",
          "iopub.status.idle": "2024-03-24T13:07:45.342634Z",
          "shell.execute_reply.started": "2024-03-24T13:07:45.204076Z",
          "shell.execute_reply": "2024-03-24T13:07:45.341544Z"
        },
        "trusted": true,
        "colab": {
          "base_uri": "https://localhost:8080/"
        },
        "id": "xkrnAcSUAscY",
        "outputId": "7914143f-7f64-4d04-a4a7-d5479ca7e4cb"
      },
      "execution_count": null,
      "outputs": [
        {
          "output_type": "execute_result",
          "data": {
            "text/plain": [
              "array([316.83207393, 880.58314574, 771.72909946, ..., 771.17594423,\n",
              "       534.56309396, 313.87873095])"
            ]
          },
          "metadata": {},
          "execution_count": 11
        }
      ]
    },
    {
      "cell_type": "code",
      "source": [
        "r2_score(ytest,ypred)"
      ],
      "metadata": {
        "execution": {
          "iopub.status.busy": "2024-03-24T13:12:11.69933Z",
          "iopub.execute_input": "2024-03-24T13:12:11.699725Z",
          "iopub.status.idle": "2024-03-24T13:12:11.707915Z",
          "shell.execute_reply.started": "2024-03-24T13:12:11.699697Z",
          "shell.execute_reply": "2024-03-24T13:12:11.706298Z"
        },
        "trusted": true,
        "colab": {
          "base_uri": "https://localhost:8080/"
        },
        "id": "du72ncEIAscZ",
        "outputId": "528b70f0-1a3b-4d24-b5aa-6375807afe5c"
      },
      "execution_count": null,
      "outputs": [
        {
          "output_type": "execute_result",
          "data": {
            "text/plain": [
              "0.9238624172639334"
            ]
          },
          "metadata": {},
          "execution_count": 12
        }
      ]
    },
    {
      "cell_type": "markdown",
      "source": [
        "seaborn.kdeplot: https://seaborn.pydata.org/generated/seaborn.kdeplot.html\n",
        "\n",
        "* カーネル密度推定プロット（KDE）を作成するにはkdeplot()を使用します。\n",
        "* Use kdeplot() to create a kernel density estimation plot (KDE)."
      ],
      "metadata": {
        "id": "5qSE0xOBUyq2"
      }
    },
    {
      "cell_type": "code",
      "source": [
        "sns.kdeplot(ytest-ypred)\n",
        "plt.grid()\n",
        "plt.show()"
      ],
      "metadata": {
        "execution": {
          "iopub.status.busy": "2024-03-24T13:13:13.84757Z",
          "iopub.execute_input": "2024-03-24T13:13:13.848033Z",
          "iopub.status.idle": "2024-03-24T13:13:14.177388Z",
          "shell.execute_reply.started": "2024-03-24T13:13:13.848003Z",
          "shell.execute_reply": "2024-03-24T13:13:14.176283Z"
        },
        "trusted": true,
        "colab": {
          "base_uri": "https://localhost:8080/",
          "height": 465
        },
        "id": "yQaodZmpAsca",
        "outputId": "18e57cea-f30d-4710-909a-e7647ce2bd37"
      },
      "execution_count": null,
      "outputs": [
        {
          "output_type": "display_data",
          "data": {
            "text/plain": [
              "<Figure size 1000x500 with 1 Axes>"
            ],
            "image/png": "[encoded data removed]"
          },
          "metadata": {}
        }
      ]
    },
    {
      "cell_type": "code",
      "source": [
        "plt.barh(xtrain.columns,rf_model.feature_importances_)\n",
        "plt.show()"
      ],
      "metadata": {
        "execution": {
          "iopub.status.busy": "2024-03-24T13:10:05.761619Z",
          "iopub.execute_input": "2024-03-24T13:10:05.762048Z",
          "iopub.status.idle": "2024-03-24T13:10:06.042385Z",
          "shell.execute_reply.started": "2024-03-24T13:10:05.762013Z",
          "shell.execute_reply": "2024-03-24T13:10:06.041196Z"
        },
        "trusted": true,
        "colab": {
          "base_uri": "https://localhost:8080/",
          "height": 445
        },
        "id": "W7dSnmVaAsca",
        "outputId": "a99ce0b1-25f0-4a0e-d173-71038b6025f1"
      },
      "execution_count": null,
      "outputs": [
        {
          "output_type": "display_data",
          "data": {
            "text/plain": [
              "<Figure size 1000x500 with 1 Axes>"
            ],
            "image/png": "[encoded data removed]"
          },
          "metadata": {}
        }
      ]
    }
  ]
}
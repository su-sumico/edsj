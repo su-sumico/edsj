{
  "nbformat": 4,
  "nbformat_minor": 0,
  "metadata": {
    "colab": {
      "provenance": [],
      "include_colab_link": true
    },
    "kernelspec": {
      "name": "python3",
      "display_name": "Python 3"
    }
  },
  "cells": [
    {
      "cell_type": "markdown",
      "metadata": {
        "id": "view-in-github",
        "colab_type": "text"
      },
      "source": [
        "<a href=\"https://colab.research.google.com/github/SU-sumico/edsj/blob/main/5_multiple_regression_lr1.ipynb\" target=\"_parent\"><img src=\"https://colab.research.google.com/assets/colab-badge.svg\" alt=\"Open In Colab\"/></a>"
      ]
    },
    {
      "cell_type": "markdown",
      "source": [
        "#####予測モデルの訓練の流れ\n",
        "1. データセットを訓練データとテストデータに分割\n",
        "2. 説明変数の標準化\n",
        "3. 予測モデルの指定\n",
        "4. 損失関数の指定\n",
        "5. 訓練データと損失関数を用いたモデルの訓練\n",
        "6. テストデータを用いたモデルの評価\n",
        "---\n",
        "#####Flow of training a predictive model\n",
        "1. split the dataset into training and test data\n",
        "2. standardize explanatory variables\n",
        "3. specify a predictive model \n",
        "4. specify a loss function\n",
        "5. train the model using the training data and the loss function \n",
        "6. evaluate the model using the test data"
      ],
      "metadata": {
        "id": "bzOyvqgHLI-v"
      }
    },
    {
      "cell_type": "markdown",
      "metadata": {
        "id": "tZixgDruxdZ3"
      },
      "source": [
        "######目的\n",
        "* **説明変数を標準化し**、住宅価格を予測する重回帰モデルを実装します。\n",
        "---\n",
        "######Objective\n",
        "* **Standardize the explanatory variables** and implement a multiple regression model to predict house prices."
      ]
    },
    {
      "cell_type": "code",
      "source": [
        "from google.colab import drive\n",
        "drive.mount('/content/drive')"
      ],
      "metadata": {
        "colab": {
          "base_uri": "https://localhost:8080/"
        },
        "id": "9E-KKtie1Wzt",
        "outputId": "6c23b7e1-55f4-46ca-a2e8-79dee6b03ead"
      },
      "execution_count": null,
      "outputs": [
        {
          "output_type": "stream",
          "name": "stdout",
          "text": [
            "Mounted at /content/drive\n"
          ]
        }
      ]
    },
    {
      "cell_type": "code",
      "metadata": {
        "id": "WLm7Urx2xdaC"
      },
      "source": [
        "# ライブラリのインポート/Import libraries\n",
        "%matplotlib inline\n",
        "import matplotlib.pyplot as plt\n",
        "import numpy as np\n",
        "import pandas as pd\n",
        "from sklearn.linear_model import LinearRegression\n",
        "from sklearn.preprocessing import StandardScaler\n",
        "from sklearn.model_selection import train_test_split\n",
        "from sklearn.metrics import mean_squared_error"
      ],
      "execution_count": null,
      "outputs": []
    },
    {
      "cell_type": "code",
      "metadata": {
        "outputId": "d94b41e0-2193-44ff-cebe-ead2834f2217",
        "id": "-RXp1DZ2xdaH",
        "colab": {
          "base_uri": "https://localhost:8080/",
          "height": 206
        }
      },
      "source": [
        "# データセットの読み込み/Load dataset\n",
        "df = pd.read_csv('/content/drive/MyDrive/Colab Notebooks/5data/housing.csv', header=None, sep='\\s+')\n",
        "df.columns = ['CRIM','ZN', 'INDUS', 'CHAS', 'NOX', 'RM', 'AGE', 'DIS', 'RAD', 'TAX', 'PTRATIO', 'B', 'LSTAT', 'MEDV']\n",
        "\n",
        "# 先頭5行の表示/Display the first 5 rows\n",
        "pd.DataFrame(df.head())"
      ],
      "execution_count": null,
      "outputs": [
        {
          "output_type": "execute_result",
          "data": {
            "text/plain": [
              "      CRIM    ZN  INDUS  CHAS    NOX     RM   AGE     DIS  RAD    TAX  \\\n",
              "0  0.00632  18.0   2.31     0  0.538  6.575  65.2  4.0900    1  296.0   \n",
              "1  0.02731   0.0   7.07     0  0.469  6.421  78.9  4.9671    2  242.0   \n",
              "2  0.02729   0.0   7.07     0  0.469  7.185  61.1  4.9671    2  242.0   \n",
              "3  0.03237   0.0   2.18     0  0.458  6.998  45.8  6.0622    3  222.0   \n",
              "4  0.06905   0.0   2.18     0  0.458  7.147  54.2  6.0622    3  222.0   \n",
              "\n",
              "   PTRATIO       B  LSTAT  MEDV  \n",
              "0     15.3  396.90   4.98  24.0  \n",
              "1     17.8  396.90   9.14  21.6  \n",
              "2     17.8  392.83   4.03  34.7  \n",
              "3     18.7  394.63   2.94  33.4  \n",
              "4     18.7  396.90   5.33  36.2  "
            ],
            "text/html": [
              "\n",
              "  <div id=\"df-8feacddc-0a52-4cc5-8fa1-29db9221ca0c\">\n",
              "    <div class=\"colab-df-container\">\n",
              "      <div>\n",
              "<style scoped>\n",
              "    .dataframe tbody tr th:only-of-type {\n",
              "        vertical-align: middle;\n",
              "    }\n",
              "\n",
              "    .dataframe tbody tr th {\n",
              "        vertical-align: top;\n",
              "    }\n",
              "\n",
              "    .dataframe thead th {\n",
              "        text-align: right;\n",
              "    }\n",
              "</style>\n",
              "<table border=\"1\" class=\"dataframe\">\n",
              "  <thead>\n",
              "    <tr style=\"text-align: right;\">\n",
              "      <th></th>\n",
              "      <th>CRIM</th>\n",
              "      <th>ZN</th>\n",
              "      <th>INDUS</th>\n",
              "      <th>CHAS</th>\n",
              "      <th>NOX</th>\n",
              "      <th>RM</th>\n",
              "      <th>AGE</th>\n",
              "      <th>DIS</th>\n",
              "      <th>RAD</th>\n",
              "      <th>TAX</th>\n",
              "      <th>PTRATIO</th>\n",
              "      <th>B</th>\n",
              "      <th>LSTAT</th>\n",
              "      <th>MEDV</th>\n",
              "    </tr>\n",
              "  </thead>\n",
              "  <tbody>\n",
              "    <tr>\n",
              "      <th>0</th>\n",
              "      <td>0.00632</td>\n",
              "      <td>18.0</td>\n",
              "      <td>2.31</td>\n",
              "      <td>0</td>\n",
              "      <td>0.538</td>\n",
              "      <td>6.575</td>\n",
              "      <td>65.2</td>\n",
              "      <td>4.0900</td>\n",
              "      <td>1</td>\n",
              "      <td>296.0</td>\n",
              "      <td>15.3</td>\n",
              "      <td>396.90</td>\n",
              "      <td>4.98</td>\n",
              "      <td>24.0</td>\n",
              "    </tr>\n",
              "    <tr>\n",
              "      <th>1</th>\n",
              "      <td>0.02731</td>\n",
              "      <td>0.0</td>\n",
              "      <td>7.07</td>\n",
              "      <td>0</td>\n",
              "      <td>0.469</td>\n",
              "      <td>6.421</td>\n",
              "      <td>78.9</td>\n",
              "      <td>4.9671</td>\n",
              "      <td>2</td>\n",
              "      <td>242.0</td>\n",
              "      <td>17.8</td>\n",
              "      <td>396.90</td>\n",
              "      <td>9.14</td>\n",
              "      <td>21.6</td>\n",
              "    </tr>\n",
              "    <tr>\n",
              "      <th>2</th>\n",
              "      <td>0.02729</td>\n",
              "      <td>0.0</td>\n",
              "      <td>7.07</td>\n",
              "      <td>0</td>\n",
              "      <td>0.469</td>\n",
              "      <td>7.185</td>\n",
              "      <td>61.1</td>\n",
              "      <td>4.9671</td>\n",
              "      <td>2</td>\n",
              "      <td>242.0</td>\n",
              "      <td>17.8</td>\n",
              "      <td>392.83</td>\n",
              "      <td>4.03</td>\n",
              "      <td>34.7</td>\n",
              "    </tr>\n",
              "    <tr>\n",
              "      <th>3</th>\n",
              "      <td>0.03237</td>\n",
              "      <td>0.0</td>\n",
              "      <td>2.18</td>\n",
              "      <td>0</td>\n",
              "      <td>0.458</td>\n",
              "      <td>6.998</td>\n",
              "      <td>45.8</td>\n",
              "      <td>6.0622</td>\n",
              "      <td>3</td>\n",
              "      <td>222.0</td>\n",
              "      <td>18.7</td>\n",
              "      <td>394.63</td>\n",
              "      <td>2.94</td>\n",
              "      <td>33.4</td>\n",
              "    </tr>\n",
              "    <tr>\n",
              "      <th>4</th>\n",
              "      <td>0.06905</td>\n",
              "      <td>0.0</td>\n",
              "      <td>2.18</td>\n",
              "      <td>0</td>\n",
              "      <td>0.458</td>\n",
              "      <td>7.147</td>\n",
              "      <td>54.2</td>\n",
              "      <td>6.0622</td>\n",
              "      <td>3</td>\n",
              "      <td>222.0</td>\n",
              "      <td>18.7</td>\n",
              "      <td>396.90</td>\n",
              "      <td>5.33</td>\n",
              "      <td>36.2</td>\n",
              "    </tr>\n",
              "  </tbody>\n",
              "</table>\n",
              "</div>\n",
              "      <button class=\"colab-df-convert\" onclick=\"convertToInteractive('df-8feacddc-0a52-4cc5-8fa1-29db9221ca0c')\"\n",
              "              title=\"Convert this dataframe to an interactive table.\"\n",
              "              style=\"display:none;\">\n",
              "        \n",
              "  <svg xmlns=\"http://www.w3.org/2000/svg\" height=\"24px\"viewBox=\"0 0 24 24\"\n",
              "       width=\"24px\">\n",
              "    <path d=\"M0 0h24v24H0V0z\" fill=\"none\"/>\n",
              "    <path d=\"M18.56 5.44l.94 2.06.94-2.06 2.06-.94-2.06-.94-.94-2.06-.94 2.06-2.06.94zm-11 1L8.5 8.5l.94-2.06 2.06-.94-2.06-.94L8.5 2.5l-.94 2.06-2.06.94zm10 10l.94 2.06.94-2.06 2.06-.94-2.06-.94-.94-2.06-.94 2.06-2.06.94z\"/><path d=\"M17.41 7.96l-1.37-1.37c-.4-.4-.92-.59-1.43-.59-.52 0-1.04.2-1.43.59L10.3 9.45l-7.72 7.72c-.78.78-.78 2.05 0 2.83L4 21.41c.39.39.9.59 1.41.59.51 0 1.02-.2 1.41-.59l7.78-7.78 2.81-2.81c.8-.78.8-2.07 0-2.86zM5.41 20L4 18.59l7.72-7.72 1.47 1.35L5.41 20z\"/>\n",
              "  </svg>\n",
              "      </button>\n",
              "      \n",
              "  <style>\n",
              "    .colab-df-container {\n",
              "      display:flex;\n",
              "      flex-wrap:wrap;\n",
              "      gap: 12px;\n",
              "    }\n",
              "\n",
              "    .colab-df-convert {\n",
              "      background-color: #E8F0FE;\n",
              "      border: none;\n",
              "      border-radius: 50%;\n",
              "      cursor: pointer;\n",
              "      display: none;\n",
              "      fill: #1967D2;\n",
              "      height: 32px;\n",
              "      padding: 0 0 0 0;\n",
              "      width: 32px;\n",
              "    }\n",
              "\n",
              "    .colab-df-convert:hover {\n",
              "      background-color: #E2EBFA;\n",
              "      box-shadow: 0px 1px 2px rgba(60, 64, 67, 0.3), 0px 1px 3px 1px rgba(60, 64, 67, 0.15);\n",
              "      fill: #174EA6;\n",
              "    }\n",
              "\n",
              "    [theme=dark] .colab-df-convert {\n",
              "      background-color: #3B4455;\n",
              "      fill: #D2E3FC;\n",
              "    }\n",
              "\n",
              "    [theme=dark] .colab-df-convert:hover {\n",
              "      background-color: #434B5C;\n",
              "      box-shadow: 0px 1px 3px 1px rgba(0, 0, 0, 0.15);\n",
              "      filter: drop-shadow(0px 1px 2px rgba(0, 0, 0, 0.3));\n",
              "      fill: #FFFFFF;\n",
              "    }\n",
              "  </style>\n",
              "\n",
              "      <script>\n",
              "        const buttonEl =\n",
              "          document.querySelector('#df-8feacddc-0a52-4cc5-8fa1-29db9221ca0c button.colab-df-convert');\n",
              "        buttonEl.style.display =\n",
              "          google.colab.kernel.accessAllowed ? 'block' : 'none';\n",
              "\n",
              "        async function convertToInteractive(key) {\n",
              "          const element = document.querySelector('#df-8feacddc-0a52-4cc5-8fa1-29db9221ca0c');\n",
              "          const dataTable =\n",
              "            await google.colab.kernel.invokeFunction('convertToInteractive',\n",
              "                                                     [key], {});\n",
              "          if (!dataTable) return;\n",
              "\n",
              "          const docLinkHtml = 'Like what you see? Visit the ' +\n",
              "            '<a target=\"_blank\" href=https://colab.research.google.com/notebooks/data_table.ipynb>data table notebook</a>'\n",
              "            + ' to learn more about interactive tables.';\n",
              "          element.innerHTML = '';\n",
              "          dataTable['output_type'] = 'display_data';\n",
              "          await google.colab.output.renderOutput(dataTable, element);\n",
              "          const docLink = document.createElement('div');\n",
              "          docLink.innerHTML = docLinkHtml;\n",
              "          element.appendChild(docLink);\n",
              "        }\n",
              "      </script>\n",
              "    </div>\n",
              "  </div>\n",
              "  "
            ]
          },
          "metadata": {},
          "execution_count": 3
        }
      ]
    },
    {
      "cell_type": "code",
      "source": [
        "# 説明変数Xと目的変数yの設定\n",
        "# Set explanatory variable X and target variable y\n",
        "# 全ての説明変数を選択/Select all explanatory variables\n",
        "X=df.iloc[:, 0:13].values\n",
        "# 目的変数に住宅価格(MDEV)を設定/Set housing price (MDEV) as the target variable\n",
        "y = df['MEDV'].values\n",
        "\n",
        "# 説明変数と目的変数の先頭3行を表示/Display the first three rows of the explanatory and target variables\n",
        "X[:3], y[:3]"
      ],
      "metadata": {
        "colab": {
          "base_uri": "https://localhost:8080/"
        },
        "id": "g9WH8GYmXZQX",
        "outputId": "84a3b94d-42b2-4b4d-c5ff-f724ac334cfc"
      },
      "execution_count": null,
      "outputs": [
        {
          "output_type": "execute_result",
          "data": {
            "text/plain": [
              "(array([[6.3200e-03, 1.8000e+01, 2.3100e+00, 0.0000e+00, 5.3800e-01,\n",
              "         6.5750e+00, 6.5200e+01, 4.0900e+00, 1.0000e+00, 2.9600e+02,\n",
              "         1.5300e+01, 3.9690e+02, 4.9800e+00],\n",
              "        [2.7310e-02, 0.0000e+00, 7.0700e+00, 0.0000e+00, 4.6900e-01,\n",
              "         6.4210e+00, 7.8900e+01, 4.9671e+00, 2.0000e+00, 2.4200e+02,\n",
              "         1.7800e+01, 3.9690e+02, 9.1400e+00],\n",
              "        [2.7290e-02, 0.0000e+00, 7.0700e+00, 0.0000e+00, 4.6900e-01,\n",
              "         7.1850e+00, 6.1100e+01, 4.9671e+00, 2.0000e+00, 2.4200e+02,\n",
              "         1.7800e+01, 3.9283e+02, 4.0300e+00]]),\n",
              " array([24. , 21.6, 34.7]))"
            ]
          },
          "metadata": {},
          "execution_count": 4
        }
      ]
    },
    {
      "cell_type": "code",
      "source": [
        "# 1. データセットを訓練データとテストデータに分割/Split dataset into training and test data\n",
        "X_train, X_test, y_train, y_test = train_test_split(X, y, test_size=0.2, random_state=0)\n",
        "print('X_trainの形状：',X_train.shape,' y_trainの形状：',y_train.shape,' X_testの形状：',X_test.shape,' y_testの形状：',y_test.shape)"
      ],
      "metadata": {
        "colab": {
          "base_uri": "https://localhost:8080/"
        },
        "id": "Tg8cOyNIX1C3",
        "outputId": "f0855a7a-dc1c-48c6-b659-7bbc801b7448"
      },
      "execution_count": null,
      "outputs": [
        {
          "output_type": "stream",
          "name": "stdout",
          "text": [
            "X_trainの形状： (404, 13)  y_trainの形状： (404,)  X_testの形状： (102, 13)  y_testの形状： (102,)\n"
          ]
        }
      ]
    },
    {
      "cell_type": "markdown",
      "source": [
        "* StandardScalerのメソッド/Methods of StandardScaler: https://scikit-learn.org/stable/modules/generated/sklearn.preprocessing.StandardScaler.html\n",
        "* StandardScalerはデータセットの標準化機能を提供します。\n",
        "* StandardScaler provides the function of standardizing a dataset."
      ],
      "metadata": {
        "id": "JEIaHLq1giZL"
      }
    },
    {
      "cell_type": "markdown",
      "source": [
        "* fit(X): 配列Xの平均と標準偏差を計算して記憶する。\n",
        "* fit(X): Calculate and store the mean and standard deviation of array X."
      ],
      "metadata": {
        "id": "8qioszr3EoRV"
      }
    },
    {
      "cell_type": "markdown",
      "source": [
        "* テストデータの場合は、比較的データ数が少なく、トレーニングデータの統計を使って正規化や欠損値処理を行うべきなので、トレーニングデータに対するfit()の結果で、transform()を行う。\n",
        "* In the case of test data, the number of data is relatively small and the statistics of the training data should be used for normalization and missing value processing, so transform() is performed with the result of fit() on the training data."
      ],
      "metadata": {
        "id": "9lDFRrv7D4Ck"
      }
    },
    {
      "cell_type": "code",
      "source": [
        "# 2. 説明変数の標準化/Standardize explanatory variables\n",
        "# クラスのインスタンスを生成\n",
        "# Create an instance of the class\n",
        "sc = StandardScaler()\n",
        "\n",
        "# (X)に対してfitとtransformを行う/Perform fit and transform on (X)\n",
        "# 生成したインスタンスからfit_transform()メソッドを呼ぶ\n",
        "# Call the fit_transform() method from the generated instance\n",
        "X_train_std = sc.fit_transform(X_train)\n",
        "\n",
        "# 配列Xに変換を施して変換後の配列を返す/Performs a transformation on array X and returns the transformed array\n",
        "X_test_std = sc.transform(X_test)\n",
        "\n",
        "# 標準化された訓練データ/Standardized training data\n",
        "X_train_std[0]"
      ],
      "metadata": {
        "colab": {
          "base_uri": "https://localhost:8080/"
        },
        "id": "LEqAon_4YClG",
        "outputId": "b6c46c26-c21e-4f92-cbf7-03d94cd3acbb"
      },
      "execution_count": null,
      "outputs": [
        {
          "output_type": "execute_result",
          "data": {
            "text/plain": [
              "array([-0.37257438, -0.49960763, -0.70492455,  3.66450153, -0.42487874,\n",
              "        0.93567804,  0.69366877, -0.4372179 , -0.16224243, -0.56165616,\n",
              "       -0.48463784,  0.3716906 , -0.41100022])"
            ]
          },
          "metadata": {},
          "execution_count": 6
        }
      ]
    },
    {
      "cell_type": "code",
      "source": [
        "# 標準化後の説明変数をNumpyからPandasに変換し表示\n",
        "# Transform standardized explanatory variables from Numpy to Pandas and display\n",
        "df_X_std = pd.DataFrame(X_train_std)\n",
        "\n",
        "# ヘッダの追加/Add headers\n",
        "df_X_std.columns=['CRIM','ZN', 'INDUS', 'CHAS', 'NOX', 'RM', 'AGE', 'DIS', 'RAD', 'TAX', 'PTRATIO', 'B', 'LSTAT']\n",
        "\n",
        "# 先頭5行の表示/Display the first 5 rows\n",
        "pd.DataFrame(df_X_std.head())"
      ],
      "metadata": {
        "colab": {
          "base_uri": "https://localhost:8080/",
          "height": 270
        },
        "id": "NiCzvi7gYDdf",
        "outputId": "d97ea65d-0692-4f82-f366-4f568eaf9475"
      },
      "execution_count": null,
      "outputs": [
        {
          "output_type": "execute_result",
          "data": {
            "text/plain": [
              "       CRIM        ZN     INDUS      CHAS       NOX        RM       AGE  \\\n",
              "0 -0.372574 -0.499608 -0.704925  3.664502 -0.424879  0.935678  0.693669   \n",
              "1 -0.397099 -0.499608 -0.044878 -0.272888 -1.241859 -0.491181 -1.835528   \n",
              "2 -0.402693  0.771168 -0.886760 -0.272888 -1.111490  0.857849 -0.524621   \n",
              "3 -0.405769  0.029882 -0.465819 -0.272888 -0.277127 -0.417676 -0.086464   \n",
              "4  2.774932 -0.499608  0.998884 -0.272888  1.070021 -1.438097  0.715042   \n",
              "\n",
              "        DIS       RAD       TAX   PTRATIO         B     LSTAT  \n",
              "0 -0.437218 -0.162242 -0.561656 -0.484638  0.371691 -0.411000  \n",
              "1  0.730055 -0.624648 -0.573376  0.336491  0.205012 -0.387681  \n",
              "2  1.234769 -0.393445 -0.602677 -0.849584  0.366609 -0.181919  \n",
              "3  0.861527 -0.509046 -0.538216 -1.488240  0.415732 -0.037886  \n",
              "4 -1.021528  1.687378  1.542121  0.792674 -2.613393  1.911362  "
            ],
            "text/html": [
              "\n",
              "  <div id=\"df-6ea58371-05e8-429d-8e87-df6c66fb9862\">\n",
              "    <div class=\"colab-df-container\">\n",
              "      <div>\n",
              "<style scoped>\n",
              "    .dataframe tbody tr th:only-of-type {\n",
              "        vertical-align: middle;\n",
              "    }\n",
              "\n",
              "    .dataframe tbody tr th {\n",
              "        vertical-align: top;\n",
              "    }\n",
              "\n",
              "    .dataframe thead th {\n",
              "        text-align: right;\n",
              "    }\n",
              "</style>\n",
              "<table border=\"1\" class=\"dataframe\">\n",
              "  <thead>\n",
              "    <tr style=\"text-align: right;\">\n",
              "      <th></th>\n",
              "      <th>CRIM</th>\n",
              "      <th>ZN</th>\n",
              "      <th>INDUS</th>\n",
              "      <th>CHAS</th>\n",
              "      <th>NOX</th>\n",
              "      <th>RM</th>\n",
              "      <th>AGE</th>\n",
              "      <th>DIS</th>\n",
              "      <th>RAD</th>\n",
              "      <th>TAX</th>\n",
              "      <th>PTRATIO</th>\n",
              "      <th>B</th>\n",
              "      <th>LSTAT</th>\n",
              "    </tr>\n",
              "  </thead>\n",
              "  <tbody>\n",
              "    <tr>\n",
              "      <th>0</th>\n",
              "      <td>-0.372574</td>\n",
              "      <td>-0.499608</td>\n",
              "      <td>-0.704925</td>\n",
              "      <td>3.664502</td>\n",
              "      <td>-0.424879</td>\n",
              "      <td>0.935678</td>\n",
              "      <td>0.693669</td>\n",
              "      <td>-0.437218</td>\n",
              "      <td>-0.162242</td>\n",
              "      <td>-0.561656</td>\n",
              "      <td>-0.484638</td>\n",
              "      <td>0.371691</td>\n",
              "      <td>-0.411000</td>\n",
              "    </tr>\n",
              "    <tr>\n",
              "      <th>1</th>\n",
              "      <td>-0.397099</td>\n",
              "      <td>-0.499608</td>\n",
              "      <td>-0.044878</td>\n",
              "      <td>-0.272888</td>\n",
              "      <td>-1.241859</td>\n",
              "      <td>-0.491181</td>\n",
              "      <td>-1.835528</td>\n",
              "      <td>0.730055</td>\n",
              "      <td>-0.624648</td>\n",
              "      <td>-0.573376</td>\n",
              "      <td>0.336491</td>\n",
              "      <td>0.205012</td>\n",
              "      <td>-0.387681</td>\n",
              "    </tr>\n",
              "    <tr>\n",
              "      <th>2</th>\n",
              "      <td>-0.402693</td>\n",
              "      <td>0.771168</td>\n",
              "      <td>-0.886760</td>\n",
              "      <td>-0.272888</td>\n",
              "      <td>-1.111490</td>\n",
              "      <td>0.857849</td>\n",
              "      <td>-0.524621</td>\n",
              "      <td>1.234769</td>\n",
              "      <td>-0.393445</td>\n",
              "      <td>-0.602677</td>\n",
              "      <td>-0.849584</td>\n",
              "      <td>0.366609</td>\n",
              "      <td>-0.181919</td>\n",
              "    </tr>\n",
              "    <tr>\n",
              "      <th>3</th>\n",
              "      <td>-0.405769</td>\n",
              "      <td>0.029882</td>\n",
              "      <td>-0.465819</td>\n",
              "      <td>-0.272888</td>\n",
              "      <td>-0.277127</td>\n",
              "      <td>-0.417676</td>\n",
              "      <td>-0.086464</td>\n",
              "      <td>0.861527</td>\n",
              "      <td>-0.509046</td>\n",
              "      <td>-0.538216</td>\n",
              "      <td>-1.488240</td>\n",
              "      <td>0.415732</td>\n",
              "      <td>-0.037886</td>\n",
              "    </tr>\n",
              "    <tr>\n",
              "      <th>4</th>\n",
              "      <td>2.774932</td>\n",
              "      <td>-0.499608</td>\n",
              "      <td>0.998884</td>\n",
              "      <td>-0.272888</td>\n",
              "      <td>1.070021</td>\n",
              "      <td>-1.438097</td>\n",
              "      <td>0.715042</td>\n",
              "      <td>-1.021528</td>\n",
              "      <td>1.687378</td>\n",
              "      <td>1.542121</td>\n",
              "      <td>0.792674</td>\n",
              "      <td>-2.613393</td>\n",
              "      <td>1.911362</td>\n",
              "    </tr>\n",
              "  </tbody>\n",
              "</table>\n",
              "</div>\n",
              "      <button class=\"colab-df-convert\" onclick=\"convertToInteractive('df-6ea58371-05e8-429d-8e87-df6c66fb9862')\"\n",
              "              title=\"Convert this dataframe to an interactive table.\"\n",
              "              style=\"display:none;\">\n",
              "        \n",
              "  <svg xmlns=\"http://www.w3.org/2000/svg\" height=\"24px\"viewBox=\"0 0 24 24\"\n",
              "       width=\"24px\">\n",
              "    <path d=\"M0 0h24v24H0V0z\" fill=\"none\"/>\n",
              "    <path d=\"M18.56 5.44l.94 2.06.94-2.06 2.06-.94-2.06-.94-.94-2.06-.94 2.06-2.06.94zm-11 1L8.5 8.5l.94-2.06 2.06-.94-2.06-.94L8.5 2.5l-.94 2.06-2.06.94zm10 10l.94 2.06.94-2.06 2.06-.94-2.06-.94-.94-2.06-.94 2.06-2.06.94z\"/><path d=\"M17.41 7.96l-1.37-1.37c-.4-.4-.92-.59-1.43-.59-.52 0-1.04.2-1.43.59L10.3 9.45l-7.72 7.72c-.78.78-.78 2.05 0 2.83L4 21.41c.39.39.9.59 1.41.59.51 0 1.02-.2 1.41-.59l7.78-7.78 2.81-2.81c.8-.78.8-2.07 0-2.86zM5.41 20L4 18.59l7.72-7.72 1.47 1.35L5.41 20z\"/>\n",
              "  </svg>\n",
              "      </button>\n",
              "      \n",
              "  <style>\n",
              "    .colab-df-container {\n",
              "      display:flex;\n",
              "      flex-wrap:wrap;\n",
              "      gap: 12px;\n",
              "    }\n",
              "\n",
              "    .colab-df-convert {\n",
              "      background-color: #E8F0FE;\n",
              "      border: none;\n",
              "      border-radius: 50%;\n",
              "      cursor: pointer;\n",
              "      display: none;\n",
              "      fill: #1967D2;\n",
              "      height: 32px;\n",
              "      padding: 0 0 0 0;\n",
              "      width: 32px;\n",
              "    }\n",
              "\n",
              "    .colab-df-convert:hover {\n",
              "      background-color: #E2EBFA;\n",
              "      box-shadow: 0px 1px 2px rgba(60, 64, 67, 0.3), 0px 1px 3px 1px rgba(60, 64, 67, 0.15);\n",
              "      fill: #174EA6;\n",
              "    }\n",
              "\n",
              "    [theme=dark] .colab-df-convert {\n",
              "      background-color: #3B4455;\n",
              "      fill: #D2E3FC;\n",
              "    }\n",
              "\n",
              "    [theme=dark] .colab-df-convert:hover {\n",
              "      background-color: #434B5C;\n",
              "      box-shadow: 0px 1px 3px 1px rgba(0, 0, 0, 0.15);\n",
              "      filter: drop-shadow(0px 1px 2px rgba(0, 0, 0, 0.3));\n",
              "      fill: #FFFFFF;\n",
              "    }\n",
              "  </style>\n",
              "\n",
              "      <script>\n",
              "        const buttonEl =\n",
              "          document.querySelector('#df-6ea58371-05e8-429d-8e87-df6c66fb9862 button.colab-df-convert');\n",
              "        buttonEl.style.display =\n",
              "          google.colab.kernel.accessAllowed ? 'block' : 'none';\n",
              "\n",
              "        async function convertToInteractive(key) {\n",
              "          const element = document.querySelector('#df-6ea58371-05e8-429d-8e87-df6c66fb9862');\n",
              "          const dataTable =\n",
              "            await google.colab.kernel.invokeFunction('convertToInteractive',\n",
              "                                                     [key], {});\n",
              "          if (!dataTable) return;\n",
              "\n",
              "          const docLinkHtml = 'Like what you see? Visit the ' +\n",
              "            '<a target=\"_blank\" href=https://colab.research.google.com/notebooks/data_table.ipynb>data table notebook</a>'\n",
              "            + ' to learn more about interactive tables.';\n",
              "          element.innerHTML = '';\n",
              "          dataTable['output_type'] = 'display_data';\n",
              "          await google.colab.output.renderOutput(dataTable, element);\n",
              "          const docLink = document.createElement('div');\n",
              "          docLink.innerHTML = docLinkHtml;\n",
              "          element.appendChild(docLink);\n",
              "        }\n",
              "      </script>\n",
              "    </div>\n",
              "  </div>\n",
              "  "
            ]
          },
          "metadata": {},
          "execution_count": 7
        }
      ]
    },
    {
      "cell_type": "code",
      "source": [
        "# 3. 予測モデルの指定 4. 損失関数の指定 5. 訓練データと損失関数を用いたモデルの訓練\n",
        "# 3. specify specify the predictive model 4. specify the loss function 5. train the model using the training data and the loss function\n",
        "# 線形回帰モデルを作成/Create a linear regression model\n",
        "model = LinearRegression()\n",
        "\n",
        "# モデルの訓練/Train the model\n",
        "model.fit(X_train_std, y_train) "
      ],
      "metadata": {
        "colab": {
          "base_uri": "https://localhost:8080/",
          "height": 74
        },
        "id": "ak138U6nYJTw",
        "outputId": "496c5db8-ab9f-4129-bd9b-ccca921ef101"
      },
      "execution_count": null,
      "outputs": [
        {
          "output_type": "execute_result",
          "data": {
            "text/plain": [
              "LinearRegression()"
            ],
            "text/html": [
              "<style>#sk-container-id-1 {color: black;background-color: white;}#sk-container-id-1 pre{padding: 0;}#sk-container-id-1 div.sk-toggleable {background-color: white;}#sk-container-id-1 label.sk-toggleable__label {cursor: pointer;display: block;width: 100%;margin-bottom: 0;padding: 0.3em;box-sizing: border-box;text-align: center;}#sk-container-id-1 label.sk-toggleable__label-arrow:before {content: \"▸\";float: left;margin-right: 0.25em;color: #696969;}#sk-container-id-1 label.sk-toggleable__label-arrow:hover:before {color: black;}#sk-container-id-1 div.sk-estimator:hover label.sk-toggleable__label-arrow:before {color: black;}#sk-container-id-1 div.sk-toggleable__content {max-height: 0;max-width: 0;overflow: hidden;text-align: left;background-color: #f0f8ff;}#sk-container-id-1 div.sk-toggleable__content pre {margin: 0.2em;color: black;border-radius: 0.25em;background-color: #f0f8ff;}#sk-container-id-1 input.sk-toggleable__control:checked~div.sk-toggleable__content {max-height: 200px;max-width: 100%;overflow: auto;}#sk-container-id-1 input.sk-toggleable__control:checked~label.sk-toggleable__label-arrow:before {content: \"▾\";}#sk-container-id-1 div.sk-estimator input.sk-toggleable__control:checked~label.sk-toggleable__label {background-color: #d4ebff;}#sk-container-id-1 div.sk-label input.sk-toggleable__control:checked~label.sk-toggleable__label {background-color: #d4ebff;}#sk-container-id-1 input.sk-hidden--visually {border: 0;clip: rect(1px 1px 1px 1px);clip: rect(1px, 1px, 1px, 1px);height: 1px;margin: -1px;overflow: hidden;padding: 0;position: absolute;width: 1px;}#sk-container-id-1 div.sk-estimator {font-family: monospace;background-color: #f0f8ff;border: 1px dotted black;border-radius: 0.25em;box-sizing: border-box;margin-bottom: 0.5em;}#sk-container-id-1 div.sk-estimator:hover {background-color: #d4ebff;}#sk-container-id-1 div.sk-parallel-item::after {content: \"\";width: 100%;border-bottom: 1px solid gray;flex-grow: 1;}#sk-container-id-1 div.sk-label:hover label.sk-toggleable__label {background-color: #d4ebff;}#sk-container-id-1 div.sk-serial::before {content: \"\";position: absolute;border-left: 1px solid gray;box-sizing: border-box;top: 0;bottom: 0;left: 50%;z-index: 0;}#sk-container-id-1 div.sk-serial {display: flex;flex-direction: column;align-items: center;background-color: white;padding-right: 0.2em;padding-left: 0.2em;position: relative;}#sk-container-id-1 div.sk-item {position: relative;z-index: 1;}#sk-container-id-1 div.sk-parallel {display: flex;align-items: stretch;justify-content: center;background-color: white;position: relative;}#sk-container-id-1 div.sk-item::before, #sk-container-id-1 div.sk-parallel-item::before {content: \"\";position: absolute;border-left: 1px solid gray;box-sizing: border-box;top: 0;bottom: 0;left: 50%;z-index: -1;}#sk-container-id-1 div.sk-parallel-item {display: flex;flex-direction: column;z-index: 1;position: relative;background-color: white;}#sk-container-id-1 div.sk-parallel-item:first-child::after {align-self: flex-end;width: 50%;}#sk-container-id-1 div.sk-parallel-item:last-child::after {align-self: flex-start;width: 50%;}#sk-container-id-1 div.sk-parallel-item:only-child::after {width: 0;}#sk-container-id-1 div.sk-dashed-wrapped {border: 1px dashed gray;margin: 0 0.4em 0.5em 0.4em;box-sizing: border-box;padding-bottom: 0.4em;background-color: white;}#sk-container-id-1 div.sk-label label {font-family: monospace;font-weight: bold;display: inline-block;line-height: 1.2em;}#sk-container-id-1 div.sk-label-container {text-align: center;}#sk-container-id-1 div.sk-container {/* jupyter's `normalize.less` sets `[hidden] { display: none; }` but bootstrap.min.css set `[hidden] { display: none !important; }` so we also need the `!important` here to be able to override the default hidden behavior on the sphinx rendered scikit-learn.org. See: https://github.com/scikit-learn/scikit-learn/issues/21755 */display: inline-block !important;position: relative;}#sk-container-id-1 div.sk-text-repr-fallback {display: none;}</style><div id=\"sk-container-id-1\" class=\"sk-top-container\"><div class=\"sk-text-repr-fallback\"><pre>LinearRegression()</pre><b>In a Jupyter environment, please rerun this cell to show the HTML representation or trust the notebook. <br />On GitHub, the HTML representation is unable to render, please try loading this page with nbviewer.org.</b></div><div class=\"sk-container\" hidden><div class=\"sk-item\"><div class=\"sk-estimator sk-toggleable\"><input class=\"sk-toggleable__control sk-hidden--visually\" id=\"sk-estimator-id-1\" type=\"checkbox\" checked><label for=\"sk-estimator-id-1\" class=\"sk-toggleable__label sk-toggleable__label-arrow\">LinearRegression</label><div class=\"sk-toggleable__content\"><pre>LinearRegression()</pre></div></div></div></div></div>"
            ]
          },
          "metadata": {},
          "execution_count": 8
        }
      ]
    },
    {
      "cell_type": "code",
      "source": [
        "# モデルからパラメータの取り出し\n",
        "# Extract parameters from the model\n",
        "# パラメータベクトルを表示し、符号が正の説明変数は価格の上昇要因となり、負の説明変数は下落要因\n",
        "# Display parameter vectors, where explanatory variables with positive signs are factors that cause prices to rise, and negative explanatory variables are factors that cause prices to fall\n",
        "print('slope:', model.coef_)\n",
        "\n",
        "# バイアスのパラメータ\n",
        "# Bias parameter\n",
        "print('intercept:', model.intercept_) "
      ],
      "metadata": {
        "colab": {
          "base_uri": "https://localhost:8080/"
        },
        "id": "Tj58PEavYMQO",
        "outputId": "d5f58938-9132-4c0b-cfbb-fe3eb69e6dcd"
      },
      "execution_count": null,
      "outputs": [
        {
          "output_type": "stream",
          "name": "stdout",
          "text": [
            "slope: [-0.97082019  1.05714873  0.03831099  0.59450642 -1.8551476   2.57321942\n",
            " -0.08761547 -2.88094259  2.11224542 -1.87533131 -2.29276735  0.71817947\n",
            " -3.59245482]\n",
            "intercept: 22.611881188118836\n"
          ]
        }
      ]
    },
    {
      "cell_type": "code",
      "source": [
        "# 説明変数の列テキスト表示/Column text display for explanatory variables\n",
        "X_columns = df.columns[0:13]\n",
        "X_columns"
      ],
      "metadata": {
        "colab": {
          "base_uri": "https://localhost:8080/"
        },
        "id": "EowszcMaYPd_",
        "outputId": "5147d680-fa65-45d2-e868-d64b3fe2a8bb"
      },
      "execution_count": null,
      "outputs": [
        {
          "output_type": "execute_result",
          "data": {
            "text/plain": [
              "Index(['CRIM', 'ZN', 'INDUS', 'CHAS', 'NOX', 'RM', 'AGE', 'DIS', 'RAD', 'TAX',\n",
              "       'PTRATIO', 'B', 'LSTAT'],\n",
              "      dtype='object')"
            ]
          },
          "metadata": {},
          "execution_count": 10
        }
      ]
    },
    {
      "cell_type": "markdown",
      "source": [
        "* 係数の算出はcoef_を使用\n",
        "* coef_ is used to calculate coefficients\n",
        "---\n",
        "* np.argsort: https://numpy.org/doc/stable/reference/generated/numpy.argsort.html"
      ],
      "metadata": {
        "id": "pwMw0v5uipIp"
      }
    },
    {
      "cell_type": "code",
      "source": [
        "# 説明変数の重要性を計算/Calculate the importance of explanatory variables\n",
        "importances = model.coef_\n",
        "\n",
        "# 説明変数の重要性を降順にソート/Sort in descending order of importance of explanatory variables\n",
        "indices = np.argsort(importances)[::-1]\n",
        "\n",
        "# 説明変数の名前をソートした順に並び替え/Sort by name of explanatory variable in sorted order\n",
        "names = [X_columns[i] for i in indices]\n",
        "\n",
        "# 傾きのパラメータを用いて住宅価格に影響を及ぼす説明変数を可視化\n",
        "# Visualize the explanatory variables that affect housing prices using slope parameters\n",
        "# RM(平均部屋数)は住宅価格上昇の影響を及ぼし、LSTAT（低所得者の割合）は下落の影響を及ぼす\n",
        "# RM (average number of rooms) influences housing price increases, while LSTAT (percentage of low-income residents) influences declines\n",
        "plt.figure(figsize=(8,4)) #プロットのサイズ指定/Specify plot size\n",
        "plt.title(\"Feature Importance\") # プロットのタイトルを作成/Create a plot title\n",
        "plt.bar(range(df.iloc[:, 1:].shape[1]), importances[indices]) # 棒グラフを追加/Add bar chart\n",
        "plt.xticks(range(df.iloc[:, 1:].shape[1]), names, rotation=90) # X軸に説明変数の名前を追加/Add the name of the explanatory variable to the X axis\n",
        "\n",
        "plt.show() # プロットを表示/Show Plot"
      ],
      "metadata": {
        "colab": {
          "base_uri": "https://localhost:8080/",
          "height": 434
        },
        "id": "vRvkycjbYShf",
        "outputId": "ccb25406-ed0c-4b84-82a2-827f070b1347"
      },
      "execution_count": null,
      "outputs": [
        {
          "output_type": "display_data",
          "data": {
            "text/plain": [
              "<Figure size 800x400 with 1 Axes>"
            ],
            "image/png": "[encoded data removed]"
          },
          "metadata": {}
        }
      ]
    },
    {
      "cell_type": "code",
      "source": [
        "# 6. テストデータを用いたモデルの評価/Evaluate the model using test data\n",
        "# 訓練データ、テストデータの住宅価格を予測/Predicts housing prices on training and test data\n",
        "y_train_pred = model.predict(X_train_std)\n",
        "y_test_pred = model.predict(X_test_std)\n",
        "\n",
        "# 正解の住宅価格と予測の住宅価格の差のMSEを計算/Calculate the MSE of the correct and predicted housing prices\n",
        "print('MSE train: %.2f, test: %.2f' % (\n",
        "    np.mean((y_train - y_train_pred) ** 2),\n",
        "    np.mean((y_test - y_test_pred) ** 2)))"
      ],
      "metadata": {
        "colab": {
          "base_uri": "https://localhost:8080/"
        },
        "id": "WlIf-qDAYTbe",
        "outputId": "5f867c88-f4a0-4f5f-e70b-c099e79d4992"
      },
      "execution_count": null,
      "outputs": [
        {
          "output_type": "stream",
          "name": "stdout",
          "text": [
            "MSE train: 19.33, test: 33.45\n"
          ]
        }
      ]
    },
    {
      "cell_type": "markdown",
      "source": [
        "* 関数mean_squared_errorを使用したMSEの計算\n",
        "* Calculation of MSE using function mean_squared_error\n",
        "---\n",
        "* mean_squared_error: https://scikit-learn.org/stable/modules/generated/sklearn.metrics.mean_squared_error.html"
      ],
      "metadata": {
        "id": "oHZoJS6HA50S"
      }
    },
    {
      "cell_type": "code",
      "source": [
        "# MSEを計算/Calculate MSE\n",
        "print('MSE train: %.2f, test: %.2f' % (\n",
        "        mean_squared_error(y_train, y_train_pred),\n",
        "        mean_squared_error(y_test, y_test_pred)))"
      ],
      "metadata": {
        "colab": {
          "base_uri": "https://localhost:8080/"
        },
        "id": "DFFnmTECYWH8",
        "outputId": "f63385af-ba22-49e0-e4ab-1892f76c08e2"
      },
      "execution_count": null,
      "outputs": [
        {
          "output_type": "stream",
          "name": "stdout",
          "text": [
            "MSE train: 19.33, test: 33.45\n"
          ]
        }
      ]
    },
    {
      "cell_type": "code",
      "source": [
        "# 推論の先頭10件を表示/Display the first 10 inferences\n",
        "y_test_pred[:10]"
      ],
      "metadata": {
        "colab": {
          "base_uri": "https://localhost:8080/"
        },
        "id": "wODqtky2YYl9",
        "outputId": "6e71fe35-8cd6-4068-8011-4eaef3d1e99d"
      },
      "execution_count": null,
      "outputs": [
        {
          "output_type": "execute_result",
          "data": {
            "text/plain": [
              "array([24.88963777, 23.72141085, 29.36499868, 12.12238621, 21.44382254,\n",
              "       19.2834443 , 20.49647539, 21.36099298, 18.8967118 , 19.9280658 ])"
            ]
          },
          "metadata": {},
          "execution_count": 14
        }
      ]
    },
    {
      "cell_type": "code",
      "source": [
        "# 正解の先頭10件を表示/Display the first 10 correct answers\n",
        "y_test[:10]"
      ],
      "metadata": {
        "colab": {
          "base_uri": "https://localhost:8080/"
        },
        "id": "Yqglf1BvYazd",
        "outputId": "db8f0635-580c-4d7c-ef55-16cc4ec4acd1"
      },
      "execution_count": null,
      "outputs": [
        {
          "output_type": "execute_result",
          "data": {
            "text/plain": [
              "array([22.6, 50. , 23. ,  8.3, 21.2, 19.9, 20.6, 18.7, 16.1, 18.6])"
            ]
          },
          "metadata": {},
          "execution_count": 15
        }
      ]
    },
    {
      "cell_type": "markdown",
      "source": [
        "* 回帰の評価方法の残差プロットを実行します。\n",
        "* 残差プロットは訓練データとテストデータそれぞれの予測の住宅価格を横軸、住宅価格の残差（予測－正解）を縦軸に設定してプロットします。\n",
        "---\n",
        "* Run a residual plot of the regression evaluation method.\n",
        "* The residual plot is plotted with the training data and test data each with the predicted housing price on the horizontal axis and the residual (predicted - correct) housing price on the vertical axis."
      ],
      "metadata": {
        "id": "Uo8TU0zDB0ty"
      }
    },
    {
      "cell_type": "code",
      "source": [
        "# 残差プロット/residual plot\n",
        "plt.figure(figsize=(8,4)) #プロットのサイズ指定/Specify plot size\n",
        "\n",
        "plt.scatter(y_train_pred,  y_train_pred - y_train,\n",
        "            c='red', marker='o', edgecolor='white',\n",
        "            label='Training data')\n",
        "plt.scatter(y_test_pred,  y_test_pred - y_test,\n",
        "            c='blue', marker='s', edgecolor='white',\n",
        "            label='Test data')\n",
        "plt.xlabel('Predicted values')\n",
        "plt.ylabel('Residuals')\n",
        "plt.legend(loc='upper left')\n",
        "plt.hlines(y=0, xmin=-10, xmax=50, color='black', lw=2)\n",
        "plt.xlim([-10, 50])\n",
        "plt.tight_layout()\n",
        "\n",
        "plt.show()"
      ],
      "metadata": {
        "colab": {
          "base_uri": "https://localhost:8080/",
          "height": 407
        },
        "id": "a5zV59M9YdTc",
        "outputId": "b34c1c69-b201-46c6-fad3-e2966304e6ae"
      },
      "execution_count": null,
      "outputs": [
        {
          "output_type": "display_data",
          "data": {
            "text/plain": [
              "<Figure size 800x400 with 1 Axes>"
            ],
            "image/png": "[encoded data removed]"
          },
          "metadata": {}
        }
      ]
    },
    {
      "cell_type": "markdown",
      "source": [
        "* ばらつきが小さいほど性能が良いモデルになります。\n",
        "* The smaller the variation, the better the model performs."
      ],
      "metadata": {
        "id": "vtpXM-j3Ccmy"
      }
    }
  ]
}
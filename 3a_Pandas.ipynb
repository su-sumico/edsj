{
  "cells": [
    {
      "cell_type": "markdown",
      "metadata": {
        "id": "view-in-github",
        "colab_type": "text"
      },
      "source": [
        "<a href=\"https://colab.research.google.com/github/su-sumico/edsj/blob/main/3a_Pandas.ipynb\" target=\"_parent\"><img src=\"https://colab.research.google.com/assets/colab-badge.svg\" alt=\"Open In Colab\"/></a>"
      ]
    },
    {
      "cell_type": "markdown",
      "metadata": {
        "id": "jEuKb9fhjovk"
      },
      "source": [
        "Pandasの基礎1\n",
        "* PandasはPythonでのデータ分析ライブラリとして最も活⽤されているライブラリのひとつです。\n",
        "* PandasはNumpyを基盤にシリーズ（Series）とデータフレーム（DataFrame）というデータ型を提供します。\n",
        "---\n",
        "Pandas basics 1\n",
        "* Pandas is one of the most popular data analysis libraries in Python.\n",
        "* Pandas is based on Numpy and provides data types called Series and DataFrames."
      ]
    },
    {
      "cell_type": "markdown",
      "source": [
        "Pandas を使う準備\n",
        "* Pandasを利用するには、まず次のようにインポートを行います。\n",
        "---\n",
        "Prepare to use Pandas\n",
        "* To use Pandas, first import as follows"
      ],
      "metadata": {
        "id": "R7kNt1glD6FL"
      }
    },
    {
      "cell_type": "code",
      "source": [
        "# Pandasライブラリをpdという別名で使用できるように宣言する\n",
        "# Declare the Pandas library to be available under the alias pd\n",
        "\n",
        "import pandas as pd"
      ],
      "metadata": {
        "id": "u-_8y9iAESek"
      },
      "execution_count": null,
      "outputs": []
    },
    {
      "cell_type": "markdown",
      "source": [
        "pandas.Series\n",
        "* ここまで、Python標準のリスト型（list）と、NumPyライブラリのndarrayを扱いましたが、Pandasライブラリにも同様の機能を有するシリーズ（Series）というデータ型があります。\n",
        "---\n",
        "pandas.Series\n",
        "* So far we have dealt with the standard Python list type (list) and the NumPy library's ndarray, but the Pandas library also has a data type called series that has similar functionality."
      ],
      "metadata": {
        "id": "MhBZLHFuFfb4"
      }
    },
    {
      "cell_type": "markdown",
      "source": [
        "* pandas.Series: https://pandas.pydata.org/docs/reference/api/pandas.Series.html"
      ],
      "metadata": {
        "id": "pD5-W_fHSriR"
      }
    },
    {
      "cell_type": "code",
      "source": [
        "srs = pd.Series([10, 20, 30, 40, 50])\n",
        "srs"
      ],
      "metadata": {
        "colab": {
          "base_uri": "https://localhost:8080/"
        },
        "id": "KHWBMyHFGW6C",
        "outputId": "5c4060c7-e303-4798-f352-f11752ec0adb"
      },
      "execution_count": null,
      "outputs": [
        {
          "output_type": "execute_result",
          "data": {
            "text/plain": [
              "0    10\n",
              "1    20\n",
              "2    30\n",
              "3    40\n",
              "4    50\n",
              "dtype: int64"
            ]
          },
          "metadata": {},
          "execution_count": 2
        }
      ]
    },
    {
      "cell_type": "markdown",
      "source": [
        "* 10～50が配列の要素、0～4がラベル（インデックス）です。\n",
        "* 10～50 are array elements and 0～4 are labels (indexes)."
      ],
      "metadata": {
        "id": "jFD0GnW_UziY"
      }
    },
    {
      "cell_type": "markdown",
      "source": [
        "list/ndarrayとの共通点\n",
        "* Pandasのlocとilocは値を抽出するためのメソッドです。\n",
        "* https://aiacademy.jp/media/?p=1551\n",
        "---\n",
        "Common features with list/ndarray\n",
        "* Pandas loc and iloc are methods for extracting values.\n",
        "* https://pandas.pydata.org/docs/reference/api/pandas.DataFrame.iloc.html"
      ],
      "metadata": {
        "id": "3hSViVlHaf6Q"
      }
    },
    {
      "cell_type": "code",
      "source": [
        "# list/ndarrayとの共通点: 指定して任意の要素を取り出せる\n",
        "# Common features with list/ndarray: any element can be retrieved by specifying\n",
        "\n",
        "# ilocはindexを指定することで特定の値を抽出できます\n",
        "# iloc can extract specific values by specifying an index\n",
        "\n",
        "# df.iloc[行, 列]\n",
        "# df.iloc[row, column]\n",
        "\n",
        "srs.iloc[3]"
      ],
      "metadata": {
        "colab": {
          "base_uri": "https://localhost:8080/"
        },
        "id": "RI2aySDCGXeh",
        "outputId": "7d1f3e86-e0a7-4978-8568-cf8415b5cd93"
      },
      "execution_count": null,
      "outputs": [
        {
          "output_type": "execute_result",
          "data": {
            "text/plain": [
              "40"
            ]
          },
          "metadata": {},
          "execution_count": 3
        }
      ]
    },
    {
      "cell_type": "markdown",
      "source": [
        "* Slicing: https://qiita.com/Mayumi_Pythonista/items/6bae214755dfeb8d7353"
      ],
      "metadata": {
        "id": "2o08AjnMjMNh"
      }
    },
    {
      "cell_type": "code",
      "source": [
        "# list/ndarrayとの共通点: スライシングが使える\n",
        "# Common features with list/ndarray: Slicing can be used.\n",
        "\n",
        "srs.iloc[ 1 : 3 ]"
      ],
      "metadata": {
        "colab": {
          "base_uri": "https://localhost:8080/"
        },
        "id": "Ypsh3M8oG0-N",
        "outputId": "499c9e15-7a58-41e5-f888-3bd36eb9946a"
      },
      "execution_count": null,
      "outputs": [
        {
          "output_type": "execute_result",
          "data": {
            "text/plain": [
              "1    20\n",
              "2    30\n",
              "dtype: int64"
            ]
          },
          "metadata": {},
          "execution_count": 4
        }
      ]
    },
    {
      "cell_type": "markdown",
      "source": [
        "* pandas.Series: https://pandas.pydata.org/docs/reference/api/pandas.Series.html"
      ],
      "metadata": {
        "id": "uSKb90zYcBNg"
      }
    },
    {
      "cell_type": "code",
      "source": [
        "# list/arrayと相違点: indexを指定できる\n",
        "# Differences from list/array: index can be specified\n",
        "\n",
        "srs = pd.Series([10, 20, 30, 40, 50], index=[\"one\", \"two\", \"three\", \"four\",\n",
        "\"five\"])\n",
        "srs"
      ],
      "metadata": {
        "colab": {
          "base_uri": "https://localhost:8080/"
        },
        "id": "HQrWEykmIYhJ",
        "outputId": "447eeb9f-cf59-49eb-8191-d43987d77a5c"
      },
      "execution_count": null,
      "outputs": [
        {
          "output_type": "execute_result",
          "data": {
            "text/plain": [
              "one      10\n",
              "two      20\n",
              "three    30\n",
              "four     40\n",
              "five     50\n",
              "dtype: int64"
            ]
          },
          "metadata": {},
          "execution_count": 5
        }
      ]
    },
    {
      "cell_type": "markdown",
      "source": [
        "* 10～50が配列の要素、one～fiveがラベル（インデックス）です。\n",
        "* 10～50 are array elements and one～five are labels (indexes)."
      ],
      "metadata": {
        "id": "VSkClk-MceQ_"
      }
    },
    {
      "cell_type": "markdown",
      "source": [
        "pandas.DataFrame.describe\n",
        "* pandas.DataFrameおよびpandas.Seriesのメソッド**describe()**を使うと、各列ごとに平均や標準偏差、最大値、最小値、最頻値などの要約統計量を取得できる。\n",
        "---\n",
        "pandas.DataFrame.describe\n",
        "* The method **describe()** of pandas.DataFrame and pandas.Series can be used to obtain summary statistics such as mean, standard deviation, maximum, minimum, and mode for each column."
      ],
      "metadata": {
        "id": "dhAVMcrVlU-t"
      }
    },
    {
      "cell_type": "markdown",
      "source": [
        "* pandas.DataFrame.describe: https://pandas.pydata.org/pandas-docs/stable/reference/api/pandas.DataFrame.describe.html"
      ],
      "metadata": {
        "id": "UWXZWd4veEEH"
      }
    },
    {
      "cell_type": "code",
      "source": [
        "# データの特徴をおおまかに調べるために便利な DataFrame.describe() メソッドを実行します。\n",
        "# Execute the DataFrame.describe() method, which is useful for a general examination of data characteristics.\n",
        "\n",
        "# データの概要\n",
        "# Data summary\n",
        "\n",
        "srs.describe()"
      ],
      "metadata": {
        "colab": {
          "base_uri": "https://localhost:8080/"
        },
        "id": "XIaHzJoLIZDI",
        "outputId": "062b6659-375f-4c54-862b-e80a44098945"
      },
      "execution_count": null,
      "outputs": [
        {
          "output_type": "execute_result",
          "data": {
            "text/plain": [
              "count     5.000000\n",
              "mean     30.000000\n",
              "std      15.811388\n",
              "min      10.000000\n",
              "25%      20.000000\n",
              "50%      30.000000\n",
              "75%      40.000000\n",
              "max      50.000000\n",
              "dtype: float64"
            ]
          },
          "metadata": {},
          "execution_count": 6
        }
      ]
    },
    {
      "cell_type": "markdown",
      "source": [
        "pandas.DataFrame\n",
        "* Pandasライブラリで最も使われるデータ型に**データフレーム**があります。\n",
        "* Seriesは1次元のデータしか扱えませんが、DataFrameは行列のような多次元のデータも扱えます。\n",
        "---\n",
        "pandas.DataFrame\n",
        "* The most used data type in the Pandas library is the **data frame**.\n",
        "* While Series can handle only one-dimensional data, DataFrame can handle multi-dimensional data such as matrices."
      ],
      "metadata": {
        "id": "kWgPr8nwJUsf"
      }
    },
    {
      "cell_type": "markdown",
      "source": [
        "* pandas.DataFrame: https://pandas.pydata.org/docs/reference/api/pandas.DataFrame.html"
      ],
      "metadata": {
        "id": "eaPxDGPqgdCW"
      }
    },
    {
      "cell_type": "markdown",
      "source": [
        "DataFrameの生成\n",
        "* まずはサンプルデータを含んだDataFrameを生成してみます。\n",
        "---\n",
        "Generating DataFrame\n",
        "* First, let's generate a DataFrame containing the sample data."
      ],
      "metadata": {
        "id": "f0skVb65lK7B"
      }
    },
    {
      "cell_type": "code",
      "source": [
        "# 多次元リストからデータフレームの作成\n",
        "# Create data frame from multidimensional list\n",
        "\n",
        "df = pd.DataFrame([[1, 2, 3], [4, 5, 6], [7, 8, 9]])\n",
        "df"
      ],
      "metadata": {
        "id": "ap7ZHSb1IrNt",
        "colab": {
          "base_uri": "https://localhost:8080/",
          "height": 143
        },
        "outputId": "b583b6fb-5881-4e06-8128-2972fed9a380"
      },
      "execution_count": null,
      "outputs": [
        {
          "output_type": "execute_result",
          "data": {
            "text/plain": [
              "   0  1  2\n",
              "0  1  2  3\n",
              "1  4  5  6\n",
              "2  7  8  9"
            ],
            "text/html": [
              "\n",
              "  <div id=\"df-97a1adee-3b97-42b9-b442-e8581cf6a70f\">\n",
              "    <div class=\"colab-df-container\">\n",
              "      <div>\n",
              "<style scoped>\n",
              "    .dataframe tbody tr th:only-of-type {\n",
              "        vertical-align: middle;\n",
              "    }\n",
              "\n",
              "    .dataframe tbody tr th {\n",
              "        vertical-align: top;\n",
              "    }\n",
              "\n",
              "    .dataframe thead th {\n",
              "        text-align: right;\n",
              "    }\n",
              "</style>\n",
              "<table border=\"1\" class=\"dataframe\">\n",
              "  <thead>\n",
              "    <tr style=\"text-align: right;\">\n",
              "      <th></th>\n",
              "      <th>0</th>\n",
              "      <th>1</th>\n",
              "      <th>2</th>\n",
              "    </tr>\n",
              "  </thead>\n",
              "  <tbody>\n",
              "    <tr>\n",
              "      <th>0</th>\n",
              "      <td>1</td>\n",
              "      <td>2</td>\n",
              "      <td>3</td>\n",
              "    </tr>\n",
              "    <tr>\n",
              "      <th>1</th>\n",
              "      <td>4</td>\n",
              "      <td>5</td>\n",
              "      <td>6</td>\n",
              "    </tr>\n",
              "    <tr>\n",
              "      <th>2</th>\n",
              "      <td>7</td>\n",
              "      <td>8</td>\n",
              "      <td>9</td>\n",
              "    </tr>\n",
              "  </tbody>\n",
              "</table>\n",
              "</div>\n",
              "      <button class=\"colab-df-convert\" onclick=\"convertToInteractive('df-97a1adee-3b97-42b9-b442-e8581cf6a70f')\"\n",
              "              title=\"Convert this dataframe to an interactive table.\"\n",
              "              style=\"display:none;\">\n",
              "        \n",
              "  <svg xmlns=\"http://www.w3.org/2000/svg\" height=\"24px\"viewBox=\"0 0 24 24\"\n",
              "       width=\"24px\">\n",
              "    <path d=\"M0 0h24v24H0V0z\" fill=\"none\"/>\n",
              "    <path d=\"M18.56 5.44l.94 2.06.94-2.06 2.06-.94-2.06-.94-.94-2.06-.94 2.06-2.06.94zm-11 1L8.5 8.5l.94-2.06 2.06-.94-2.06-.94L8.5 2.5l-.94 2.06-2.06.94zm10 10l.94 2.06.94-2.06 2.06-.94-2.06-.94-.94-2.06-.94 2.06-2.06.94z\"/><path d=\"M17.41 7.96l-1.37-1.37c-.4-.4-.92-.59-1.43-.59-.52 0-1.04.2-1.43.59L10.3 9.45l-7.72 7.72c-.78.78-.78 2.05 0 2.83L4 21.41c.39.39.9.59 1.41.59.51 0 1.02-.2 1.41-.59l7.78-7.78 2.81-2.81c.8-.78.8-2.07 0-2.86zM5.41 20L4 18.59l7.72-7.72 1.47 1.35L5.41 20z\"/>\n",
              "  </svg>\n",
              "      </button>\n",
              "      \n",
              "  <style>\n",
              "    .colab-df-container {\n",
              "      display:flex;\n",
              "      flex-wrap:wrap;\n",
              "      gap: 12px;\n",
              "    }\n",
              "\n",
              "    .colab-df-convert {\n",
              "      background-color: #E8F0FE;\n",
              "      border: none;\n",
              "      border-radius: 50%;\n",
              "      cursor: pointer;\n",
              "      display: none;\n",
              "      fill: #1967D2;\n",
              "      height: 32px;\n",
              "      padding: 0 0 0 0;\n",
              "      width: 32px;\n",
              "    }\n",
              "\n",
              "    .colab-df-convert:hover {\n",
              "      background-color: #E2EBFA;\n",
              "      box-shadow: 0px 1px 2px rgba(60, 64, 67, 0.3), 0px 1px 3px 1px rgba(60, 64, 67, 0.15);\n",
              "      fill: #174EA6;\n",
              "    }\n",
              "\n",
              "    [theme=dark] .colab-df-convert {\n",
              "      background-color: #3B4455;\n",
              "      fill: #D2E3FC;\n",
              "    }\n",
              "\n",
              "    [theme=dark] .colab-df-convert:hover {\n",
              "      background-color: #434B5C;\n",
              "      box-shadow: 0px 1px 3px 1px rgba(0, 0, 0, 0.15);\n",
              "      filter: drop-shadow(0px 1px 2px rgba(0, 0, 0, 0.3));\n",
              "      fill: #FFFFFF;\n",
              "    }\n",
              "  </style>\n",
              "\n",
              "      <script>\n",
              "        const buttonEl =\n",
              "          document.querySelector('#df-97a1adee-3b97-42b9-b442-e8581cf6a70f button.colab-df-convert');\n",
              "        buttonEl.style.display =\n",
              "          google.colab.kernel.accessAllowed ? 'block' : 'none';\n",
              "\n",
              "        async function convertToInteractive(key) {\n",
              "          const element = document.querySelector('#df-97a1adee-3b97-42b9-b442-e8581cf6a70f');\n",
              "          const dataTable =\n",
              "            await google.colab.kernel.invokeFunction('convertToInteractive',\n",
              "                                                     [key], {});\n",
              "          if (!dataTable) return;\n",
              "\n",
              "          const docLinkHtml = 'Like what you see? Visit the ' +\n",
              "            '<a target=\"_blank\" href=https://colab.research.google.com/notebooks/data_table.ipynb>data table notebook</a>'\n",
              "            + ' to learn more about interactive tables.';\n",
              "          element.innerHTML = '';\n",
              "          dataTable['output_type'] = 'display_data';\n",
              "          await google.colab.output.renderOutput(dataTable, element);\n",
              "          const docLink = document.createElement('div');\n",
              "          docLink.innerHTML = docLinkHtml;\n",
              "          element.appendChild(docLink);\n",
              "        }\n",
              "      </script>\n",
              "    </div>\n",
              "  </div>\n",
              "  "
            ]
          },
          "metadata": {},
          "execution_count": 7
        }
      ]
    },
    {
      "cell_type": "markdown",
      "source": [
        "indexとcolumnの指定\n",
        "* DataFrameはインデックス（index）やカラム（column）を指定することにより、Excelのシートのようにデータを扱うことができます。\n",
        "---\n",
        "Specify index and column\n",
        "* DataFrame can handle data like an Excel sheet by specifying an index and column."
      ],
      "metadata": {
        "id": "uD4y3qbhnncj"
      }
    },
    {
      "cell_type": "code",
      "source": [
        "df = pd.DataFrame([[1,2,3],[4,5,6],[7,8,9]], index=[\"a\", \"b\", \"c\"], columns=[\"A\",\n",
        "\"B\", \"C\"])\n",
        "df"
      ],
      "metadata": {
        "colab": {
          "base_uri": "https://localhost:8080/",
          "height": 143
        },
        "id": "wVipgq5BoH9C",
        "outputId": "3cc8ba5e-71c3-4f8c-e241-03082c67383c"
      },
      "execution_count": null,
      "outputs": [
        {
          "output_type": "execute_result",
          "data": {
            "text/plain": [
              "   A  B  C\n",
              "a  1  2  3\n",
              "b  4  5  6\n",
              "c  7  8  9"
            ],
            "text/html": [
              "\n",
              "  <div id=\"df-6aebb243-831a-4173-b544-835bb33b2667\">\n",
              "    <div class=\"colab-df-container\">\n",
              "      <div>\n",
              "<style scoped>\n",
              "    .dataframe tbody tr th:only-of-type {\n",
              "        vertical-align: middle;\n",
              "    }\n",
              "\n",
              "    .dataframe tbody tr th {\n",
              "        vertical-align: top;\n",
              "    }\n",
              "\n",
              "    .dataframe thead th {\n",
              "        text-align: right;\n",
              "    }\n",
              "</style>\n",
              "<table border=\"1\" class=\"dataframe\">\n",
              "  <thead>\n",
              "    <tr style=\"text-align: right;\">\n",
              "      <th></th>\n",
              "      <th>A</th>\n",
              "      <th>B</th>\n",
              "      <th>C</th>\n",
              "    </tr>\n",
              "  </thead>\n",
              "  <tbody>\n",
              "    <tr>\n",
              "      <th>a</th>\n",
              "      <td>1</td>\n",
              "      <td>2</td>\n",
              "      <td>3</td>\n",
              "    </tr>\n",
              "    <tr>\n",
              "      <th>b</th>\n",
              "      <td>4</td>\n",
              "      <td>5</td>\n",
              "      <td>6</td>\n",
              "    </tr>\n",
              "    <tr>\n",
              "      <th>c</th>\n",
              "      <td>7</td>\n",
              "      <td>8</td>\n",
              "      <td>9</td>\n",
              "    </tr>\n",
              "  </tbody>\n",
              "</table>\n",
              "</div>\n",
              "      <button class=\"colab-df-convert\" onclick=\"convertToInteractive('df-6aebb243-831a-4173-b544-835bb33b2667')\"\n",
              "              title=\"Convert this dataframe to an interactive table.\"\n",
              "              style=\"display:none;\">\n",
              "        \n",
              "  <svg xmlns=\"http://www.w3.org/2000/svg\" height=\"24px\"viewBox=\"0 0 24 24\"\n",
              "       width=\"24px\">\n",
              "    <path d=\"M0 0h24v24H0V0z\" fill=\"none\"/>\n",
              "    <path d=\"M18.56 5.44l.94 2.06.94-2.06 2.06-.94-2.06-.94-.94-2.06-.94 2.06-2.06.94zm-11 1L8.5 8.5l.94-2.06 2.06-.94-2.06-.94L8.5 2.5l-.94 2.06-2.06.94zm10 10l.94 2.06.94-2.06 2.06-.94-2.06-.94-.94-2.06-.94 2.06-2.06.94z\"/><path d=\"M17.41 7.96l-1.37-1.37c-.4-.4-.92-.59-1.43-.59-.52 0-1.04.2-1.43.59L10.3 9.45l-7.72 7.72c-.78.78-.78 2.05 0 2.83L4 21.41c.39.39.9.59 1.41.59.51 0 1.02-.2 1.41-.59l7.78-7.78 2.81-2.81c.8-.78.8-2.07 0-2.86zM5.41 20L4 18.59l7.72-7.72 1.47 1.35L5.41 20z\"/>\n",
              "  </svg>\n",
              "      </button>\n",
              "      \n",
              "  <style>\n",
              "    .colab-df-container {\n",
              "      display:flex;\n",
              "      flex-wrap:wrap;\n",
              "      gap: 12px;\n",
              "    }\n",
              "\n",
              "    .colab-df-convert {\n",
              "      background-color: #E8F0FE;\n",
              "      border: none;\n",
              "      border-radius: 50%;\n",
              "      cursor: pointer;\n",
              "      display: none;\n",
              "      fill: #1967D2;\n",
              "      height: 32px;\n",
              "      padding: 0 0 0 0;\n",
              "      width: 32px;\n",
              "    }\n",
              "\n",
              "    .colab-df-convert:hover {\n",
              "      background-color: #E2EBFA;\n",
              "      box-shadow: 0px 1px 2px rgba(60, 64, 67, 0.3), 0px 1px 3px 1px rgba(60, 64, 67, 0.15);\n",
              "      fill: #174EA6;\n",
              "    }\n",
              "\n",
              "    [theme=dark] .colab-df-convert {\n",
              "      background-color: #3B4455;\n",
              "      fill: #D2E3FC;\n",
              "    }\n",
              "\n",
              "    [theme=dark] .colab-df-convert:hover {\n",
              "      background-color: #434B5C;\n",
              "      box-shadow: 0px 1px 3px 1px rgba(0, 0, 0, 0.15);\n",
              "      filter: drop-shadow(0px 1px 2px rgba(0, 0, 0, 0.3));\n",
              "      fill: #FFFFFF;\n",
              "    }\n",
              "  </style>\n",
              "\n",
              "      <script>\n",
              "        const buttonEl =\n",
              "          document.querySelector('#df-6aebb243-831a-4173-b544-835bb33b2667 button.colab-df-convert');\n",
              "        buttonEl.style.display =\n",
              "          google.colab.kernel.accessAllowed ? 'block' : 'none';\n",
              "\n",
              "        async function convertToInteractive(key) {\n",
              "          const element = document.querySelector('#df-6aebb243-831a-4173-b544-835bb33b2667');\n",
              "          const dataTable =\n",
              "            await google.colab.kernel.invokeFunction('convertToInteractive',\n",
              "                                                     [key], {});\n",
              "          if (!dataTable) return;\n",
              "\n",
              "          const docLinkHtml = 'Like what you see? Visit the ' +\n",
              "            '<a target=\"_blank\" href=https://colab.research.google.com/notebooks/data_table.ipynb>data table notebook</a>'\n",
              "            + ' to learn more about interactive tables.';\n",
              "          element.innerHTML = '';\n",
              "          dataTable['output_type'] = 'display_data';\n",
              "          await google.colab.output.renderOutput(dataTable, element);\n",
              "          const docLink = document.createElement('div');\n",
              "          docLink.innerHTML = docLinkHtml;\n",
              "          element.appendChild(docLink);\n",
              "        }\n",
              "      </script>\n",
              "    </div>\n",
              "  </div>\n",
              "  "
            ]
          },
          "metadata": {},
          "execution_count": 8
        }
      ]
    },
    {
      "cell_type": "markdown",
      "source": [
        "indexとcolumn名の変更\n",
        "* pandas.DataFrame.renameを使うことで、行や列の名前を変更することが出来ます。\n",
        "---\n",
        "Change index and column names\n",
        "* You can rename rows and columns by using pandas.DataFrame.rename."
      ],
      "metadata": {
        "id": "au7JEqFtoazj"
      }
    },
    {
      "cell_type": "markdown",
      "source": [
        "* pandas.DataFrame.rename: https://pandas.pydata.org/docs/reference/api/pandas.DataFrame.rename.html"
      ],
      "metadata": {
        "id": "CbM9TtHqwuQU"
      }
    },
    {
      "cell_type": "code",
      "source": [
        "df.rename(columns={\"A\":\"a\"},index={\"a\":\"A\"})"
      ],
      "metadata": {
        "colab": {
          "base_uri": "https://localhost:8080/",
          "height": 143
        },
        "id": "V04d37i9oQ6O",
        "outputId": "66993b94-94b2-42f6-f79d-b02da08406d9"
      },
      "execution_count": null,
      "outputs": [
        {
          "output_type": "execute_result",
          "data": {
            "text/plain": [
              "   a  B  C\n",
              "A  1  2  3\n",
              "b  4  5  6\n",
              "c  7  8  9"
            ],
            "text/html": [
              "\n",
              "  <div id=\"df-0b64f189-d83a-4129-8145-6a4ff091406b\">\n",
              "    <div class=\"colab-df-container\">\n",
              "      <div>\n",
              "<style scoped>\n",
              "    .dataframe tbody tr th:only-of-type {\n",
              "        vertical-align: middle;\n",
              "    }\n",
              "\n",
              "    .dataframe tbody tr th {\n",
              "        vertical-align: top;\n",
              "    }\n",
              "\n",
              "    .dataframe thead th {\n",
              "        text-align: right;\n",
              "    }\n",
              "</style>\n",
              "<table border=\"1\" class=\"dataframe\">\n",
              "  <thead>\n",
              "    <tr style=\"text-align: right;\">\n",
              "      <th></th>\n",
              "      <th>a</th>\n",
              "      <th>B</th>\n",
              "      <th>C</th>\n",
              "    </tr>\n",
              "  </thead>\n",
              "  <tbody>\n",
              "    <tr>\n",
              "      <th>A</th>\n",
              "      <td>1</td>\n",
              "      <td>2</td>\n",
              "      <td>3</td>\n",
              "    </tr>\n",
              "    <tr>\n",
              "      <th>b</th>\n",
              "      <td>4</td>\n",
              "      <td>5</td>\n",
              "      <td>6</td>\n",
              "    </tr>\n",
              "    <tr>\n",
              "      <th>c</th>\n",
              "      <td>7</td>\n",
              "      <td>8</td>\n",
              "      <td>9</td>\n",
              "    </tr>\n",
              "  </tbody>\n",
              "</table>\n",
              "</div>\n",
              "      <button class=\"colab-df-convert\" onclick=\"convertToInteractive('df-0b64f189-d83a-4129-8145-6a4ff091406b')\"\n",
              "              title=\"Convert this dataframe to an interactive table.\"\n",
              "              style=\"display:none;\">\n",
              "        \n",
              "  <svg xmlns=\"http://www.w3.org/2000/svg\" height=\"24px\"viewBox=\"0 0 24 24\"\n",
              "       width=\"24px\">\n",
              "    <path d=\"M0 0h24v24H0V0z\" fill=\"none\"/>\n",
              "    <path d=\"M18.56 5.44l.94 2.06.94-2.06 2.06-.94-2.06-.94-.94-2.06-.94 2.06-2.06.94zm-11 1L8.5 8.5l.94-2.06 2.06-.94-2.06-.94L8.5 2.5l-.94 2.06-2.06.94zm10 10l.94 2.06.94-2.06 2.06-.94-2.06-.94-.94-2.06-.94 2.06-2.06.94z\"/><path d=\"M17.41 7.96l-1.37-1.37c-.4-.4-.92-.59-1.43-.59-.52 0-1.04.2-1.43.59L10.3 9.45l-7.72 7.72c-.78.78-.78 2.05 0 2.83L4 21.41c.39.39.9.59 1.41.59.51 0 1.02-.2 1.41-.59l7.78-7.78 2.81-2.81c.8-.78.8-2.07 0-2.86zM5.41 20L4 18.59l7.72-7.72 1.47 1.35L5.41 20z\"/>\n",
              "  </svg>\n",
              "      </button>\n",
              "      \n",
              "  <style>\n",
              "    .colab-df-container {\n",
              "      display:flex;\n",
              "      flex-wrap:wrap;\n",
              "      gap: 12px;\n",
              "    }\n",
              "\n",
              "    .colab-df-convert {\n",
              "      background-color: #E8F0FE;\n",
              "      border: none;\n",
              "      border-radius: 50%;\n",
              "      cursor: pointer;\n",
              "      display: none;\n",
              "      fill: #1967D2;\n",
              "      height: 32px;\n",
              "      padding: 0 0 0 0;\n",
              "      width: 32px;\n",
              "    }\n",
              "\n",
              "    .colab-df-convert:hover {\n",
              "      background-color: #E2EBFA;\n",
              "      box-shadow: 0px 1px 2px rgba(60, 64, 67, 0.3), 0px 1px 3px 1px rgba(60, 64, 67, 0.15);\n",
              "      fill: #174EA6;\n",
              "    }\n",
              "\n",
              "    [theme=dark] .colab-df-convert {\n",
              "      background-color: #3B4455;\n",
              "      fill: #D2E3FC;\n",
              "    }\n",
              "\n",
              "    [theme=dark] .colab-df-convert:hover {\n",
              "      background-color: #434B5C;\n",
              "      box-shadow: 0px 1px 3px 1px rgba(0, 0, 0, 0.15);\n",
              "      filter: drop-shadow(0px 1px 2px rgba(0, 0, 0, 0.3));\n",
              "      fill: #FFFFFF;\n",
              "    }\n",
              "  </style>\n",
              "\n",
              "      <script>\n",
              "        const buttonEl =\n",
              "          document.querySelector('#df-0b64f189-d83a-4129-8145-6a4ff091406b button.colab-df-convert');\n",
              "        buttonEl.style.display =\n",
              "          google.colab.kernel.accessAllowed ? 'block' : 'none';\n",
              "\n",
              "        async function convertToInteractive(key) {\n",
              "          const element = document.querySelector('#df-0b64f189-d83a-4129-8145-6a4ff091406b');\n",
              "          const dataTable =\n",
              "            await google.colab.kernel.invokeFunction('convertToInteractive',\n",
              "                                                     [key], {});\n",
              "          if (!dataTable) return;\n",
              "\n",
              "          const docLinkHtml = 'Like what you see? Visit the ' +\n",
              "            '<a target=\"_blank\" href=https://colab.research.google.com/notebooks/data_table.ipynb>data table notebook</a>'\n",
              "            + ' to learn more about interactive tables.';\n",
              "          element.innerHTML = '';\n",
              "          dataTable['output_type'] = 'display_data';\n",
              "          await google.colab.output.renderOutput(dataTable, element);\n",
              "          const docLink = document.createElement('div');\n",
              "          docLink.innerHTML = docLinkHtml;\n",
              "          element.appendChild(docLink);\n",
              "        }\n",
              "      </script>\n",
              "    </div>\n",
              "  </div>\n",
              "  "
            ]
          },
          "metadata": {},
          "execution_count": 9
        }
      ]
    },
    {
      "cell_type": "markdown",
      "source": [
        "* 注釈: renameはその場限りのもので、もう⼀度dfの中身を表示すると、更新されてません。\n",
        "* Note: rename is a temporary operation; if you view the contents of the df again, it will not be updated."
      ],
      "metadata": {
        "id": "FAYJvXKIo8TB"
      }
    },
    {
      "cell_type": "code",
      "source": [
        "# 変更が反映されておらず、元に戻っている\n",
        "# Changes are not reflected and are reverted.\n",
        "\n",
        "df"
      ],
      "metadata": {
        "colab": {
          "base_uri": "https://localhost:8080/",
          "height": 143
        },
        "id": "RPH9k8r5o3I0",
        "outputId": "1e954116-77bc-474a-fc7f-1d7232ab9f69"
      },
      "execution_count": null,
      "outputs": [
        {
          "output_type": "execute_result",
          "data": {
            "text/plain": [
              "   A  B  C\n",
              "a  1  2  3\n",
              "b  4  5  6\n",
              "c  7  8  9"
            ],
            "text/html": [
              "\n",
              "  <div id=\"df-abba98b1-4fd8-4808-9042-769f77a9ade2\">\n",
              "    <div class=\"colab-df-container\">\n",
              "      <div>\n",
              "<style scoped>\n",
              "    .dataframe tbody tr th:only-of-type {\n",
              "        vertical-align: middle;\n",
              "    }\n",
              "\n",
              "    .dataframe tbody tr th {\n",
              "        vertical-align: top;\n",
              "    }\n",
              "\n",
              "    .dataframe thead th {\n",
              "        text-align: right;\n",
              "    }\n",
              "</style>\n",
              "<table border=\"1\" class=\"dataframe\">\n",
              "  <thead>\n",
              "    <tr style=\"text-align: right;\">\n",
              "      <th></th>\n",
              "      <th>A</th>\n",
              "      <th>B</th>\n",
              "      <th>C</th>\n",
              "    </tr>\n",
              "  </thead>\n",
              "  <tbody>\n",
              "    <tr>\n",
              "      <th>a</th>\n",
              "      <td>1</td>\n",
              "      <td>2</td>\n",
              "      <td>3</td>\n",
              "    </tr>\n",
              "    <tr>\n",
              "      <th>b</th>\n",
              "      <td>4</td>\n",
              "      <td>5</td>\n",
              "      <td>6</td>\n",
              "    </tr>\n",
              "    <tr>\n",
              "      <th>c</th>\n",
              "      <td>7</td>\n",
              "      <td>8</td>\n",
              "      <td>9</td>\n",
              "    </tr>\n",
              "  </tbody>\n",
              "</table>\n",
              "</div>\n",
              "      <button class=\"colab-df-convert\" onclick=\"convertToInteractive('df-abba98b1-4fd8-4808-9042-769f77a9ade2')\"\n",
              "              title=\"Convert this dataframe to an interactive table.\"\n",
              "              style=\"display:none;\">\n",
              "        \n",
              "  <svg xmlns=\"http://www.w3.org/2000/svg\" height=\"24px\"viewBox=\"0 0 24 24\"\n",
              "       width=\"24px\">\n",
              "    <path d=\"M0 0h24v24H0V0z\" fill=\"none\"/>\n",
              "    <path d=\"M18.56 5.44l.94 2.06.94-2.06 2.06-.94-2.06-.94-.94-2.06-.94 2.06-2.06.94zm-11 1L8.5 8.5l.94-2.06 2.06-.94-2.06-.94L8.5 2.5l-.94 2.06-2.06.94zm10 10l.94 2.06.94-2.06 2.06-.94-2.06-.94-.94-2.06-.94 2.06-2.06.94z\"/><path d=\"M17.41 7.96l-1.37-1.37c-.4-.4-.92-.59-1.43-.59-.52 0-1.04.2-1.43.59L10.3 9.45l-7.72 7.72c-.78.78-.78 2.05 0 2.83L4 21.41c.39.39.9.59 1.41.59.51 0 1.02-.2 1.41-.59l7.78-7.78 2.81-2.81c.8-.78.8-2.07 0-2.86zM5.41 20L4 18.59l7.72-7.72 1.47 1.35L5.41 20z\"/>\n",
              "  </svg>\n",
              "      </button>\n",
              "      \n",
              "  <style>\n",
              "    .colab-df-container {\n",
              "      display:flex;\n",
              "      flex-wrap:wrap;\n",
              "      gap: 12px;\n",
              "    }\n",
              "\n",
              "    .colab-df-convert {\n",
              "      background-color: #E8F0FE;\n",
              "      border: none;\n",
              "      border-radius: 50%;\n",
              "      cursor: pointer;\n",
              "      display: none;\n",
              "      fill: #1967D2;\n",
              "      height: 32px;\n",
              "      padding: 0 0 0 0;\n",
              "      width: 32px;\n",
              "    }\n",
              "\n",
              "    .colab-df-convert:hover {\n",
              "      background-color: #E2EBFA;\n",
              "      box-shadow: 0px 1px 2px rgba(60, 64, 67, 0.3), 0px 1px 3px 1px rgba(60, 64, 67, 0.15);\n",
              "      fill: #174EA6;\n",
              "    }\n",
              "\n",
              "    [theme=dark] .colab-df-convert {\n",
              "      background-color: #3B4455;\n",
              "      fill: #D2E3FC;\n",
              "    }\n",
              "\n",
              "    [theme=dark] .colab-df-convert:hover {\n",
              "      background-color: #434B5C;\n",
              "      box-shadow: 0px 1px 3px 1px rgba(0, 0, 0, 0.15);\n",
              "      filter: drop-shadow(0px 1px 2px rgba(0, 0, 0, 0.3));\n",
              "      fill: #FFFFFF;\n",
              "    }\n",
              "  </style>\n",
              "\n",
              "      <script>\n",
              "        const buttonEl =\n",
              "          document.querySelector('#df-abba98b1-4fd8-4808-9042-769f77a9ade2 button.colab-df-convert');\n",
              "        buttonEl.style.display =\n",
              "          google.colab.kernel.accessAllowed ? 'block' : 'none';\n",
              "\n",
              "        async function convertToInteractive(key) {\n",
              "          const element = document.querySelector('#df-abba98b1-4fd8-4808-9042-769f77a9ade2');\n",
              "          const dataTable =\n",
              "            await google.colab.kernel.invokeFunction('convertToInteractive',\n",
              "                                                     [key], {});\n",
              "          if (!dataTable) return;\n",
              "\n",
              "          const docLinkHtml = 'Like what you see? Visit the ' +\n",
              "            '<a target=\"_blank\" href=https://colab.research.google.com/notebooks/data_table.ipynb>data table notebook</a>'\n",
              "            + ' to learn more about interactive tables.';\n",
              "          element.innerHTML = '';\n",
              "          dataTable['output_type'] = 'display_data';\n",
              "          await google.colab.output.renderOutput(dataTable, element);\n",
              "          const docLink = document.createElement('div');\n",
              "          docLink.innerHTML = docLinkHtml;\n",
              "          element.appendChild(docLink);\n",
              "        }\n",
              "      </script>\n",
              "    </div>\n",
              "  </div>\n",
              "  "
            ]
          },
          "metadata": {},
          "execution_count": 10
        }
      ]
    },
    {
      "cell_type": "markdown",
      "source": [
        "* それを解決するには、主に2つの方法があります。\n",
        "* There are two main ways to solve it."
      ],
      "metadata": {
        "id": "07KFqMYXqHZh"
      }
    },
    {
      "cell_type": "code",
      "source": [
        "# inplaceオプションをtrueにする\n",
        "# Set the inplace option to true\n",
        "\n",
        "df.rename(columns={\"A\": \"a\"},index={\"a\": \"A\"}, inplace=True)\n",
        "df"
      ],
      "metadata": {
        "colab": {
          "base_uri": "https://localhost:8080/",
          "height": 143
        },
        "id": "C9P-biAupo_i",
        "outputId": "00eb794b-f620-4db8-9fdc-4a9ee49237fb"
      },
      "execution_count": null,
      "outputs": [
        {
          "output_type": "execute_result",
          "data": {
            "text/plain": [
              "   a  B  C\n",
              "A  1  2  3\n",
              "b  4  5  6\n",
              "c  7  8  9"
            ],
            "text/html": [
              "\n",
              "  <div id=\"df-f0aa1e0e-b0bd-4544-a436-76948ccdc4fe\">\n",
              "    <div class=\"colab-df-container\">\n",
              "      <div>\n",
              "<style scoped>\n",
              "    .dataframe tbody tr th:only-of-type {\n",
              "        vertical-align: middle;\n",
              "    }\n",
              "\n",
              "    .dataframe tbody tr th {\n",
              "        vertical-align: top;\n",
              "    }\n",
              "\n",
              "    .dataframe thead th {\n",
              "        text-align: right;\n",
              "    }\n",
              "</style>\n",
              "<table border=\"1\" class=\"dataframe\">\n",
              "  <thead>\n",
              "    <tr style=\"text-align: right;\">\n",
              "      <th></th>\n",
              "      <th>a</th>\n",
              "      <th>B</th>\n",
              "      <th>C</th>\n",
              "    </tr>\n",
              "  </thead>\n",
              "  <tbody>\n",
              "    <tr>\n",
              "      <th>A</th>\n",
              "      <td>1</td>\n",
              "      <td>2</td>\n",
              "      <td>3</td>\n",
              "    </tr>\n",
              "    <tr>\n",
              "      <th>b</th>\n",
              "      <td>4</td>\n",
              "      <td>5</td>\n",
              "      <td>6</td>\n",
              "    </tr>\n",
              "    <tr>\n",
              "      <th>c</th>\n",
              "      <td>7</td>\n",
              "      <td>8</td>\n",
              "      <td>9</td>\n",
              "    </tr>\n",
              "  </tbody>\n",
              "</table>\n",
              "</div>\n",
              "      <button class=\"colab-df-convert\" onclick=\"convertToInteractive('df-f0aa1e0e-b0bd-4544-a436-76948ccdc4fe')\"\n",
              "              title=\"Convert this dataframe to an interactive table.\"\n",
              "              style=\"display:none;\">\n",
              "        \n",
              "  <svg xmlns=\"http://www.w3.org/2000/svg\" height=\"24px\"viewBox=\"0 0 24 24\"\n",
              "       width=\"24px\">\n",
              "    <path d=\"M0 0h24v24H0V0z\" fill=\"none\"/>\n",
              "    <path d=\"M18.56 5.44l.94 2.06.94-2.06 2.06-.94-2.06-.94-.94-2.06-.94 2.06-2.06.94zm-11 1L8.5 8.5l.94-2.06 2.06-.94-2.06-.94L8.5 2.5l-.94 2.06-2.06.94zm10 10l.94 2.06.94-2.06 2.06-.94-2.06-.94-.94-2.06-.94 2.06-2.06.94z\"/><path d=\"M17.41 7.96l-1.37-1.37c-.4-.4-.92-.59-1.43-.59-.52 0-1.04.2-1.43.59L10.3 9.45l-7.72 7.72c-.78.78-.78 2.05 0 2.83L4 21.41c.39.39.9.59 1.41.59.51 0 1.02-.2 1.41-.59l7.78-7.78 2.81-2.81c.8-.78.8-2.07 0-2.86zM5.41 20L4 18.59l7.72-7.72 1.47 1.35L5.41 20z\"/>\n",
              "  </svg>\n",
              "      </button>\n",
              "      \n",
              "  <style>\n",
              "    .colab-df-container {\n",
              "      display:flex;\n",
              "      flex-wrap:wrap;\n",
              "      gap: 12px;\n",
              "    }\n",
              "\n",
              "    .colab-df-convert {\n",
              "      background-color: #E8F0FE;\n",
              "      border: none;\n",
              "      border-radius: 50%;\n",
              "      cursor: pointer;\n",
              "      display: none;\n",
              "      fill: #1967D2;\n",
              "      height: 32px;\n",
              "      padding: 0 0 0 0;\n",
              "      width: 32px;\n",
              "    }\n",
              "\n",
              "    .colab-df-convert:hover {\n",
              "      background-color: #E2EBFA;\n",
              "      box-shadow: 0px 1px 2px rgba(60, 64, 67, 0.3), 0px 1px 3px 1px rgba(60, 64, 67, 0.15);\n",
              "      fill: #174EA6;\n",
              "    }\n",
              "\n",
              "    [theme=dark] .colab-df-convert {\n",
              "      background-color: #3B4455;\n",
              "      fill: #D2E3FC;\n",
              "    }\n",
              "\n",
              "    [theme=dark] .colab-df-convert:hover {\n",
              "      background-color: #434B5C;\n",
              "      box-shadow: 0px 1px 3px 1px rgba(0, 0, 0, 0.15);\n",
              "      filter: drop-shadow(0px 1px 2px rgba(0, 0, 0, 0.3));\n",
              "      fill: #FFFFFF;\n",
              "    }\n",
              "  </style>\n",
              "\n",
              "      <script>\n",
              "        const buttonEl =\n",
              "          document.querySelector('#df-f0aa1e0e-b0bd-4544-a436-76948ccdc4fe button.colab-df-convert');\n",
              "        buttonEl.style.display =\n",
              "          google.colab.kernel.accessAllowed ? 'block' : 'none';\n",
              "\n",
              "        async function convertToInteractive(key) {\n",
              "          const element = document.querySelector('#df-f0aa1e0e-b0bd-4544-a436-76948ccdc4fe');\n",
              "          const dataTable =\n",
              "            await google.colab.kernel.invokeFunction('convertToInteractive',\n",
              "                                                     [key], {});\n",
              "          if (!dataTable) return;\n",
              "\n",
              "          const docLinkHtml = 'Like what you see? Visit the ' +\n",
              "            '<a target=\"_blank\" href=https://colab.research.google.com/notebooks/data_table.ipynb>data table notebook</a>'\n",
              "            + ' to learn more about interactive tables.';\n",
              "          element.innerHTML = '';\n",
              "          dataTable['output_type'] = 'display_data';\n",
              "          await google.colab.output.renderOutput(dataTable, element);\n",
              "          const docLink = document.createElement('div');\n",
              "          docLink.innerHTML = docLinkHtml;\n",
              "          element.appendChild(docLink);\n",
              "        }\n",
              "      </script>\n",
              "    </div>\n",
              "  </div>\n",
              "  "
            ]
          },
          "metadata": {},
          "execution_count": 11
        }
      ]
    },
    {
      "cell_type": "code",
      "source": [
        "# イコール( = )で新しい内容を同じdfに代入する\n",
        "# Assign new content to the same df with equal ( = )\n",
        "\n",
        "df = df.rename(columns={\"C\": \"c\"},index={\"c\": \"C\"} )\n",
        "df"
      ],
      "metadata": {
        "colab": {
          "base_uri": "https://localhost:8080/",
          "height": 143
        },
        "id": "vVx5_8z5qU6g",
        "outputId": "d8ddc3a1-0981-487c-c661-b4ae16244f0e"
      },
      "execution_count": null,
      "outputs": [
        {
          "output_type": "execute_result",
          "data": {
            "text/plain": [
              "   a  B  c\n",
              "A  1  2  3\n",
              "b  4  5  6\n",
              "C  7  8  9"
            ],
            "text/html": [
              "\n",
              "  <div id=\"df-247a3d25-1ed0-48b8-923e-569840d87c61\">\n",
              "    <div class=\"colab-df-container\">\n",
              "      <div>\n",
              "<style scoped>\n",
              "    .dataframe tbody tr th:only-of-type {\n",
              "        vertical-align: middle;\n",
              "    }\n",
              "\n",
              "    .dataframe tbody tr th {\n",
              "        vertical-align: top;\n",
              "    }\n",
              "\n",
              "    .dataframe thead th {\n",
              "        text-align: right;\n",
              "    }\n",
              "</style>\n",
              "<table border=\"1\" class=\"dataframe\">\n",
              "  <thead>\n",
              "    <tr style=\"text-align: right;\">\n",
              "      <th></th>\n",
              "      <th>a</th>\n",
              "      <th>B</th>\n",
              "      <th>c</th>\n",
              "    </tr>\n",
              "  </thead>\n",
              "  <tbody>\n",
              "    <tr>\n",
              "      <th>A</th>\n",
              "      <td>1</td>\n",
              "      <td>2</td>\n",
              "      <td>3</td>\n",
              "    </tr>\n",
              "    <tr>\n",
              "      <th>b</th>\n",
              "      <td>4</td>\n",
              "      <td>5</td>\n",
              "      <td>6</td>\n",
              "    </tr>\n",
              "    <tr>\n",
              "      <th>C</th>\n",
              "      <td>7</td>\n",
              "      <td>8</td>\n",
              "      <td>9</td>\n",
              "    </tr>\n",
              "  </tbody>\n",
              "</table>\n",
              "</div>\n",
              "      <button class=\"colab-df-convert\" onclick=\"convertToInteractive('df-247a3d25-1ed0-48b8-923e-569840d87c61')\"\n",
              "              title=\"Convert this dataframe to an interactive table.\"\n",
              "              style=\"display:none;\">\n",
              "        \n",
              "  <svg xmlns=\"http://www.w3.org/2000/svg\" height=\"24px\"viewBox=\"0 0 24 24\"\n",
              "       width=\"24px\">\n",
              "    <path d=\"M0 0h24v24H0V0z\" fill=\"none\"/>\n",
              "    <path d=\"M18.56 5.44l.94 2.06.94-2.06 2.06-.94-2.06-.94-.94-2.06-.94 2.06-2.06.94zm-11 1L8.5 8.5l.94-2.06 2.06-.94-2.06-.94L8.5 2.5l-.94 2.06-2.06.94zm10 10l.94 2.06.94-2.06 2.06-.94-2.06-.94-.94-2.06-.94 2.06-2.06.94z\"/><path d=\"M17.41 7.96l-1.37-1.37c-.4-.4-.92-.59-1.43-.59-.52 0-1.04.2-1.43.59L10.3 9.45l-7.72 7.72c-.78.78-.78 2.05 0 2.83L4 21.41c.39.39.9.59 1.41.59.51 0 1.02-.2 1.41-.59l7.78-7.78 2.81-2.81c.8-.78.8-2.07 0-2.86zM5.41 20L4 18.59l7.72-7.72 1.47 1.35L5.41 20z\"/>\n",
              "  </svg>\n",
              "      </button>\n",
              "      \n",
              "  <style>\n",
              "    .colab-df-container {\n",
              "      display:flex;\n",
              "      flex-wrap:wrap;\n",
              "      gap: 12px;\n",
              "    }\n",
              "\n",
              "    .colab-df-convert {\n",
              "      background-color: #E8F0FE;\n",
              "      border: none;\n",
              "      border-radius: 50%;\n",
              "      cursor: pointer;\n",
              "      display: none;\n",
              "      fill: #1967D2;\n",
              "      height: 32px;\n",
              "      padding: 0 0 0 0;\n",
              "      width: 32px;\n",
              "    }\n",
              "\n",
              "    .colab-df-convert:hover {\n",
              "      background-color: #E2EBFA;\n",
              "      box-shadow: 0px 1px 2px rgba(60, 64, 67, 0.3), 0px 1px 3px 1px rgba(60, 64, 67, 0.15);\n",
              "      fill: #174EA6;\n",
              "    }\n",
              "\n",
              "    [theme=dark] .colab-df-convert {\n",
              "      background-color: #3B4455;\n",
              "      fill: #D2E3FC;\n",
              "    }\n",
              "\n",
              "    [theme=dark] .colab-df-convert:hover {\n",
              "      background-color: #434B5C;\n",
              "      box-shadow: 0px 1px 3px 1px rgba(0, 0, 0, 0.15);\n",
              "      filter: drop-shadow(0px 1px 2px rgba(0, 0, 0, 0.3));\n",
              "      fill: #FFFFFF;\n",
              "    }\n",
              "  </style>\n",
              "\n",
              "      <script>\n",
              "        const buttonEl =\n",
              "          document.querySelector('#df-247a3d25-1ed0-48b8-923e-569840d87c61 button.colab-df-convert');\n",
              "        buttonEl.style.display =\n",
              "          google.colab.kernel.accessAllowed ? 'block' : 'none';\n",
              "\n",
              "        async function convertToInteractive(key) {\n",
              "          const element = document.querySelector('#df-247a3d25-1ed0-48b8-923e-569840d87c61');\n",
              "          const dataTable =\n",
              "            await google.colab.kernel.invokeFunction('convertToInteractive',\n",
              "                                                     [key], {});\n",
              "          if (!dataTable) return;\n",
              "\n",
              "          const docLinkHtml = 'Like what you see? Visit the ' +\n",
              "            '<a target=\"_blank\" href=https://colab.research.google.com/notebooks/data_table.ipynb>data table notebook</a>'\n",
              "            + ' to learn more about interactive tables.';\n",
              "          element.innerHTML = '';\n",
              "          dataTable['output_type'] = 'display_data';\n",
              "          await google.colab.output.renderOutput(dataTable, element);\n",
              "          const docLink = document.createElement('div');\n",
              "          docLink.innerHTML = docLinkHtml;\n",
              "          element.appendChild(docLink);\n",
              "        }\n",
              "      </script>\n",
              "    </div>\n",
              "  </div>\n",
              "  "
            ]
          },
          "metadata": {},
          "execution_count": 12
        }
      ]
    },
    {
      "cell_type": "markdown",
      "source": [
        "データの消去\n",
        "* pandas.Series.dropは、列と行の削除を行うことが出来ます。\n",
        "* デフォルトでは、行の削除(axis=0)を指定しています。\n",
        "---\n",
        "Erase data\n",
        "* pandas.Series.drop can delete columns and rows.\n",
        "* The default is to delete rows (axis=0)."
      ],
      "metadata": {
        "id": "D9yimAO4qyth"
      }
    },
    {
      "cell_type": "markdown",
      "source": [
        "* pandas.Series.drop: https://pandas.pydata.org/docs/reference/api/pandas.Series.drop.html"
      ],
      "metadata": {
        "id": "HVEb2pYmiWHn"
      }
    },
    {
      "cell_type": "markdown",
      "source": [
        "* axis = 0, axis=1: https://qiita.com/Phoeboooo/items/b464b7df3c64a33caf94\n",
        "\n",
        "* 列に沿った処理はaxis=0, 行に沿った処理はaxis=1\n",
        "* axis=0 for processing along columns, axis=1 for along rows\n",
        "---\n",
        "![image.png](data:image/png;base64,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)"
      ],
      "metadata": {
        "id": "zhSje3mGqP0s"
      }
    },
    {
      "cell_type": "code",
      "source": [
        "df.drop('C')\n",
        "df"
      ],
      "metadata": {
        "colab": {
          "base_uri": "https://localhost:8080/",
          "height": 143
        },
        "id": "2YzLyUKmqf9I",
        "outputId": "281a3d79-a020-47dc-81f9-b8f6479e439e"
      },
      "execution_count": null,
      "outputs": [
        {
          "output_type": "execute_result",
          "data": {
            "text/plain": [
              "   a  B  c\n",
              "A  1  2  3\n",
              "b  4  5  6\n",
              "C  7  8  9"
            ],
            "text/html": [
              "\n",
              "  <div id=\"df-134a9ab1-e9e9-4cff-8fd3-8899294fc5ba\">\n",
              "    <div class=\"colab-df-container\">\n",
              "      <div>\n",
              "<style scoped>\n",
              "    .dataframe tbody tr th:only-of-type {\n",
              "        vertical-align: middle;\n",
              "    }\n",
              "\n",
              "    .dataframe tbody tr th {\n",
              "        vertical-align: top;\n",
              "    }\n",
              "\n",
              "    .dataframe thead th {\n",
              "        text-align: right;\n",
              "    }\n",
              "</style>\n",
              "<table border=\"1\" class=\"dataframe\">\n",
              "  <thead>\n",
              "    <tr style=\"text-align: right;\">\n",
              "      <th></th>\n",
              "      <th>a</th>\n",
              "      <th>B</th>\n",
              "      <th>c</th>\n",
              "    </tr>\n",
              "  </thead>\n",
              "  <tbody>\n",
              "    <tr>\n",
              "      <th>A</th>\n",
              "      <td>1</td>\n",
              "      <td>2</td>\n",
              "      <td>3</td>\n",
              "    </tr>\n",
              "    <tr>\n",
              "      <th>b</th>\n",
              "      <td>4</td>\n",
              "      <td>5</td>\n",
              "      <td>6</td>\n",
              "    </tr>\n",
              "    <tr>\n",
              "      <th>C</th>\n",
              "      <td>7</td>\n",
              "      <td>8</td>\n",
              "      <td>9</td>\n",
              "    </tr>\n",
              "  </tbody>\n",
              "</table>\n",
              "</div>\n",
              "      <button class=\"colab-df-convert\" onclick=\"convertToInteractive('df-134a9ab1-e9e9-4cff-8fd3-8899294fc5ba')\"\n",
              "              title=\"Convert this dataframe to an interactive table.\"\n",
              "              style=\"display:none;\">\n",
              "        \n",
              "  <svg xmlns=\"http://www.w3.org/2000/svg\" height=\"24px\"viewBox=\"0 0 24 24\"\n",
              "       width=\"24px\">\n",
              "    <path d=\"M0 0h24v24H0V0z\" fill=\"none\"/>\n",
              "    <path d=\"M18.56 5.44l.94 2.06.94-2.06 2.06-.94-2.06-.94-.94-2.06-.94 2.06-2.06.94zm-11 1L8.5 8.5l.94-2.06 2.06-.94-2.06-.94L8.5 2.5l-.94 2.06-2.06.94zm10 10l.94 2.06.94-2.06 2.06-.94-2.06-.94-.94-2.06-.94 2.06-2.06.94z\"/><path d=\"M17.41 7.96l-1.37-1.37c-.4-.4-.92-.59-1.43-.59-.52 0-1.04.2-1.43.59L10.3 9.45l-7.72 7.72c-.78.78-.78 2.05 0 2.83L4 21.41c.39.39.9.59 1.41.59.51 0 1.02-.2 1.41-.59l7.78-7.78 2.81-2.81c.8-.78.8-2.07 0-2.86zM5.41 20L4 18.59l7.72-7.72 1.47 1.35L5.41 20z\"/>\n",
              "  </svg>\n",
              "      </button>\n",
              "      \n",
              "  <style>\n",
              "    .colab-df-container {\n",
              "      display:flex;\n",
              "      flex-wrap:wrap;\n",
              "      gap: 12px;\n",
              "    }\n",
              "\n",
              "    .colab-df-convert {\n",
              "      background-color: #E8F0FE;\n",
              "      border: none;\n",
              "      border-radius: 50%;\n",
              "      cursor: pointer;\n",
              "      display: none;\n",
              "      fill: #1967D2;\n",
              "      height: 32px;\n",
              "      padding: 0 0 0 0;\n",
              "      width: 32px;\n",
              "    }\n",
              "\n",
              "    .colab-df-convert:hover {\n",
              "      background-color: #E2EBFA;\n",
              "      box-shadow: 0px 1px 2px rgba(60, 64, 67, 0.3), 0px 1px 3px 1px rgba(60, 64, 67, 0.15);\n",
              "      fill: #174EA6;\n",
              "    }\n",
              "\n",
              "    [theme=dark] .colab-df-convert {\n",
              "      background-color: #3B4455;\n",
              "      fill: #D2E3FC;\n",
              "    }\n",
              "\n",
              "    [theme=dark] .colab-df-convert:hover {\n",
              "      background-color: #434B5C;\n",
              "      box-shadow: 0px 1px 3px 1px rgba(0, 0, 0, 0.15);\n",
              "      filter: drop-shadow(0px 1px 2px rgba(0, 0, 0, 0.3));\n",
              "      fill: #FFFFFF;\n",
              "    }\n",
              "  </style>\n",
              "\n",
              "      <script>\n",
              "        const buttonEl =\n",
              "          document.querySelector('#df-134a9ab1-e9e9-4cff-8fd3-8899294fc5ba button.colab-df-convert');\n",
              "        buttonEl.style.display =\n",
              "          google.colab.kernel.accessAllowed ? 'block' : 'none';\n",
              "\n",
              "        async function convertToInteractive(key) {\n",
              "          const element = document.querySelector('#df-134a9ab1-e9e9-4cff-8fd3-8899294fc5ba');\n",
              "          const dataTable =\n",
              "            await google.colab.kernel.invokeFunction('convertToInteractive',\n",
              "                                                     [key], {});\n",
              "          if (!dataTable) return;\n",
              "\n",
              "          const docLinkHtml = 'Like what you see? Visit the ' +\n",
              "            '<a target=\"_blank\" href=https://colab.research.google.com/notebooks/data_table.ipynb>data table notebook</a>'\n",
              "            + ' to learn more about interactive tables.';\n",
              "          element.innerHTML = '';\n",
              "          dataTable['output_type'] = 'display_data';\n",
              "          await google.colab.output.renderOutput(dataTable, element);\n",
              "          const docLink = document.createElement('div');\n",
              "          docLink.innerHTML = docLinkHtml;\n",
              "          element.appendChild(docLink);\n",
              "        }\n",
              "      </script>\n",
              "    </div>\n",
              "  </div>\n",
              "  "
            ]
          },
          "metadata": {},
          "execution_count": 13
        }
      ]
    },
    {
      "cell_type": "markdown",
      "source": [
        "* 注釈: C行が削除されていません。\n",
        "* **inplace=True**オプションを付ける必要があります。\n",
        "---\n",
        "* Remarks: The C line has not been removed.\n",
        "* The option **inplace=True** must be added."
      ],
      "metadata": {
        "id": "TMgA-wNGr3ca"
      }
    },
    {
      "cell_type": "code",
      "source": [
        "# inplaceオプションで削除を反映させる\n",
        "# The inplace option reflects the deletion.\n",
        "\n",
        "df.drop('C' , inplace=True)\n",
        "df"
      ],
      "metadata": {
        "colab": {
          "base_uri": "https://localhost:8080/",
          "height": 112
        },
        "id": "l6nC6Y0Lrvle",
        "outputId": "01273124-515f-436b-affd-7c193e517155"
      },
      "execution_count": null,
      "outputs": [
        {
          "output_type": "execute_result",
          "data": {
            "text/plain": [
              "   a  B  c\n",
              "A  1  2  3\n",
              "b  4  5  6"
            ],
            "text/html": [
              "\n",
              "  <div id=\"df-345b254c-80bb-4c7c-9626-af300952fc17\">\n",
              "    <div class=\"colab-df-container\">\n",
              "      <div>\n",
              "<style scoped>\n",
              "    .dataframe tbody tr th:only-of-type {\n",
              "        vertical-align: middle;\n",
              "    }\n",
              "\n",
              "    .dataframe tbody tr th {\n",
              "        vertical-align: top;\n",
              "    }\n",
              "\n",
              "    .dataframe thead th {\n",
              "        text-align: right;\n",
              "    }\n",
              "</style>\n",
              "<table border=\"1\" class=\"dataframe\">\n",
              "  <thead>\n",
              "    <tr style=\"text-align: right;\">\n",
              "      <th></th>\n",
              "      <th>a</th>\n",
              "      <th>B</th>\n",
              "      <th>c</th>\n",
              "    </tr>\n",
              "  </thead>\n",
              "  <tbody>\n",
              "    <tr>\n",
              "      <th>A</th>\n",
              "      <td>1</td>\n",
              "      <td>2</td>\n",
              "      <td>3</td>\n",
              "    </tr>\n",
              "    <tr>\n",
              "      <th>b</th>\n",
              "      <td>4</td>\n",
              "      <td>5</td>\n",
              "      <td>6</td>\n",
              "    </tr>\n",
              "  </tbody>\n",
              "</table>\n",
              "</div>\n",
              "      <button class=\"colab-df-convert\" onclick=\"convertToInteractive('df-345b254c-80bb-4c7c-9626-af300952fc17')\"\n",
              "              title=\"Convert this dataframe to an interactive table.\"\n",
              "              style=\"display:none;\">\n",
              "        \n",
              "  <svg xmlns=\"http://www.w3.org/2000/svg\" height=\"24px\"viewBox=\"0 0 24 24\"\n",
              "       width=\"24px\">\n",
              "    <path d=\"M0 0h24v24H0V0z\" fill=\"none\"/>\n",
              "    <path d=\"M18.56 5.44l.94 2.06.94-2.06 2.06-.94-2.06-.94-.94-2.06-.94 2.06-2.06.94zm-11 1L8.5 8.5l.94-2.06 2.06-.94-2.06-.94L8.5 2.5l-.94 2.06-2.06.94zm10 10l.94 2.06.94-2.06 2.06-.94-2.06-.94-.94-2.06-.94 2.06-2.06.94z\"/><path d=\"M17.41 7.96l-1.37-1.37c-.4-.4-.92-.59-1.43-.59-.52 0-1.04.2-1.43.59L10.3 9.45l-7.72 7.72c-.78.78-.78 2.05 0 2.83L4 21.41c.39.39.9.59 1.41.59.51 0 1.02-.2 1.41-.59l7.78-7.78 2.81-2.81c.8-.78.8-2.07 0-2.86zM5.41 20L4 18.59l7.72-7.72 1.47 1.35L5.41 20z\"/>\n",
              "  </svg>\n",
              "      </button>\n",
              "      \n",
              "  <style>\n",
              "    .colab-df-container {\n",
              "      display:flex;\n",
              "      flex-wrap:wrap;\n",
              "      gap: 12px;\n",
              "    }\n",
              "\n",
              "    .colab-df-convert {\n",
              "      background-color: #E8F0FE;\n",
              "      border: none;\n",
              "      border-radius: 50%;\n",
              "      cursor: pointer;\n",
              "      display: none;\n",
              "      fill: #1967D2;\n",
              "      height: 32px;\n",
              "      padding: 0 0 0 0;\n",
              "      width: 32px;\n",
              "    }\n",
              "\n",
              "    .colab-df-convert:hover {\n",
              "      background-color: #E2EBFA;\n",
              "      box-shadow: 0px 1px 2px rgba(60, 64, 67, 0.3), 0px 1px 3px 1px rgba(60, 64, 67, 0.15);\n",
              "      fill: #174EA6;\n",
              "    }\n",
              "\n",
              "    [theme=dark] .colab-df-convert {\n",
              "      background-color: #3B4455;\n",
              "      fill: #D2E3FC;\n",
              "    }\n",
              "\n",
              "    [theme=dark] .colab-df-convert:hover {\n",
              "      background-color: #434B5C;\n",
              "      box-shadow: 0px 1px 3px 1px rgba(0, 0, 0, 0.15);\n",
              "      filter: drop-shadow(0px 1px 2px rgba(0, 0, 0, 0.3));\n",
              "      fill: #FFFFFF;\n",
              "    }\n",
              "  </style>\n",
              "\n",
              "      <script>\n",
              "        const buttonEl =\n",
              "          document.querySelector('#df-345b254c-80bb-4c7c-9626-af300952fc17 button.colab-df-convert');\n",
              "        buttonEl.style.display =\n",
              "          google.colab.kernel.accessAllowed ? 'block' : 'none';\n",
              "\n",
              "        async function convertToInteractive(key) {\n",
              "          const element = document.querySelector('#df-345b254c-80bb-4c7c-9626-af300952fc17');\n",
              "          const dataTable =\n",
              "            await google.colab.kernel.invokeFunction('convertToInteractive',\n",
              "                                                     [key], {});\n",
              "          if (!dataTable) return;\n",
              "\n",
              "          const docLinkHtml = 'Like what you see? Visit the ' +\n",
              "            '<a target=\"_blank\" href=https://colab.research.google.com/notebooks/data_table.ipynb>data table notebook</a>'\n",
              "            + ' to learn more about interactive tables.';\n",
              "          element.innerHTML = '';\n",
              "          dataTable['output_type'] = 'display_data';\n",
              "          await google.colab.output.renderOutput(dataTable, element);\n",
              "          const docLink = document.createElement('div');\n",
              "          docLink.innerHTML = docLinkHtml;\n",
              "          element.appendChild(docLink);\n",
              "        }\n",
              "      </script>\n",
              "    </div>\n",
              "  </div>\n",
              "  "
            ]
          },
          "metadata": {},
          "execution_count": 14
        }
      ]
    },
    {
      "cell_type": "code",
      "source": [
        "# axis=1を指定することで、列を削除することが出来る。\n",
        "# A column can be deleted by specifying axis=1.\n",
        "\n",
        "df.drop('c', axis=1, inplace=True)\n",
        "df"
      ],
      "metadata": {
        "colab": {
          "base_uri": "https://localhost:8080/",
          "height": 112
        },
        "id": "FpFyi7d_uIJ9",
        "outputId": "47871aea-db4a-47aa-9022-e30451482163"
      },
      "execution_count": null,
      "outputs": [
        {
          "output_type": "execute_result",
          "data": {
            "text/plain": [
              "   a  B\n",
              "A  1  2\n",
              "b  4  5"
            ],
            "text/html": [
              "\n",
              "  <div id=\"df-4eeac766-e4eb-4fb6-9af2-2d0b70721156\">\n",
              "    <div class=\"colab-df-container\">\n",
              "      <div>\n",
              "<style scoped>\n",
              "    .dataframe tbody tr th:only-of-type {\n",
              "        vertical-align: middle;\n",
              "    }\n",
              "\n",
              "    .dataframe tbody tr th {\n",
              "        vertical-align: top;\n",
              "    }\n",
              "\n",
              "    .dataframe thead th {\n",
              "        text-align: right;\n",
              "    }\n",
              "</style>\n",
              "<table border=\"1\" class=\"dataframe\">\n",
              "  <thead>\n",
              "    <tr style=\"text-align: right;\">\n",
              "      <th></th>\n",
              "      <th>a</th>\n",
              "      <th>B</th>\n",
              "    </tr>\n",
              "  </thead>\n",
              "  <tbody>\n",
              "    <tr>\n",
              "      <th>A</th>\n",
              "      <td>1</td>\n",
              "      <td>2</td>\n",
              "    </tr>\n",
              "    <tr>\n",
              "      <th>b</th>\n",
              "      <td>4</td>\n",
              "      <td>5</td>\n",
              "    </tr>\n",
              "  </tbody>\n",
              "</table>\n",
              "</div>\n",
              "      <button class=\"colab-df-convert\" onclick=\"convertToInteractive('df-4eeac766-e4eb-4fb6-9af2-2d0b70721156')\"\n",
              "              title=\"Convert this dataframe to an interactive table.\"\n",
              "              style=\"display:none;\">\n",
              "        \n",
              "  <svg xmlns=\"http://www.w3.org/2000/svg\" height=\"24px\"viewBox=\"0 0 24 24\"\n",
              "       width=\"24px\">\n",
              "    <path d=\"M0 0h24v24H0V0z\" fill=\"none\"/>\n",
              "    <path d=\"M18.56 5.44l.94 2.06.94-2.06 2.06-.94-2.06-.94-.94-2.06-.94 2.06-2.06.94zm-11 1L8.5 8.5l.94-2.06 2.06-.94-2.06-.94L8.5 2.5l-.94 2.06-2.06.94zm10 10l.94 2.06.94-2.06 2.06-.94-2.06-.94-.94-2.06-.94 2.06-2.06.94z\"/><path d=\"M17.41 7.96l-1.37-1.37c-.4-.4-.92-.59-1.43-.59-.52 0-1.04.2-1.43.59L10.3 9.45l-7.72 7.72c-.78.78-.78 2.05 0 2.83L4 21.41c.39.39.9.59 1.41.59.51 0 1.02-.2 1.41-.59l7.78-7.78 2.81-2.81c.8-.78.8-2.07 0-2.86zM5.41 20L4 18.59l7.72-7.72 1.47 1.35L5.41 20z\"/>\n",
              "  </svg>\n",
              "      </button>\n",
              "      \n",
              "  <style>\n",
              "    .colab-df-container {\n",
              "      display:flex;\n",
              "      flex-wrap:wrap;\n",
              "      gap: 12px;\n",
              "    }\n",
              "\n",
              "    .colab-df-convert {\n",
              "      background-color: #E8F0FE;\n",
              "      border: none;\n",
              "      border-radius: 50%;\n",
              "      cursor: pointer;\n",
              "      display: none;\n",
              "      fill: #1967D2;\n",
              "      height: 32px;\n",
              "      padding: 0 0 0 0;\n",
              "      width: 32px;\n",
              "    }\n",
              "\n",
              "    .colab-df-convert:hover {\n",
              "      background-color: #E2EBFA;\n",
              "      box-shadow: 0px 1px 2px rgba(60, 64, 67, 0.3), 0px 1px 3px 1px rgba(60, 64, 67, 0.15);\n",
              "      fill: #174EA6;\n",
              "    }\n",
              "\n",
              "    [theme=dark] .colab-df-convert {\n",
              "      background-color: #3B4455;\n",
              "      fill: #D2E3FC;\n",
              "    }\n",
              "\n",
              "    [theme=dark] .colab-df-convert:hover {\n",
              "      background-color: #434B5C;\n",
              "      box-shadow: 0px 1px 3px 1px rgba(0, 0, 0, 0.15);\n",
              "      filter: drop-shadow(0px 1px 2px rgba(0, 0, 0, 0.3));\n",
              "      fill: #FFFFFF;\n",
              "    }\n",
              "  </style>\n",
              "\n",
              "      <script>\n",
              "        const buttonEl =\n",
              "          document.querySelector('#df-4eeac766-e4eb-4fb6-9af2-2d0b70721156 button.colab-df-convert');\n",
              "        buttonEl.style.display =\n",
              "          google.colab.kernel.accessAllowed ? 'block' : 'none';\n",
              "\n",
              "        async function convertToInteractive(key) {\n",
              "          const element = document.querySelector('#df-4eeac766-e4eb-4fb6-9af2-2d0b70721156');\n",
              "          const dataTable =\n",
              "            await google.colab.kernel.invokeFunction('convertToInteractive',\n",
              "                                                     [key], {});\n",
              "          if (!dataTable) return;\n",
              "\n",
              "          const docLinkHtml = 'Like what you see? Visit the ' +\n",
              "            '<a target=\"_blank\" href=https://colab.research.google.com/notebooks/data_table.ipynb>data table notebook</a>'\n",
              "            + ' to learn more about interactive tables.';\n",
              "          element.innerHTML = '';\n",
              "          dataTable['output_type'] = 'display_data';\n",
              "          await google.colab.output.renderOutput(dataTable, element);\n",
              "          const docLink = document.createElement('div');\n",
              "          docLink.innerHTML = docLinkHtml;\n",
              "          element.appendChild(docLink);\n",
              "        }\n",
              "      </script>\n",
              "    </div>\n",
              "  </div>\n",
              "  "
            ]
          },
          "metadata": {},
          "execution_count": 15
        }
      ]
    },
    {
      "cell_type": "markdown",
      "source": [
        "データの取得\n",
        "* pd.DataFrame.locとpd.DataFrame.ilocを使うことで、DataFrameの指定した行や指定した列を取得することができます。\n",
        "---\n",
        "Data Acquisition\n",
        "* pd.DataFrame.loc and pd.DataFrame.iloc can be used to retrieve a given row or column of a DataFrame."
      ],
      "metadata": {
        "id": "9-Stk3tBu6Ro"
      }
    },
    {
      "cell_type": "markdown",
      "source": [
        "* pandas.DataFrame.loc: https://pandas.pydata.org/docs/reference/api/pandas.DataFrame.loc.html\n",
        "* pandas.DataFrame.iloc: https://pandas.pydata.org/docs/reference/api/pandas.DataFrame.iloc.html"
      ],
      "metadata": {
        "id": "ZodZb4D52AJF"
      }
    },
    {
      "cell_type": "code",
      "source": [
        "# データフレームを再度作成する\n",
        "# Re-create the data frame\n",
        "\n",
        "df = pd.DataFrame([[1,2,3],[4,5,6],[7,8,9]], index=[\"a\", \"b\", \"c\"], columns=[\"A\", \"B\", \"C\"])\n",
        "df"
      ],
      "metadata": {
        "colab": {
          "base_uri": "https://localhost:8080/",
          "height": 143
        },
        "id": "vdjCZO3KuZfu",
        "outputId": "19b64a48-9578-4bd1-9e4f-0220a47ee865"
      },
      "execution_count": null,
      "outputs": [
        {
          "output_type": "execute_result",
          "data": {
            "text/plain": [
              "   A  B  C\n",
              "a  1  2  3\n",
              "b  4  5  6\n",
              "c  7  8  9"
            ],
            "text/html": [
              "\n",
              "  <div id=\"df-0e645c9a-0e2d-461b-92eb-45d04fc23004\">\n",
              "    <div class=\"colab-df-container\">\n",
              "      <div>\n",
              "<style scoped>\n",
              "    .dataframe tbody tr th:only-of-type {\n",
              "        vertical-align: middle;\n",
              "    }\n",
              "\n",
              "    .dataframe tbody tr th {\n",
              "        vertical-align: top;\n",
              "    }\n",
              "\n",
              "    .dataframe thead th {\n",
              "        text-align: right;\n",
              "    }\n",
              "</style>\n",
              "<table border=\"1\" class=\"dataframe\">\n",
              "  <thead>\n",
              "    <tr style=\"text-align: right;\">\n",
              "      <th></th>\n",
              "      <th>A</th>\n",
              "      <th>B</th>\n",
              "      <th>C</th>\n",
              "    </tr>\n",
              "  </thead>\n",
              "  <tbody>\n",
              "    <tr>\n",
              "      <th>a</th>\n",
              "      <td>1</td>\n",
              "      <td>2</td>\n",
              "      <td>3</td>\n",
              "    </tr>\n",
              "    <tr>\n",
              "      <th>b</th>\n",
              "      <td>4</td>\n",
              "      <td>5</td>\n",
              "      <td>6</td>\n",
              "    </tr>\n",
              "    <tr>\n",
              "      <th>c</th>\n",
              "      <td>7</td>\n",
              "      <td>8</td>\n",
              "      <td>9</td>\n",
              "    </tr>\n",
              "  </tbody>\n",
              "</table>\n",
              "</div>\n",
              "      <button class=\"colab-df-convert\" onclick=\"convertToInteractive('df-0e645c9a-0e2d-461b-92eb-45d04fc23004')\"\n",
              "              title=\"Convert this dataframe to an interactive table.\"\n",
              "              style=\"display:none;\">\n",
              "        \n",
              "  <svg xmlns=\"http://www.w3.org/2000/svg\" height=\"24px\"viewBox=\"0 0 24 24\"\n",
              "       width=\"24px\">\n",
              "    <path d=\"M0 0h24v24H0V0z\" fill=\"none\"/>\n",
              "    <path d=\"M18.56 5.44l.94 2.06.94-2.06 2.06-.94-2.06-.94-.94-2.06-.94 2.06-2.06.94zm-11 1L8.5 8.5l.94-2.06 2.06-.94-2.06-.94L8.5 2.5l-.94 2.06-2.06.94zm10 10l.94 2.06.94-2.06 2.06-.94-2.06-.94-.94-2.06-.94 2.06-2.06.94z\"/><path d=\"M17.41 7.96l-1.37-1.37c-.4-.4-.92-.59-1.43-.59-.52 0-1.04.2-1.43.59L10.3 9.45l-7.72 7.72c-.78.78-.78 2.05 0 2.83L4 21.41c.39.39.9.59 1.41.59.51 0 1.02-.2 1.41-.59l7.78-7.78 2.81-2.81c.8-.78.8-2.07 0-2.86zM5.41 20L4 18.59l7.72-7.72 1.47 1.35L5.41 20z\"/>\n",
              "  </svg>\n",
              "      </button>\n",
              "      \n",
              "  <style>\n",
              "    .colab-df-container {\n",
              "      display:flex;\n",
              "      flex-wrap:wrap;\n",
              "      gap: 12px;\n",
              "    }\n",
              "\n",
              "    .colab-df-convert {\n",
              "      background-color: #E8F0FE;\n",
              "      border: none;\n",
              "      border-radius: 50%;\n",
              "      cursor: pointer;\n",
              "      display: none;\n",
              "      fill: #1967D2;\n",
              "      height: 32px;\n",
              "      padding: 0 0 0 0;\n",
              "      width: 32px;\n",
              "    }\n",
              "\n",
              "    .colab-df-convert:hover {\n",
              "      background-color: #E2EBFA;\n",
              "      box-shadow: 0px 1px 2px rgba(60, 64, 67, 0.3), 0px 1px 3px 1px rgba(60, 64, 67, 0.15);\n",
              "      fill: #174EA6;\n",
              "    }\n",
              "\n",
              "    [theme=dark] .colab-df-convert {\n",
              "      background-color: #3B4455;\n",
              "      fill: #D2E3FC;\n",
              "    }\n",
              "\n",
              "    [theme=dark] .colab-df-convert:hover {\n",
              "      background-color: #434B5C;\n",
              "      box-shadow: 0px 1px 3px 1px rgba(0, 0, 0, 0.15);\n",
              "      filter: drop-shadow(0px 1px 2px rgba(0, 0, 0, 0.3));\n",
              "      fill: #FFFFFF;\n",
              "    }\n",
              "  </style>\n",
              "\n",
              "      <script>\n",
              "        const buttonEl =\n",
              "          document.querySelector('#df-0e645c9a-0e2d-461b-92eb-45d04fc23004 button.colab-df-convert');\n",
              "        buttonEl.style.display =\n",
              "          google.colab.kernel.accessAllowed ? 'block' : 'none';\n",
              "\n",
              "        async function convertToInteractive(key) {\n",
              "          const element = document.querySelector('#df-0e645c9a-0e2d-461b-92eb-45d04fc23004');\n",
              "          const dataTable =\n",
              "            await google.colab.kernel.invokeFunction('convertToInteractive',\n",
              "                                                     [key], {});\n",
              "          if (!dataTable) return;\n",
              "\n",
              "          const docLinkHtml = 'Like what you see? Visit the ' +\n",
              "            '<a target=\"_blank\" href=https://colab.research.google.com/notebooks/data_table.ipynb>data table notebook</a>'\n",
              "            + ' to learn more about interactive tables.';\n",
              "          element.innerHTML = '';\n",
              "          dataTable['output_type'] = 'display_data';\n",
              "          await google.colab.output.renderOutput(dataTable, element);\n",
              "          const docLink = document.createElement('div');\n",
              "          docLink.innerHTML = docLinkHtml;\n",
              "          element.appendChild(docLink);\n",
              "        }\n",
              "      </script>\n",
              "    </div>\n",
              "  </div>\n",
              "  "
            ]
          },
          "metadata": {},
          "execution_count": 16
        }
      ]
    },
    {
      "cell_type": "markdown",
      "source": [
        "* loc は 行、列をラベルで指定します。\n",
        "* iloc は 行、列を番号で指定します。\n",
        "---\n",
        "* loc specifies rows and columns with labels\n",
        "* iloc specifies rows and columns by number"
      ],
      "metadata": {
        "id": "v54uZvJo0ZCh"
      }
    },
    {
      "cell_type": "markdown",
      "source": [
        "* pandas.DataFrame.loc: https://pandas.pydata.org/docs/reference/api/pandas.DataFrame.loc.html\n",
        "* pandas.DataFrame.iloc: https://pandas.pydata.org/docs/reference/api/pandas.DataFrame.iloc.html"
      ],
      "metadata": {
        "id": "ABxxHKIwkQOA"
      }
    },
    {
      "cell_type": "code",
      "source": [
        "# b行のデータを取得\n",
        "# Get data in row b\n",
        "\n",
        "df.loc[\"b\"]"
      ],
      "metadata": {
        "colab": {
          "base_uri": "https://localhost:8080/"
        },
        "id": "7bJ135kZwlvZ",
        "outputId": "b2534c87-4872-4493-8cae-a4219beba835"
      },
      "execution_count": null,
      "outputs": [
        {
          "output_type": "execute_result",
          "data": {
            "text/plain": [
              "A    4\n",
              "B    5\n",
              "C    6\n",
              "Name: b, dtype: int64"
            ]
          },
          "metadata": {},
          "execution_count": 17
        }
      ]
    },
    {
      "cell_type": "code",
      "source": [
        "# C列のデータを取得\n",
        "# Get data in column C\n",
        "\n",
        "df.loc[ : , \"C\"]"
      ],
      "metadata": {
        "colab": {
          "base_uri": "https://localhost:8080/"
        },
        "id": "Jp-04HBExXpr",
        "outputId": "35a6af49-42a7-450f-cece-25ff1c26e245"
      },
      "execution_count": null,
      "outputs": [
        {
          "output_type": "execute_result",
          "data": {
            "text/plain": [
              "a    3\n",
              "b    6\n",
              "c    9\n",
              "Name: C, dtype: int64"
            ]
          },
          "metadata": {},
          "execution_count": 18
        }
      ]
    },
    {
      "cell_type": "code",
      "source": [
        "# 0,1行目のデータを取得\n",
        "# Get data of rows 0,1\n",
        "\n",
        "df.iloc[ [0, 1] ]"
      ],
      "metadata": {
        "colab": {
          "base_uri": "https://localhost:8080/",
          "height": 112
        },
        "id": "mxLAaaghxwTX",
        "outputId": "5d4ba7eb-20c7-4729-812c-3a98ce102a94"
      },
      "execution_count": null,
      "outputs": [
        {
          "output_type": "execute_result",
          "data": {
            "text/plain": [
              "   A  B  C\n",
              "a  1  2  3\n",
              "b  4  5  6"
            ],
            "text/html": [
              "\n",
              "  <div id=\"df-a9bfceaa-22fc-4237-8426-80abb61c836b\">\n",
              "    <div class=\"colab-df-container\">\n",
              "      <div>\n",
              "<style scoped>\n",
              "    .dataframe tbody tr th:only-of-type {\n",
              "        vertical-align: middle;\n",
              "    }\n",
              "\n",
              "    .dataframe tbody tr th {\n",
              "        vertical-align: top;\n",
              "    }\n",
              "\n",
              "    .dataframe thead th {\n",
              "        text-align: right;\n",
              "    }\n",
              "</style>\n",
              "<table border=\"1\" class=\"dataframe\">\n",
              "  <thead>\n",
              "    <tr style=\"text-align: right;\">\n",
              "      <th></th>\n",
              "      <th>A</th>\n",
              "      <th>B</th>\n",
              "      <th>C</th>\n",
              "    </tr>\n",
              "  </thead>\n",
              "  <tbody>\n",
              "    <tr>\n",
              "      <th>a</th>\n",
              "      <td>1</td>\n",
              "      <td>2</td>\n",
              "      <td>3</td>\n",
              "    </tr>\n",
              "    <tr>\n",
              "      <th>b</th>\n",
              "      <td>4</td>\n",
              "      <td>5</td>\n",
              "      <td>6</td>\n",
              "    </tr>\n",
              "  </tbody>\n",
              "</table>\n",
              "</div>\n",
              "      <button class=\"colab-df-convert\" onclick=\"convertToInteractive('df-a9bfceaa-22fc-4237-8426-80abb61c836b')\"\n",
              "              title=\"Convert this dataframe to an interactive table.\"\n",
              "              style=\"display:none;\">\n",
              "        \n",
              "  <svg xmlns=\"http://www.w3.org/2000/svg\" height=\"24px\"viewBox=\"0 0 24 24\"\n",
              "       width=\"24px\">\n",
              "    <path d=\"M0 0h24v24H0V0z\" fill=\"none\"/>\n",
              "    <path d=\"M18.56 5.44l.94 2.06.94-2.06 2.06-.94-2.06-.94-.94-2.06-.94 2.06-2.06.94zm-11 1L8.5 8.5l.94-2.06 2.06-.94-2.06-.94L8.5 2.5l-.94 2.06-2.06.94zm10 10l.94 2.06.94-2.06 2.06-.94-2.06-.94-.94-2.06-.94 2.06-2.06.94z\"/><path d=\"M17.41 7.96l-1.37-1.37c-.4-.4-.92-.59-1.43-.59-.52 0-1.04.2-1.43.59L10.3 9.45l-7.72 7.72c-.78.78-.78 2.05 0 2.83L4 21.41c.39.39.9.59 1.41.59.51 0 1.02-.2 1.41-.59l7.78-7.78 2.81-2.81c.8-.78.8-2.07 0-2.86zM5.41 20L4 18.59l7.72-7.72 1.47 1.35L5.41 20z\"/>\n",
              "  </svg>\n",
              "      </button>\n",
              "      \n",
              "  <style>\n",
              "    .colab-df-container {\n",
              "      display:flex;\n",
              "      flex-wrap:wrap;\n",
              "      gap: 12px;\n",
              "    }\n",
              "\n",
              "    .colab-df-convert {\n",
              "      background-color: #E8F0FE;\n",
              "      border: none;\n",
              "      border-radius: 50%;\n",
              "      cursor: pointer;\n",
              "      display: none;\n",
              "      fill: #1967D2;\n",
              "      height: 32px;\n",
              "      padding: 0 0 0 0;\n",
              "      width: 32px;\n",
              "    }\n",
              "\n",
              "    .colab-df-convert:hover {\n",
              "      background-color: #E2EBFA;\n",
              "      box-shadow: 0px 1px 2px rgba(60, 64, 67, 0.3), 0px 1px 3px 1px rgba(60, 64, 67, 0.15);\n",
              "      fill: #174EA6;\n",
              "    }\n",
              "\n",
              "    [theme=dark] .colab-df-convert {\n",
              "      background-color: #3B4455;\n",
              "      fill: #D2E3FC;\n",
              "    }\n",
              "\n",
              "    [theme=dark] .colab-df-convert:hover {\n",
              "      background-color: #434B5C;\n",
              "      box-shadow: 0px 1px 3px 1px rgba(0, 0, 0, 0.15);\n",
              "      filter: drop-shadow(0px 1px 2px rgba(0, 0, 0, 0.3));\n",
              "      fill: #FFFFFF;\n",
              "    }\n",
              "  </style>\n",
              "\n",
              "      <script>\n",
              "        const buttonEl =\n",
              "          document.querySelector('#df-a9bfceaa-22fc-4237-8426-80abb61c836b button.colab-df-convert');\n",
              "        buttonEl.style.display =\n",
              "          google.colab.kernel.accessAllowed ? 'block' : 'none';\n",
              "\n",
              "        async function convertToInteractive(key) {\n",
              "          const element = document.querySelector('#df-a9bfceaa-22fc-4237-8426-80abb61c836b');\n",
              "          const dataTable =\n",
              "            await google.colab.kernel.invokeFunction('convertToInteractive',\n",
              "                                                     [key], {});\n",
              "          if (!dataTable) return;\n",
              "\n",
              "          const docLinkHtml = 'Like what you see? Visit the ' +\n",
              "            '<a target=\"_blank\" href=https://colab.research.google.com/notebooks/data_table.ipynb>data table notebook</a>'\n",
              "            + ' to learn more about interactive tables.';\n",
              "          element.innerHTML = '';\n",
              "          dataTable['output_type'] = 'display_data';\n",
              "          await google.colab.output.renderOutput(dataTable, element);\n",
              "          const docLink = document.createElement('div');\n",
              "          docLink.innerHTML = docLinkHtml;\n",
              "          element.appendChild(docLink);\n",
              "        }\n",
              "      </script>\n",
              "    </div>\n",
              "  </div>\n",
              "  "
            ]
          },
          "metadata": {},
          "execution_count": 19
        }
      ]
    },
    {
      "cell_type": "markdown",
      "source": [
        "列を指定する方法\n",
        "* df[列名]\n",
        "* df.loc[:, 列名]\n",
        "* df.iloc[:, 列番号]\n",
        "* locやilocの引数は行→列の順になっています。\n",
        "* df.iloc[行, 列]\n",
        "* コロン（：）だけ書かれているのはすべての行を指定するという意味です。\n",
        "---\n",
        "How to specify columns\n",
        "* df[column name]\n",
        "* df.loc[:, column name].\n",
        "* df.iloc[:, column number].\n",
        "* The arguments of loc and iloc are in order from row to column.\n",
        "* df.iloc[row, column]\n",
        "* Only a colon (:) is written to mean that all rows are specified."
      ],
      "metadata": {
        "id": "W_ssV4f7mYVg"
      }
    },
    {
      "cell_type": "code",
      "source": [
        "# 1列目のデータを取得\n",
        "# Get the data of the first column\n",
        "\n",
        "df.iloc[ : , [1]]"
      ],
      "metadata": {
        "colab": {
          "base_uri": "https://localhost:8080/",
          "height": 143
        },
        "id": "srLWuRBsyWfi",
        "outputId": "1d128984-2a81-4392-f2af-86de8d959099"
      },
      "execution_count": null,
      "outputs": [
        {
          "output_type": "execute_result",
          "data": {
            "text/plain": [
              "   B\n",
              "a  2\n",
              "b  5\n",
              "c  8"
            ],
            "text/html": [
              "\n",
              "  <div id=\"df-a594a7d2-b720-4bad-90ab-112acbd2df64\">\n",
              "    <div class=\"colab-df-container\">\n",
              "      <div>\n",
              "<style scoped>\n",
              "    .dataframe tbody tr th:only-of-type {\n",
              "        vertical-align: middle;\n",
              "    }\n",
              "\n",
              "    .dataframe tbody tr th {\n",
              "        vertical-align: top;\n",
              "    }\n",
              "\n",
              "    .dataframe thead th {\n",
              "        text-align: right;\n",
              "    }\n",
              "</style>\n",
              "<table border=\"1\" class=\"dataframe\">\n",
              "  <thead>\n",
              "    <tr style=\"text-align: right;\">\n",
              "      <th></th>\n",
              "      <th>B</th>\n",
              "    </tr>\n",
              "  </thead>\n",
              "  <tbody>\n",
              "    <tr>\n",
              "      <th>a</th>\n",
              "      <td>2</td>\n",
              "    </tr>\n",
              "    <tr>\n",
              "      <th>b</th>\n",
              "      <td>5</td>\n",
              "    </tr>\n",
              "    <tr>\n",
              "      <th>c</th>\n",
              "      <td>8</td>\n",
              "    </tr>\n",
              "  </tbody>\n",
              "</table>\n",
              "</div>\n",
              "      <button class=\"colab-df-convert\" onclick=\"convertToInteractive('df-a594a7d2-b720-4bad-90ab-112acbd2df64')\"\n",
              "              title=\"Convert this dataframe to an interactive table.\"\n",
              "              style=\"display:none;\">\n",
              "        \n",
              "  <svg xmlns=\"http://www.w3.org/2000/svg\" height=\"24px\"viewBox=\"0 0 24 24\"\n",
              "       width=\"24px\">\n",
              "    <path d=\"M0 0h24v24H0V0z\" fill=\"none\"/>\n",
              "    <path d=\"M18.56 5.44l.94 2.06.94-2.06 2.06-.94-2.06-.94-.94-2.06-.94 2.06-2.06.94zm-11 1L8.5 8.5l.94-2.06 2.06-.94-2.06-.94L8.5 2.5l-.94 2.06-2.06.94zm10 10l.94 2.06.94-2.06 2.06-.94-2.06-.94-.94-2.06-.94 2.06-2.06.94z\"/><path d=\"M17.41 7.96l-1.37-1.37c-.4-.4-.92-.59-1.43-.59-.52 0-1.04.2-1.43.59L10.3 9.45l-7.72 7.72c-.78.78-.78 2.05 0 2.83L4 21.41c.39.39.9.59 1.41.59.51 0 1.02-.2 1.41-.59l7.78-7.78 2.81-2.81c.8-.78.8-2.07 0-2.86zM5.41 20L4 18.59l7.72-7.72 1.47 1.35L5.41 20z\"/>\n",
              "  </svg>\n",
              "      </button>\n",
              "      \n",
              "  <style>\n",
              "    .colab-df-container {\n",
              "      display:flex;\n",
              "      flex-wrap:wrap;\n",
              "      gap: 12px;\n",
              "    }\n",
              "\n",
              "    .colab-df-convert {\n",
              "      background-color: #E8F0FE;\n",
              "      border: none;\n",
              "      border-radius: 50%;\n",
              "      cursor: pointer;\n",
              "      display: none;\n",
              "      fill: #1967D2;\n",
              "      height: 32px;\n",
              "      padding: 0 0 0 0;\n",
              "      width: 32px;\n",
              "    }\n",
              "\n",
              "    .colab-df-convert:hover {\n",
              "      background-color: #E2EBFA;\n",
              "      box-shadow: 0px 1px 2px rgba(60, 64, 67, 0.3), 0px 1px 3px 1px rgba(60, 64, 67, 0.15);\n",
              "      fill: #174EA6;\n",
              "    }\n",
              "\n",
              "    [theme=dark] .colab-df-convert {\n",
              "      background-color: #3B4455;\n",
              "      fill: #D2E3FC;\n",
              "    }\n",
              "\n",
              "    [theme=dark] .colab-df-convert:hover {\n",
              "      background-color: #434B5C;\n",
              "      box-shadow: 0px 1px 3px 1px rgba(0, 0, 0, 0.15);\n",
              "      filter: drop-shadow(0px 1px 2px rgba(0, 0, 0, 0.3));\n",
              "      fill: #FFFFFF;\n",
              "    }\n",
              "  </style>\n",
              "\n",
              "      <script>\n",
              "        const buttonEl =\n",
              "          document.querySelector('#df-a594a7d2-b720-4bad-90ab-112acbd2df64 button.colab-df-convert');\n",
              "        buttonEl.style.display =\n",
              "          google.colab.kernel.accessAllowed ? 'block' : 'none';\n",
              "\n",
              "        async function convertToInteractive(key) {\n",
              "          const element = document.querySelector('#df-a594a7d2-b720-4bad-90ab-112acbd2df64');\n",
              "          const dataTable =\n",
              "            await google.colab.kernel.invokeFunction('convertToInteractive',\n",
              "                                                     [key], {});\n",
              "          if (!dataTable) return;\n",
              "\n",
              "          const docLinkHtml = 'Like what you see? Visit the ' +\n",
              "            '<a target=\"_blank\" href=https://colab.research.google.com/notebooks/data_table.ipynb>data table notebook</a>'\n",
              "            + ' to learn more about interactive tables.';\n",
              "          element.innerHTML = '';\n",
              "          dataTable['output_type'] = 'display_data';\n",
              "          await google.colab.output.renderOutput(dataTable, element);\n",
              "          const docLink = document.createElement('div');\n",
              "          docLink.innerHTML = docLinkHtml;\n",
              "          element.appendChild(docLink);\n",
              "        }\n",
              "      </script>\n",
              "    </div>\n",
              "  </div>\n",
              "  "
            ]
          },
          "metadata": {},
          "execution_count": 20
        }
      ]
    },
    {
      "cell_type": "markdown",
      "source": [
        "データの表示\n",
        "* Dataframeにはheadとtailというメソッドが用意されています。\n",
        "* headは先頭から指定した数の行データを表示します。\n",
        "* tailは末尾から指定した数の行データを表示します。\n",
        "---\n",
        "Data display\n",
        "* Dataframe provides two methods: head and tail.\n",
        "* head displays the specified number of rows of data from the beginning.\n",
        "* tail displays the specified number of rows from the tail."
      ],
      "metadata": {
        "id": "dlLOh9J3zJt_"
      }
    },
    {
      "cell_type": "markdown",
      "source": [
        "* pandas.DataFrame.head: https://pandas.pydata.org/pandas-docs/stable/reference/api/pandas.DataFrame.head.html"
      ],
      "metadata": {
        "id": "pAVVSxDFlgWe"
      }
    },
    {
      "cell_type": "code",
      "source": [
        "# DataFrame.head(n=5), 最初のn行を返す。\n",
        "# DataFrame.head(n=5), Return the first n rows.\n",
        "\n",
        "df.head(2)"
      ],
      "metadata": {
        "colab": {
          "base_uri": "https://localhost:8080/",
          "height": 112
        },
        "id": "FMP0VmM-y1aT",
        "outputId": "a5f6aa37-cf14-4f52-a115-282e9cffee55"
      },
      "execution_count": null,
      "outputs": [
        {
          "output_type": "execute_result",
          "data": {
            "text/plain": [
              "   A  B  C\n",
              "a  1  2  3\n",
              "b  4  5  6"
            ],
            "text/html": [
              "\n",
              "  <div id=\"df-3ff24429-5e21-4bd0-91b3-5a5621c9a24a\">\n",
              "    <div class=\"colab-df-container\">\n",
              "      <div>\n",
              "<style scoped>\n",
              "    .dataframe tbody tr th:only-of-type {\n",
              "        vertical-align: middle;\n",
              "    }\n",
              "\n",
              "    .dataframe tbody tr th {\n",
              "        vertical-align: top;\n",
              "    }\n",
              "\n",
              "    .dataframe thead th {\n",
              "        text-align: right;\n",
              "    }\n",
              "</style>\n",
              "<table border=\"1\" class=\"dataframe\">\n",
              "  <thead>\n",
              "    <tr style=\"text-align: right;\">\n",
              "      <th></th>\n",
              "      <th>A</th>\n",
              "      <th>B</th>\n",
              "      <th>C</th>\n",
              "    </tr>\n",
              "  </thead>\n",
              "  <tbody>\n",
              "    <tr>\n",
              "      <th>a</th>\n",
              "      <td>1</td>\n",
              "      <td>2</td>\n",
              "      <td>3</td>\n",
              "    </tr>\n",
              "    <tr>\n",
              "      <th>b</th>\n",
              "      <td>4</td>\n",
              "      <td>5</td>\n",
              "      <td>6</td>\n",
              "    </tr>\n",
              "  </tbody>\n",
              "</table>\n",
              "</div>\n",
              "      <button class=\"colab-df-convert\" onclick=\"convertToInteractive('df-3ff24429-5e21-4bd0-91b3-5a5621c9a24a')\"\n",
              "              title=\"Convert this dataframe to an interactive table.\"\n",
              "              style=\"display:none;\">\n",
              "        \n",
              "  <svg xmlns=\"http://www.w3.org/2000/svg\" height=\"24px\"viewBox=\"0 0 24 24\"\n",
              "       width=\"24px\">\n",
              "    <path d=\"M0 0h24v24H0V0z\" fill=\"none\"/>\n",
              "    <path d=\"M18.56 5.44l.94 2.06.94-2.06 2.06-.94-2.06-.94-.94-2.06-.94 2.06-2.06.94zm-11 1L8.5 8.5l.94-2.06 2.06-.94-2.06-.94L8.5 2.5l-.94 2.06-2.06.94zm10 10l.94 2.06.94-2.06 2.06-.94-2.06-.94-.94-2.06-.94 2.06-2.06.94z\"/><path d=\"M17.41 7.96l-1.37-1.37c-.4-.4-.92-.59-1.43-.59-.52 0-1.04.2-1.43.59L10.3 9.45l-7.72 7.72c-.78.78-.78 2.05 0 2.83L4 21.41c.39.39.9.59 1.41.59.51 0 1.02-.2 1.41-.59l7.78-7.78 2.81-2.81c.8-.78.8-2.07 0-2.86zM5.41 20L4 18.59l7.72-7.72 1.47 1.35L5.41 20z\"/>\n",
              "  </svg>\n",
              "      </button>\n",
              "      \n",
              "  <style>\n",
              "    .colab-df-container {\n",
              "      display:flex;\n",
              "      flex-wrap:wrap;\n",
              "      gap: 12px;\n",
              "    }\n",
              "\n",
              "    .colab-df-convert {\n",
              "      background-color: #E8F0FE;\n",
              "      border: none;\n",
              "      border-radius: 50%;\n",
              "      cursor: pointer;\n",
              "      display: none;\n",
              "      fill: #1967D2;\n",
              "      height: 32px;\n",
              "      padding: 0 0 0 0;\n",
              "      width: 32px;\n",
              "    }\n",
              "\n",
              "    .colab-df-convert:hover {\n",
              "      background-color: #E2EBFA;\n",
              "      box-shadow: 0px 1px 2px rgba(60, 64, 67, 0.3), 0px 1px 3px 1px rgba(60, 64, 67, 0.15);\n",
              "      fill: #174EA6;\n",
              "    }\n",
              "\n",
              "    [theme=dark] .colab-df-convert {\n",
              "      background-color: #3B4455;\n",
              "      fill: #D2E3FC;\n",
              "    }\n",
              "\n",
              "    [theme=dark] .colab-df-convert:hover {\n",
              "      background-color: #434B5C;\n",
              "      box-shadow: 0px 1px 3px 1px rgba(0, 0, 0, 0.15);\n",
              "      filter: drop-shadow(0px 1px 2px rgba(0, 0, 0, 0.3));\n",
              "      fill: #FFFFFF;\n",
              "    }\n",
              "  </style>\n",
              "\n",
              "      <script>\n",
              "        const buttonEl =\n",
              "          document.querySelector('#df-3ff24429-5e21-4bd0-91b3-5a5621c9a24a button.colab-df-convert');\n",
              "        buttonEl.style.display =\n",
              "          google.colab.kernel.accessAllowed ? 'block' : 'none';\n",
              "\n",
              "        async function convertToInteractive(key) {\n",
              "          const element = document.querySelector('#df-3ff24429-5e21-4bd0-91b3-5a5621c9a24a');\n",
              "          const dataTable =\n",
              "            await google.colab.kernel.invokeFunction('convertToInteractive',\n",
              "                                                     [key], {});\n",
              "          if (!dataTable) return;\n",
              "\n",
              "          const docLinkHtml = 'Like what you see? Visit the ' +\n",
              "            '<a target=\"_blank\" href=https://colab.research.google.com/notebooks/data_table.ipynb>data table notebook</a>'\n",
              "            + ' to learn more about interactive tables.';\n",
              "          element.innerHTML = '';\n",
              "          dataTable['output_type'] = 'display_data';\n",
              "          await google.colab.output.renderOutput(dataTable, element);\n",
              "          const docLink = document.createElement('div');\n",
              "          docLink.innerHTML = docLinkHtml;\n",
              "          element.appendChild(docLink);\n",
              "        }\n",
              "      </script>\n",
              "    </div>\n",
              "  </div>\n",
              "  "
            ]
          },
          "metadata": {},
          "execution_count": 21
        }
      ]
    },
    {
      "cell_type": "markdown",
      "source": [
        "* pandas.DataFrame.tail: https://pandas.pydata.org/docs/reference/api/pandas.DataFrame.tail.html"
      ],
      "metadata": {
        "id": "8_r57Xj6rV1-"
      }
    },
    {
      "cell_type": "code",
      "source": [
        "# DataFrame.tail(n=5), 最後のn行を返す。\n",
        "# DataFrame.tail(n=5), Return the last n rows.\n",
        "\n",
        "df.tail(2)"
      ],
      "metadata": {
        "colab": {
          "base_uri": "https://localhost:8080/",
          "height": 112
        },
        "id": "hPUhqdNu1Bbr",
        "outputId": "f9554192-8dab-440e-f0aa-79f4204b719c"
      },
      "execution_count": null,
      "outputs": [
        {
          "output_type": "execute_result",
          "data": {
            "text/plain": [
              "   A  B  C\n",
              "b  4  5  6\n",
              "c  7  8  9"
            ],
            "text/html": [
              "\n",
              "  <div id=\"df-1dc0d35d-98be-4eba-9dc0-d79d90b7a0de\">\n",
              "    <div class=\"colab-df-container\">\n",
              "      <div>\n",
              "<style scoped>\n",
              "    .dataframe tbody tr th:only-of-type {\n",
              "        vertical-align: middle;\n",
              "    }\n",
              "\n",
              "    .dataframe tbody tr th {\n",
              "        vertical-align: top;\n",
              "    }\n",
              "\n",
              "    .dataframe thead th {\n",
              "        text-align: right;\n",
              "    }\n",
              "</style>\n",
              "<table border=\"1\" class=\"dataframe\">\n",
              "  <thead>\n",
              "    <tr style=\"text-align: right;\">\n",
              "      <th></th>\n",
              "      <th>A</th>\n",
              "      <th>B</th>\n",
              "      <th>C</th>\n",
              "    </tr>\n",
              "  </thead>\n",
              "  <tbody>\n",
              "    <tr>\n",
              "      <th>b</th>\n",
              "      <td>4</td>\n",
              "      <td>5</td>\n",
              "      <td>6</td>\n",
              "    </tr>\n",
              "    <tr>\n",
              "      <th>c</th>\n",
              "      <td>7</td>\n",
              "      <td>8</td>\n",
              "      <td>9</td>\n",
              "    </tr>\n",
              "  </tbody>\n",
              "</table>\n",
              "</div>\n",
              "      <button class=\"colab-df-convert\" onclick=\"convertToInteractive('df-1dc0d35d-98be-4eba-9dc0-d79d90b7a0de')\"\n",
              "              title=\"Convert this dataframe to an interactive table.\"\n",
              "              style=\"display:none;\">\n",
              "        \n",
              "  <svg xmlns=\"http://www.w3.org/2000/svg\" height=\"24px\"viewBox=\"0 0 24 24\"\n",
              "       width=\"24px\">\n",
              "    <path d=\"M0 0h24v24H0V0z\" fill=\"none\"/>\n",
              "    <path d=\"M18.56 5.44l.94 2.06.94-2.06 2.06-.94-2.06-.94-.94-2.06-.94 2.06-2.06.94zm-11 1L8.5 8.5l.94-2.06 2.06-.94-2.06-.94L8.5 2.5l-.94 2.06-2.06.94zm10 10l.94 2.06.94-2.06 2.06-.94-2.06-.94-.94-2.06-.94 2.06-2.06.94z\"/><path d=\"M17.41 7.96l-1.37-1.37c-.4-.4-.92-.59-1.43-.59-.52 0-1.04.2-1.43.59L10.3 9.45l-7.72 7.72c-.78.78-.78 2.05 0 2.83L4 21.41c.39.39.9.59 1.41.59.51 0 1.02-.2 1.41-.59l7.78-7.78 2.81-2.81c.8-.78.8-2.07 0-2.86zM5.41 20L4 18.59l7.72-7.72 1.47 1.35L5.41 20z\"/>\n",
              "  </svg>\n",
              "      </button>\n",
              "      \n",
              "  <style>\n",
              "    .colab-df-container {\n",
              "      display:flex;\n",
              "      flex-wrap:wrap;\n",
              "      gap: 12px;\n",
              "    }\n",
              "\n",
              "    .colab-df-convert {\n",
              "      background-color: #E8F0FE;\n",
              "      border: none;\n",
              "      border-radius: 50%;\n",
              "      cursor: pointer;\n",
              "      display: none;\n",
              "      fill: #1967D2;\n",
              "      height: 32px;\n",
              "      padding: 0 0 0 0;\n",
              "      width: 32px;\n",
              "    }\n",
              "\n",
              "    .colab-df-convert:hover {\n",
              "      background-color: #E2EBFA;\n",
              "      box-shadow: 0px 1px 2px rgba(60, 64, 67, 0.3), 0px 1px 3px 1px rgba(60, 64, 67, 0.15);\n",
              "      fill: #174EA6;\n",
              "    }\n",
              "\n",
              "    [theme=dark] .colab-df-convert {\n",
              "      background-color: #3B4455;\n",
              "      fill: #D2E3FC;\n",
              "    }\n",
              "\n",
              "    [theme=dark] .colab-df-convert:hover {\n",
              "      background-color: #434B5C;\n",
              "      box-shadow: 0px 1px 3px 1px rgba(0, 0, 0, 0.15);\n",
              "      filter: drop-shadow(0px 1px 2px rgba(0, 0, 0, 0.3));\n",
              "      fill: #FFFFFF;\n",
              "    }\n",
              "  </style>\n",
              "\n",
              "      <script>\n",
              "        const buttonEl =\n",
              "          document.querySelector('#df-1dc0d35d-98be-4eba-9dc0-d79d90b7a0de button.colab-df-convert');\n",
              "        buttonEl.style.display =\n",
              "          google.colab.kernel.accessAllowed ? 'block' : 'none';\n",
              "\n",
              "        async function convertToInteractive(key) {\n",
              "          const element = document.querySelector('#df-1dc0d35d-98be-4eba-9dc0-d79d90b7a0de');\n",
              "          const dataTable =\n",
              "            await google.colab.kernel.invokeFunction('convertToInteractive',\n",
              "                                                     [key], {});\n",
              "          if (!dataTable) return;\n",
              "\n",
              "          const docLinkHtml = 'Like what you see? Visit the ' +\n",
              "            '<a target=\"_blank\" href=https://colab.research.google.com/notebooks/data_table.ipynb>data table notebook</a>'\n",
              "            + ' to learn more about interactive tables.';\n",
              "          element.innerHTML = '';\n",
              "          dataTable['output_type'] = 'display_data';\n",
              "          await google.colab.output.renderOutput(dataTable, element);\n",
              "          const docLink = document.createElement('div');\n",
              "          docLink.innerHTML = docLinkHtml;\n",
              "          element.appendChild(docLink);\n",
              "        }\n",
              "      </script>\n",
              "    </div>\n",
              "  </div>\n",
              "  "
            ]
          },
          "metadata": {},
          "execution_count": 22
        }
      ]
    },
    {
      "cell_type": "markdown",
      "source": [
        "条件に応じた行の抽出\n",
        "* Dataframeにはqueryというメソッドが用意されています。\n",
        "* 文字列で条件を指定することで、条件を満たした行だけを取り出すことができます。\n",
        "---\n",
        "Extract rows according to conditions\n",
        "* Dataframe provides a method called query.\n",
        "* By specifying a condition with a string, only rows that satisfy the condition can be retrieved."
      ],
      "metadata": {
        "id": "nxzWWPCr1RjI"
      }
    },
    {
      "cell_type": "code",
      "source": [
        "# データフレームの中身を確認\n",
        "# Check the contents of the data frame\n",
        "\n",
        "df"
      ],
      "metadata": {
        "colab": {
          "base_uri": "https://localhost:8080/",
          "height": 143
        },
        "id": "kXReF3mo1IvY",
        "outputId": "ac701e41-d099-482c-f512-1fb6629af34e"
      },
      "execution_count": null,
      "outputs": [
        {
          "output_type": "execute_result",
          "data": {
            "text/plain": [
              "   A  B  C\n",
              "a  1  2  3\n",
              "b  4  5  6\n",
              "c  7  8  9"
            ],
            "text/html": [
              "\n",
              "  <div id=\"df-3fccee66-1ea6-4147-9118-e9508bb85109\">\n",
              "    <div class=\"colab-df-container\">\n",
              "      <div>\n",
              "<style scoped>\n",
              "    .dataframe tbody tr th:only-of-type {\n",
              "        vertical-align: middle;\n",
              "    }\n",
              "\n",
              "    .dataframe tbody tr th {\n",
              "        vertical-align: top;\n",
              "    }\n",
              "\n",
              "    .dataframe thead th {\n",
              "        text-align: right;\n",
              "    }\n",
              "</style>\n",
              "<table border=\"1\" class=\"dataframe\">\n",
              "  <thead>\n",
              "    <tr style=\"text-align: right;\">\n",
              "      <th></th>\n",
              "      <th>A</th>\n",
              "      <th>B</th>\n",
              "      <th>C</th>\n",
              "    </tr>\n",
              "  </thead>\n",
              "  <tbody>\n",
              "    <tr>\n",
              "      <th>a</th>\n",
              "      <td>1</td>\n",
              "      <td>2</td>\n",
              "      <td>3</td>\n",
              "    </tr>\n",
              "    <tr>\n",
              "      <th>b</th>\n",
              "      <td>4</td>\n",
              "      <td>5</td>\n",
              "      <td>6</td>\n",
              "    </tr>\n",
              "    <tr>\n",
              "      <th>c</th>\n",
              "      <td>7</td>\n",
              "      <td>8</td>\n",
              "      <td>9</td>\n",
              "    </tr>\n",
              "  </tbody>\n",
              "</table>\n",
              "</div>\n",
              "      <button class=\"colab-df-convert\" onclick=\"convertToInteractive('df-3fccee66-1ea6-4147-9118-e9508bb85109')\"\n",
              "              title=\"Convert this dataframe to an interactive table.\"\n",
              "              style=\"display:none;\">\n",
              "        \n",
              "  <svg xmlns=\"http://www.w3.org/2000/svg\" height=\"24px\"viewBox=\"0 0 24 24\"\n",
              "       width=\"24px\">\n",
              "    <path d=\"M0 0h24v24H0V0z\" fill=\"none\"/>\n",
              "    <path d=\"M18.56 5.44l.94 2.06.94-2.06 2.06-.94-2.06-.94-.94-2.06-.94 2.06-2.06.94zm-11 1L8.5 8.5l.94-2.06 2.06-.94-2.06-.94L8.5 2.5l-.94 2.06-2.06.94zm10 10l.94 2.06.94-2.06 2.06-.94-2.06-.94-.94-2.06-.94 2.06-2.06.94z\"/><path d=\"M17.41 7.96l-1.37-1.37c-.4-.4-.92-.59-1.43-.59-.52 0-1.04.2-1.43.59L10.3 9.45l-7.72 7.72c-.78.78-.78 2.05 0 2.83L4 21.41c.39.39.9.59 1.41.59.51 0 1.02-.2 1.41-.59l7.78-7.78 2.81-2.81c.8-.78.8-2.07 0-2.86zM5.41 20L4 18.59l7.72-7.72 1.47 1.35L5.41 20z\"/>\n",
              "  </svg>\n",
              "      </button>\n",
              "      \n",
              "  <style>\n",
              "    .colab-df-container {\n",
              "      display:flex;\n",
              "      flex-wrap:wrap;\n",
              "      gap: 12px;\n",
              "    }\n",
              "\n",
              "    .colab-df-convert {\n",
              "      background-color: #E8F0FE;\n",
              "      border: none;\n",
              "      border-radius: 50%;\n",
              "      cursor: pointer;\n",
              "      display: none;\n",
              "      fill: #1967D2;\n",
              "      height: 32px;\n",
              "      padding: 0 0 0 0;\n",
              "      width: 32px;\n",
              "    }\n",
              "\n",
              "    .colab-df-convert:hover {\n",
              "      background-color: #E2EBFA;\n",
              "      box-shadow: 0px 1px 2px rgba(60, 64, 67, 0.3), 0px 1px 3px 1px rgba(60, 64, 67, 0.15);\n",
              "      fill: #174EA6;\n",
              "    }\n",
              "\n",
              "    [theme=dark] .colab-df-convert {\n",
              "      background-color: #3B4455;\n",
              "      fill: #D2E3FC;\n",
              "    }\n",
              "\n",
              "    [theme=dark] .colab-df-convert:hover {\n",
              "      background-color: #434B5C;\n",
              "      box-shadow: 0px 1px 3px 1px rgba(0, 0, 0, 0.15);\n",
              "      filter: drop-shadow(0px 1px 2px rgba(0, 0, 0, 0.3));\n",
              "      fill: #FFFFFF;\n",
              "    }\n",
              "  </style>\n",
              "\n",
              "      <script>\n",
              "        const buttonEl =\n",
              "          document.querySelector('#df-3fccee66-1ea6-4147-9118-e9508bb85109 button.colab-df-convert');\n",
              "        buttonEl.style.display =\n",
              "          google.colab.kernel.accessAllowed ? 'block' : 'none';\n",
              "\n",
              "        async function convertToInteractive(key) {\n",
              "          const element = document.querySelector('#df-3fccee66-1ea6-4147-9118-e9508bb85109');\n",
              "          const dataTable =\n",
              "            await google.colab.kernel.invokeFunction('convertToInteractive',\n",
              "                                                     [key], {});\n",
              "          if (!dataTable) return;\n",
              "\n",
              "          const docLinkHtml = 'Like what you see? Visit the ' +\n",
              "            '<a target=\"_blank\" href=https://colab.research.google.com/notebooks/data_table.ipynb>data table notebook</a>'\n",
              "            + ' to learn more about interactive tables.';\n",
              "          element.innerHTML = '';\n",
              "          dataTable['output_type'] = 'display_data';\n",
              "          await google.colab.output.renderOutput(dataTable, element);\n",
              "          const docLink = document.createElement('div');\n",
              "          docLink.innerHTML = docLinkHtml;\n",
              "          element.appendChild(docLink);\n",
              "        }\n",
              "      </script>\n",
              "    </div>\n",
              "  </div>\n",
              "  "
            ]
          },
          "metadata": {},
          "execution_count": 23
        }
      ]
    },
    {
      "cell_type": "markdown",
      "source": [
        "* pandas.DataFrame.query: https://pandas.pydata.org/docs/reference/api/pandas.DataFrame.query.html"
      ],
      "metadata": {
        "id": "25ebYeWurw6-"
      }
    },
    {
      "cell_type": "code",
      "source": [
        "# B列が5の行を抽出\n",
        "# Extract rows where column B is 5\n",
        "\n",
        "df.query('B == 5')"
      ],
      "metadata": {
        "colab": {
          "base_uri": "https://localhost:8080/",
          "height": 80
        },
        "id": "Y3bB09Y82V7-",
        "outputId": "483bb3d7-83f9-45e2-ce42-2cae4ebeeee8"
      },
      "execution_count": null,
      "outputs": [
        {
          "output_type": "execute_result",
          "data": {
            "text/plain": [
              "   A  B  C\n",
              "b  4  5  6"
            ],
            "text/html": [
              "\n",
              "  <div id=\"df-c29d5bba-745e-4831-9dad-b80f8b052014\">\n",
              "    <div class=\"colab-df-container\">\n",
              "      <div>\n",
              "<style scoped>\n",
              "    .dataframe tbody tr th:only-of-type {\n",
              "        vertical-align: middle;\n",
              "    }\n",
              "\n",
              "    .dataframe tbody tr th {\n",
              "        vertical-align: top;\n",
              "    }\n",
              "\n",
              "    .dataframe thead th {\n",
              "        text-align: right;\n",
              "    }\n",
              "</style>\n",
              "<table border=\"1\" class=\"dataframe\">\n",
              "  <thead>\n",
              "    <tr style=\"text-align: right;\">\n",
              "      <th></th>\n",
              "      <th>A</th>\n",
              "      <th>B</th>\n",
              "      <th>C</th>\n",
              "    </tr>\n",
              "  </thead>\n",
              "  <tbody>\n",
              "    <tr>\n",
              "      <th>b</th>\n",
              "      <td>4</td>\n",
              "      <td>5</td>\n",
              "      <td>6</td>\n",
              "    </tr>\n",
              "  </tbody>\n",
              "</table>\n",
              "</div>\n",
              "      <button class=\"colab-df-convert\" onclick=\"convertToInteractive('df-c29d5bba-745e-4831-9dad-b80f8b052014')\"\n",
              "              title=\"Convert this dataframe to an interactive table.\"\n",
              "              style=\"display:none;\">\n",
              "        \n",
              "  <svg xmlns=\"http://www.w3.org/2000/svg\" height=\"24px\"viewBox=\"0 0 24 24\"\n",
              "       width=\"24px\">\n",
              "    <path d=\"M0 0h24v24H0V0z\" fill=\"none\"/>\n",
              "    <path d=\"M18.56 5.44l.94 2.06.94-2.06 2.06-.94-2.06-.94-.94-2.06-.94 2.06-2.06.94zm-11 1L8.5 8.5l.94-2.06 2.06-.94-2.06-.94L8.5 2.5l-.94 2.06-2.06.94zm10 10l.94 2.06.94-2.06 2.06-.94-2.06-.94-.94-2.06-.94 2.06-2.06.94z\"/><path d=\"M17.41 7.96l-1.37-1.37c-.4-.4-.92-.59-1.43-.59-.52 0-1.04.2-1.43.59L10.3 9.45l-7.72 7.72c-.78.78-.78 2.05 0 2.83L4 21.41c.39.39.9.59 1.41.59.51 0 1.02-.2 1.41-.59l7.78-7.78 2.81-2.81c.8-.78.8-2.07 0-2.86zM5.41 20L4 18.59l7.72-7.72 1.47 1.35L5.41 20z\"/>\n",
              "  </svg>\n",
              "      </button>\n",
              "      \n",
              "  <style>\n",
              "    .colab-df-container {\n",
              "      display:flex;\n",
              "      flex-wrap:wrap;\n",
              "      gap: 12px;\n",
              "    }\n",
              "\n",
              "    .colab-df-convert {\n",
              "      background-color: #E8F0FE;\n",
              "      border: none;\n",
              "      border-radius: 50%;\n",
              "      cursor: pointer;\n",
              "      display: none;\n",
              "      fill: #1967D2;\n",
              "      height: 32px;\n",
              "      padding: 0 0 0 0;\n",
              "      width: 32px;\n",
              "    }\n",
              "\n",
              "    .colab-df-convert:hover {\n",
              "      background-color: #E2EBFA;\n",
              "      box-shadow: 0px 1px 2px rgba(60, 64, 67, 0.3), 0px 1px 3px 1px rgba(60, 64, 67, 0.15);\n",
              "      fill: #174EA6;\n",
              "    }\n",
              "\n",
              "    [theme=dark] .colab-df-convert {\n",
              "      background-color: #3B4455;\n",
              "      fill: #D2E3FC;\n",
              "    }\n",
              "\n",
              "    [theme=dark] .colab-df-convert:hover {\n",
              "      background-color: #434B5C;\n",
              "      box-shadow: 0px 1px 3px 1px rgba(0, 0, 0, 0.15);\n",
              "      filter: drop-shadow(0px 1px 2px rgba(0, 0, 0, 0.3));\n",
              "      fill: #FFFFFF;\n",
              "    }\n",
              "  </style>\n",
              "\n",
              "      <script>\n",
              "        const buttonEl =\n",
              "          document.querySelector('#df-c29d5bba-745e-4831-9dad-b80f8b052014 button.colab-df-convert');\n",
              "        buttonEl.style.display =\n",
              "          google.colab.kernel.accessAllowed ? 'block' : 'none';\n",
              "\n",
              "        async function convertToInteractive(key) {\n",
              "          const element = document.querySelector('#df-c29d5bba-745e-4831-9dad-b80f8b052014');\n",
              "          const dataTable =\n",
              "            await google.colab.kernel.invokeFunction('convertToInteractive',\n",
              "                                                     [key], {});\n",
              "          if (!dataTable) return;\n",
              "\n",
              "          const docLinkHtml = 'Like what you see? Visit the ' +\n",
              "            '<a target=\"_blank\" href=https://colab.research.google.com/notebooks/data_table.ipynb>data table notebook</a>'\n",
              "            + ' to learn more about interactive tables.';\n",
              "          element.innerHTML = '';\n",
              "          dataTable['output_type'] = 'display_data';\n",
              "          await google.colab.output.renderOutput(dataTable, element);\n",
              "          const docLink = document.createElement('div');\n",
              "          docLink.innerHTML = docLinkHtml;\n",
              "          element.appendChild(docLink);\n",
              "        }\n",
              "      </script>\n",
              "    </div>\n",
              "  </div>\n",
              "  "
            ]
          },
          "metadata": {},
          "execution_count": 24
        }
      ]
    },
    {
      "cell_type": "code",
      "source": [
        "# B列が5以上の行を抽出\n",
        "# Extract rows with column B greater than 5\n",
        "\n",
        "df.query('B >= 5')"
      ],
      "metadata": {
        "colab": {
          "base_uri": "https://localhost:8080/",
          "height": 112
        },
        "id": "adF4hNGv2vYS",
        "outputId": "f24f79b2-1ad2-4cf5-fba3-c77f1d1d95eb"
      },
      "execution_count": null,
      "outputs": [
        {
          "output_type": "execute_result",
          "data": {
            "text/plain": [
              "   A  B  C\n",
              "b  4  5  6\n",
              "c  7  8  9"
            ],
            "text/html": [
              "\n",
              "  <div id=\"df-10357d56-d1c5-444c-b94c-10c9f2a8bc8d\">\n",
              "    <div class=\"colab-df-container\">\n",
              "      <div>\n",
              "<style scoped>\n",
              "    .dataframe tbody tr th:only-of-type {\n",
              "        vertical-align: middle;\n",
              "    }\n",
              "\n",
              "    .dataframe tbody tr th {\n",
              "        vertical-align: top;\n",
              "    }\n",
              "\n",
              "    .dataframe thead th {\n",
              "        text-align: right;\n",
              "    }\n",
              "</style>\n",
              "<table border=\"1\" class=\"dataframe\">\n",
              "  <thead>\n",
              "    <tr style=\"text-align: right;\">\n",
              "      <th></th>\n",
              "      <th>A</th>\n",
              "      <th>B</th>\n",
              "      <th>C</th>\n",
              "    </tr>\n",
              "  </thead>\n",
              "  <tbody>\n",
              "    <tr>\n",
              "      <th>b</th>\n",
              "      <td>4</td>\n",
              "      <td>5</td>\n",
              "      <td>6</td>\n",
              "    </tr>\n",
              "    <tr>\n",
              "      <th>c</th>\n",
              "      <td>7</td>\n",
              "      <td>8</td>\n",
              "      <td>9</td>\n",
              "    </tr>\n",
              "  </tbody>\n",
              "</table>\n",
              "</div>\n",
              "      <button class=\"colab-df-convert\" onclick=\"convertToInteractive('df-10357d56-d1c5-444c-b94c-10c9f2a8bc8d')\"\n",
              "              title=\"Convert this dataframe to an interactive table.\"\n",
              "              style=\"display:none;\">\n",
              "        \n",
              "  <svg xmlns=\"http://www.w3.org/2000/svg\" height=\"24px\"viewBox=\"0 0 24 24\"\n",
              "       width=\"24px\">\n",
              "    <path d=\"M0 0h24v24H0V0z\" fill=\"none\"/>\n",
              "    <path d=\"M18.56 5.44l.94 2.06.94-2.06 2.06-.94-2.06-.94-.94-2.06-.94 2.06-2.06.94zm-11 1L8.5 8.5l.94-2.06 2.06-.94-2.06-.94L8.5 2.5l-.94 2.06-2.06.94zm10 10l.94 2.06.94-2.06 2.06-.94-2.06-.94-.94-2.06-.94 2.06-2.06.94z\"/><path d=\"M17.41 7.96l-1.37-1.37c-.4-.4-.92-.59-1.43-.59-.52 0-1.04.2-1.43.59L10.3 9.45l-7.72 7.72c-.78.78-.78 2.05 0 2.83L4 21.41c.39.39.9.59 1.41.59.51 0 1.02-.2 1.41-.59l7.78-7.78 2.81-2.81c.8-.78.8-2.07 0-2.86zM5.41 20L4 18.59l7.72-7.72 1.47 1.35L5.41 20z\"/>\n",
              "  </svg>\n",
              "      </button>\n",
              "      \n",
              "  <style>\n",
              "    .colab-df-container {\n",
              "      display:flex;\n",
              "      flex-wrap:wrap;\n",
              "      gap: 12px;\n",
              "    }\n",
              "\n",
              "    .colab-df-convert {\n",
              "      background-color: #E8F0FE;\n",
              "      border: none;\n",
              "      border-radius: 50%;\n",
              "      cursor: pointer;\n",
              "      display: none;\n",
              "      fill: #1967D2;\n",
              "      height: 32px;\n",
              "      padding: 0 0 0 0;\n",
              "      width: 32px;\n",
              "    }\n",
              "\n",
              "    .colab-df-convert:hover {\n",
              "      background-color: #E2EBFA;\n",
              "      box-shadow: 0px 1px 2px rgba(60, 64, 67, 0.3), 0px 1px 3px 1px rgba(60, 64, 67, 0.15);\n",
              "      fill: #174EA6;\n",
              "    }\n",
              "\n",
              "    [theme=dark] .colab-df-convert {\n",
              "      background-color: #3B4455;\n",
              "      fill: #D2E3FC;\n",
              "    }\n",
              "\n",
              "    [theme=dark] .colab-df-convert:hover {\n",
              "      background-color: #434B5C;\n",
              "      box-shadow: 0px 1px 3px 1px rgba(0, 0, 0, 0.15);\n",
              "      filter: drop-shadow(0px 1px 2px rgba(0, 0, 0, 0.3));\n",
              "      fill: #FFFFFF;\n",
              "    }\n",
              "  </style>\n",
              "\n",
              "      <script>\n",
              "        const buttonEl =\n",
              "          document.querySelector('#df-10357d56-d1c5-444c-b94c-10c9f2a8bc8d button.colab-df-convert');\n",
              "        buttonEl.style.display =\n",
              "          google.colab.kernel.accessAllowed ? 'block' : 'none';\n",
              "\n",
              "        async function convertToInteractive(key) {\n",
              "          const element = document.querySelector('#df-10357d56-d1c5-444c-b94c-10c9f2a8bc8d');\n",
              "          const dataTable =\n",
              "            await google.colab.kernel.invokeFunction('convertToInteractive',\n",
              "                                                     [key], {});\n",
              "          if (!dataTable) return;\n",
              "\n",
              "          const docLinkHtml = 'Like what you see? Visit the ' +\n",
              "            '<a target=\"_blank\" href=https://colab.research.google.com/notebooks/data_table.ipynb>data table notebook</a>'\n",
              "            + ' to learn more about interactive tables.';\n",
              "          element.innerHTML = '';\n",
              "          dataTable['output_type'] = 'display_data';\n",
              "          await google.colab.output.renderOutput(dataTable, element);\n",
              "          const docLink = document.createElement('div');\n",
              "          docLink.innerHTML = docLinkHtml;\n",
              "          element.appendChild(docLink);\n",
              "        }\n",
              "      </script>\n",
              "    </div>\n",
              "  </div>\n",
              "  "
            ]
          },
          "metadata": {},
          "execution_count": 25
        }
      ]
    },
    {
      "cell_type": "code",
      "source": [
        "# B列が5以上で、かつC列が7以上の行を抽出\n",
        "# Extract rows where column B is greater than or equal to 5 and column C is greater than or equal to 7\n",
        "\n",
        "df.query('B >= 5 & C >=7')"
      ],
      "metadata": {
        "colab": {
          "base_uri": "https://localhost:8080/",
          "height": 80
        },
        "id": "6WnxO8CE3ehs",
        "outputId": "df29c52e-04b8-49d1-a938-14f109ea80ba"
      },
      "execution_count": null,
      "outputs": [
        {
          "output_type": "execute_result",
          "data": {
            "text/plain": [
              "   A  B  C\n",
              "c  7  8  9"
            ],
            "text/html": [
              "\n",
              "  <div id=\"df-dbd86a12-2b46-494e-a75b-8f61d4ad1622\">\n",
              "    <div class=\"colab-df-container\">\n",
              "      <div>\n",
              "<style scoped>\n",
              "    .dataframe tbody tr th:only-of-type {\n",
              "        vertical-align: middle;\n",
              "    }\n",
              "\n",
              "    .dataframe tbody tr th {\n",
              "        vertical-align: top;\n",
              "    }\n",
              "\n",
              "    .dataframe thead th {\n",
              "        text-align: right;\n",
              "    }\n",
              "</style>\n",
              "<table border=\"1\" class=\"dataframe\">\n",
              "  <thead>\n",
              "    <tr style=\"text-align: right;\">\n",
              "      <th></th>\n",
              "      <th>A</th>\n",
              "      <th>B</th>\n",
              "      <th>C</th>\n",
              "    </tr>\n",
              "  </thead>\n",
              "  <tbody>\n",
              "    <tr>\n",
              "      <th>c</th>\n",
              "      <td>7</td>\n",
              "      <td>8</td>\n",
              "      <td>9</td>\n",
              "    </tr>\n",
              "  </tbody>\n",
              "</table>\n",
              "</div>\n",
              "      <button class=\"colab-df-convert\" onclick=\"convertToInteractive('df-dbd86a12-2b46-494e-a75b-8f61d4ad1622')\"\n",
              "              title=\"Convert this dataframe to an interactive table.\"\n",
              "              style=\"display:none;\">\n",
              "        \n",
              "  <svg xmlns=\"http://www.w3.org/2000/svg\" height=\"24px\"viewBox=\"0 0 24 24\"\n",
              "       width=\"24px\">\n",
              "    <path d=\"M0 0h24v24H0V0z\" fill=\"none\"/>\n",
              "    <path d=\"M18.56 5.44l.94 2.06.94-2.06 2.06-.94-2.06-.94-.94-2.06-.94 2.06-2.06.94zm-11 1L8.5 8.5l.94-2.06 2.06-.94-2.06-.94L8.5 2.5l-.94 2.06-2.06.94zm10 10l.94 2.06.94-2.06 2.06-.94-2.06-.94-.94-2.06-.94 2.06-2.06.94z\"/><path d=\"M17.41 7.96l-1.37-1.37c-.4-.4-.92-.59-1.43-.59-.52 0-1.04.2-1.43.59L10.3 9.45l-7.72 7.72c-.78.78-.78 2.05 0 2.83L4 21.41c.39.39.9.59 1.41.59.51 0 1.02-.2 1.41-.59l7.78-7.78 2.81-2.81c.8-.78.8-2.07 0-2.86zM5.41 20L4 18.59l7.72-7.72 1.47 1.35L5.41 20z\"/>\n",
              "  </svg>\n",
              "      </button>\n",
              "      \n",
              "  <style>\n",
              "    .colab-df-container {\n",
              "      display:flex;\n",
              "      flex-wrap:wrap;\n",
              "      gap: 12px;\n",
              "    }\n",
              "\n",
              "    .colab-df-convert {\n",
              "      background-color: #E8F0FE;\n",
              "      border: none;\n",
              "      border-radius: 50%;\n",
              "      cursor: pointer;\n",
              "      display: none;\n",
              "      fill: #1967D2;\n",
              "      height: 32px;\n",
              "      padding: 0 0 0 0;\n",
              "      width: 32px;\n",
              "    }\n",
              "\n",
              "    .colab-df-convert:hover {\n",
              "      background-color: #E2EBFA;\n",
              "      box-shadow: 0px 1px 2px rgba(60, 64, 67, 0.3), 0px 1px 3px 1px rgba(60, 64, 67, 0.15);\n",
              "      fill: #174EA6;\n",
              "    }\n",
              "\n",
              "    [theme=dark] .colab-df-convert {\n",
              "      background-color: #3B4455;\n",
              "      fill: #D2E3FC;\n",
              "    }\n",
              "\n",
              "    [theme=dark] .colab-df-convert:hover {\n",
              "      background-color: #434B5C;\n",
              "      box-shadow: 0px 1px 3px 1px rgba(0, 0, 0, 0.15);\n",
              "      filter: drop-shadow(0px 1px 2px rgba(0, 0, 0, 0.3));\n",
              "      fill: #FFFFFF;\n",
              "    }\n",
              "  </style>\n",
              "\n",
              "      <script>\n",
              "        const buttonEl =\n",
              "          document.querySelector('#df-dbd86a12-2b46-494e-a75b-8f61d4ad1622 button.colab-df-convert');\n",
              "        buttonEl.style.display =\n",
              "          google.colab.kernel.accessAllowed ? 'block' : 'none';\n",
              "\n",
              "        async function convertToInteractive(key) {\n",
              "          const element = document.querySelector('#df-dbd86a12-2b46-494e-a75b-8f61d4ad1622');\n",
              "          const dataTable =\n",
              "            await google.colab.kernel.invokeFunction('convertToInteractive',\n",
              "                                                     [key], {});\n",
              "          if (!dataTable) return;\n",
              "\n",
              "          const docLinkHtml = 'Like what you see? Visit the ' +\n",
              "            '<a target=\"_blank\" href=https://colab.research.google.com/notebooks/data_table.ipynb>data table notebook</a>'\n",
              "            + ' to learn more about interactive tables.';\n",
              "          element.innerHTML = '';\n",
              "          dataTable['output_type'] = 'display_data';\n",
              "          await google.colab.output.renderOutput(dataTable, element);\n",
              "          const docLink = document.createElement('div');\n",
              "          docLink.innerHTML = docLinkHtml;\n",
              "          element.appendChild(docLink);\n",
              "        }\n",
              "      </script>\n",
              "    </div>\n",
              "  </div>\n",
              "  "
            ]
          },
          "metadata": {},
          "execution_count": 26
        }
      ]
    },
    {
      "cell_type": "code",
      "source": [
        "# A列が1、またはC列が9の行を抽出\n",
        "# Extract rows where column A is 1 or column C is 9\n",
        "\n",
        "df.query('A == 1 | C ==9')"
      ],
      "metadata": {
        "colab": {
          "base_uri": "https://localhost:8080/",
          "height": 112
        },
        "id": "w6Dw4CnF30uF",
        "outputId": "76a69a39-1924-4bb6-9787-af6b4ef6a459"
      },
      "execution_count": null,
      "outputs": [
        {
          "output_type": "execute_result",
          "data": {
            "text/plain": [
              "   A  B  C\n",
              "a  1  2  3\n",
              "c  7  8  9"
            ],
            "text/html": [
              "\n",
              "  <div id=\"df-c746af4f-2fc0-44e4-a03d-0ff38515c7c1\">\n",
              "    <div class=\"colab-df-container\">\n",
              "      <div>\n",
              "<style scoped>\n",
              "    .dataframe tbody tr th:only-of-type {\n",
              "        vertical-align: middle;\n",
              "    }\n",
              "\n",
              "    .dataframe tbody tr th {\n",
              "        vertical-align: top;\n",
              "    }\n",
              "\n",
              "    .dataframe thead th {\n",
              "        text-align: right;\n",
              "    }\n",
              "</style>\n",
              "<table border=\"1\" class=\"dataframe\">\n",
              "  <thead>\n",
              "    <tr style=\"text-align: right;\">\n",
              "      <th></th>\n",
              "      <th>A</th>\n",
              "      <th>B</th>\n",
              "      <th>C</th>\n",
              "    </tr>\n",
              "  </thead>\n",
              "  <tbody>\n",
              "    <tr>\n",
              "      <th>a</th>\n",
              "      <td>1</td>\n",
              "      <td>2</td>\n",
              "      <td>3</td>\n",
              "    </tr>\n",
              "    <tr>\n",
              "      <th>c</th>\n",
              "      <td>7</td>\n",
              "      <td>8</td>\n",
              "      <td>9</td>\n",
              "    </tr>\n",
              "  </tbody>\n",
              "</table>\n",
              "</div>\n",
              "      <button class=\"colab-df-convert\" onclick=\"convertToInteractive('df-c746af4f-2fc0-44e4-a03d-0ff38515c7c1')\"\n",
              "              title=\"Convert this dataframe to an interactive table.\"\n",
              "              style=\"display:none;\">\n",
              "        \n",
              "  <svg xmlns=\"http://www.w3.org/2000/svg\" height=\"24px\"viewBox=\"0 0 24 24\"\n",
              "       width=\"24px\">\n",
              "    <path d=\"M0 0h24v24H0V0z\" fill=\"none\"/>\n",
              "    <path d=\"M18.56 5.44l.94 2.06.94-2.06 2.06-.94-2.06-.94-.94-2.06-.94 2.06-2.06.94zm-11 1L8.5 8.5l.94-2.06 2.06-.94-2.06-.94L8.5 2.5l-.94 2.06-2.06.94zm10 10l.94 2.06.94-2.06 2.06-.94-2.06-.94-.94-2.06-.94 2.06-2.06.94z\"/><path d=\"M17.41 7.96l-1.37-1.37c-.4-.4-.92-.59-1.43-.59-.52 0-1.04.2-1.43.59L10.3 9.45l-7.72 7.72c-.78.78-.78 2.05 0 2.83L4 21.41c.39.39.9.59 1.41.59.51 0 1.02-.2 1.41-.59l7.78-7.78 2.81-2.81c.8-.78.8-2.07 0-2.86zM5.41 20L4 18.59l7.72-7.72 1.47 1.35L5.41 20z\"/>\n",
              "  </svg>\n",
              "      </button>\n",
              "      \n",
              "  <style>\n",
              "    .colab-df-container {\n",
              "      display:flex;\n",
              "      flex-wrap:wrap;\n",
              "      gap: 12px;\n",
              "    }\n",
              "\n",
              "    .colab-df-convert {\n",
              "      background-color: #E8F0FE;\n",
              "      border: none;\n",
              "      border-radius: 50%;\n",
              "      cursor: pointer;\n",
              "      display: none;\n",
              "      fill: #1967D2;\n",
              "      height: 32px;\n",
              "      padding: 0 0 0 0;\n",
              "      width: 32px;\n",
              "    }\n",
              "\n",
              "    .colab-df-convert:hover {\n",
              "      background-color: #E2EBFA;\n",
              "      box-shadow: 0px 1px 2px rgba(60, 64, 67, 0.3), 0px 1px 3px 1px rgba(60, 64, 67, 0.15);\n",
              "      fill: #174EA6;\n",
              "    }\n",
              "\n",
              "    [theme=dark] .colab-df-convert {\n",
              "      background-color: #3B4455;\n",
              "      fill: #D2E3FC;\n",
              "    }\n",
              "\n",
              "    [theme=dark] .colab-df-convert:hover {\n",
              "      background-color: #434B5C;\n",
              "      box-shadow: 0px 1px 3px 1px rgba(0, 0, 0, 0.15);\n",
              "      filter: drop-shadow(0px 1px 2px rgba(0, 0, 0, 0.3));\n",
              "      fill: #FFFFFF;\n",
              "    }\n",
              "  </style>\n",
              "\n",
              "      <script>\n",
              "        const buttonEl =\n",
              "          document.querySelector('#df-c746af4f-2fc0-44e4-a03d-0ff38515c7c1 button.colab-df-convert');\n",
              "        buttonEl.style.display =\n",
              "          google.colab.kernel.accessAllowed ? 'block' : 'none';\n",
              "\n",
              "        async function convertToInteractive(key) {\n",
              "          const element = document.querySelector('#df-c746af4f-2fc0-44e4-a03d-0ff38515c7c1');\n",
              "          const dataTable =\n",
              "            await google.colab.kernel.invokeFunction('convertToInteractive',\n",
              "                                                     [key], {});\n",
              "          if (!dataTable) return;\n",
              "\n",
              "          const docLinkHtml = 'Like what you see? Visit the ' +\n",
              "            '<a target=\"_blank\" href=https://colab.research.google.com/notebooks/data_table.ipynb>data table notebook</a>'\n",
              "            + ' to learn more about interactive tables.';\n",
              "          element.innerHTML = '';\n",
              "          dataTable['output_type'] = 'display_data';\n",
              "          await google.colab.output.renderOutput(dataTable, element);\n",
              "          const docLink = document.createElement('div');\n",
              "          docLink.innerHTML = docLinkHtml;\n",
              "          element.appendChild(docLink);\n",
              "        }\n",
              "      </script>\n",
              "    </div>\n",
              "  </div>\n",
              "  "
            ]
          },
          "metadata": {},
          "execution_count": 27
        }
      ]
    },
    {
      "cell_type": "markdown",
      "source": [
        "Pythonの基本文法（選択・繰り返し・関数）\n",
        "* Pythonでのifやforの述法\n",
        "---\n",
        "Basic Python grammar (selection, repetition, functions)\n",
        "* if and for predicates in Python"
      ],
      "metadata": {
        "id": "QsWSXulS4XJP"
      }
    },
    {
      "cell_type": "markdown",
      "source": [
        "選択（if文）\n",
        "\n",
        "if 条件:\n",
        "\n",
        "   実行したい文\n",
        "* ifの中の行は、必ずインデント（字下げ）が必要です。\n",
        "* インテントは半角スペース4個が推奨されていますが、任意の個数やTabでも正しく動きます。\n",
        "---\n",
        "Selection (if statement)\n",
        "\n",
        "if Condition:\n",
        "\n",
        "   The statement you want to execute\n",
        "* Lines within if must be indented (indentation).\n",
        "* Four single-byte spaces are recommended for the intent, but any number of spaces or Tab will work."
      ],
      "metadata": {
        "id": "m0vSjng152wC"
      }
    },
    {
      "cell_type": "markdown",
      "source": [
        "* **ifのみの場合**、条件式がTrueのとき（条件を満たすとき）に指定した処理が実行され、Falseのとき（条件を満たさないとき）は何もしない。\n",
        "* **In the case of if only**, the specified process is executed when the conditional expression is True (when the condition is satisfied), and when False (when the condition is not satisfied), nothing is done."
      ],
      "metadata": {
        "id": "vdhNqNdE2DTB"
      }
    },
    {
      "cell_type": "code",
      "source": [
        "lang = \"python\"\n",
        "if lang == \"python\":\n",
        "    # インデントされた部分がifの中身として認識される/Indented parts are recognized as if contents.\n",
        "    print(\"I love Python!\")\n",
        "    print(\"I love Programming!\")"
      ],
      "metadata": {
        "colab": {
          "base_uri": "https://localhost:8080/"
        },
        "id": "AkxTFFD54EYv",
        "outputId": "c3f41b67-bd6a-4029-83fc-32bf0f3e5d6e"
      },
      "execution_count": null,
      "outputs": [
        {
          "output_type": "stream",
          "name": "stdout",
          "text": [
            "I love Python!\n",
            "I love Programming!\n"
          ]
        }
      ]
    },
    {
      "cell_type": "markdown",
      "source": [
        "else文の使い方\n",
        "* else文はif文の条件を満たさなかった場合に実行したい文を書くことができます。\n",
        "---\n",
        "How to use the \"else\" statement\n",
        "* The else statement allows you to write the statement you want to execute if the condition of the if statement is not met."
      ],
      "metadata": {
        "id": "2BWMacOz-bfW"
      }
    },
    {
      "cell_type": "markdown",
      "source": [
        "if ... else ...\n",
        "\n",
        "* elseブロックで、条件式がFalseのときの処理を追加できる。\n",
        "---\n",
        "if ... else ...\n",
        "\n",
        "* In the else block, processing can be added when the conditional expression is false."
      ],
      "metadata": {
        "id": "pEp0OhOj2wy7"
      }
    },
    {
      "cell_type": "code",
      "source": [
        "lang = \"ruby\" #laung が \"ruby\"になったため条件を満たしていない/Laung is \"ruby\" and does not meet the condition.\n",
        "if lang == \"python\":\n",
        "    print(\"I love python!\")\n",
        "else:\n",
        "    print(\"I love other language!\")"
      ],
      "metadata": {
        "colab": {
          "base_uri": "https://localhost:8080/"
        },
        "id": "HTVQDhu78doI",
        "outputId": "d4b457e4-238b-4fe6-c0af-3e393d49dab7"
      },
      "execution_count": null,
      "outputs": [
        {
          "output_type": "stream",
          "name": "stdout",
          "text": [
            "I love other language!\n"
          ]
        }
      ]
    },
    {
      "cell_type": "markdown",
      "source": [
        "繰り返し(for文)\n",
        "* **同じ処理を繰り返したい場合は**、for文を使用します。\n",
        "---\n",
        "Repetition (for statement)\n",
        "* **If you want to repeat the same process**, use a \"for\" statement."
      ],
      "metadata": {
        "id": "3zyY6cZgA1Lf"
      }
    },
    {
      "cell_type": "markdown",
      "source": [
        "* for 変数 in リスト型：\n",
        "\n",
        "  繰り返したいしたい文 ifと同様に、for中の行は必ずインデント（字下げ）が必要です。\n",
        "* for variable in list type:\n",
        "\n",
        "  As with the if statement, the line in for must be indented."
      ],
      "metadata": {
        "id": "DOk9xgskT2Lg"
      }
    },
    {
      "cell_type": "markdown",
      "source": [
        "for文の書き方\n",
        "\n",
        "for 変数 in オブジェクト:\n",
        "\n",
        "      処理1\n",
        "\n",
        "      処理2\n",
        "---\n",
        "How to write a for statement\n",
        "\n",
        "for Variables in Objects:.\n",
        "\n",
        "      Process 1\n",
        "\n",
        "      Process 2"
      ],
      "metadata": {
        "id": "5ul6XCA385c6"
      }
    },
    {
      "cell_type": "markdown",
      "source": [
        "* compound statement: https://docs.python.org/ja/3/reference/compound_stmts.html?highlight=for"
      ],
      "metadata": {
        "id": "FxyjZwP0y2hO"
      }
    },
    {
      "cell_type": "code",
      "source": [
        "# xを0から4まで増分させながら繰り返す\n",
        "# Repeat while incrementing x from 0 to 4\n",
        "\n",
        "for x in [0, 1, 2, 3, 4]:\n",
        "    print(x)"
      ],
      "metadata": {
        "colab": {
          "base_uri": "https://localhost:8080/"
        },
        "id": "EhZkqKMDVPmN",
        "outputId": "c97ecc7d-e9bc-46f2-de6a-e05fc6688300"
      },
      "execution_count": null,
      "outputs": [
        {
          "output_type": "stream",
          "name": "stdout",
          "text": [
            "0\n",
            "1\n",
            "2\n",
            "3\n",
            "4\n"
          ]
        }
      ]
    },
    {
      "cell_type": "markdown",
      "source": [
        "* 上記のような繰り返し条件の指定では、例えば0から100までの値を実行したいような場合に、リスト型で100まで定義するのは現実的ではありません。そのような際に使うのがrangeです。**range**の使い方は以下の通りです。\n",
        "* In the above example of specifying a repeating condition, it is not realistic to define up to 100 values in a list type for example, when you want to execute values from 0 to 100. In such a case, **range** is used."
      ],
      "metadata": {
        "id": "hYo5lDQmVzJE"
      }
    },
    {
      "cell_type": "code",
      "source": [
        "# xを0から4まで増分させながら繰り返す\n",
        "# Repeat while incrementing x from 0 to 4\n",
        "\n",
        "for x in range(5):\n",
        "    print(x)"
      ],
      "metadata": {
        "colab": {
          "base_uri": "https://localhost:8080/"
        },
        "id": "9EG6KdRDWNjo",
        "outputId": "d11faa84-e0b6-4fd6-9d5e-19ba11217141"
      },
      "execution_count": null,
      "outputs": [
        {
          "output_type": "stream",
          "name": "stdout",
          "text": [
            "0\n",
            "1\n",
            "2\n",
            "3\n",
            "4\n"
          ]
        }
      ]
    },
    {
      "cell_type": "code",
      "source": [
        "# xを2から4まで増分させながら繰り返す\n",
        "# Repeat with increments of x from 2 to 4\n",
        "for x in range(2, 5):\n",
        "    print(x)"
      ],
      "metadata": {
        "colab": {
          "base_uri": "https://localhost:8080/"
        },
        "id": "Ypf4VUCkWPV2",
        "outputId": "90ed119d-1d8d-41e2-e4e2-c586fd1d6aeb"
      },
      "execution_count": null,
      "outputs": [
        {
          "output_type": "stream",
          "name": "stdout",
          "text": [
            "2\n",
            "3\n",
            "4\n"
          ]
        }
      ]
    },
    {
      "cell_type": "code",
      "source": [
        "# xを0から9まで2ずつ増分させながら繰り返す\n",
        "# Repeat while incrementing x by 2 from 0 to 9\n",
        "\n",
        "for x in range(0, 9, 2):\n",
        "    print(x)"
      ],
      "metadata": {
        "colab": {
          "base_uri": "https://localhost:8080/"
        },
        "id": "04zIxbo0WgKe",
        "outputId": "0a395e9b-3ab2-4b8d-c309-a76de8ce991d"
      },
      "execution_count": null,
      "outputs": [
        {
          "output_type": "stream",
          "name": "stdout",
          "text": [
            "0\n",
            "2\n",
            "4\n",
            "6\n",
            "8\n"
          ]
        }
      ]
    }
  ],
  "metadata": {
    "colab": {
      "provenance": [],
      "include_colab_link": true
    },
    "kernelspec": {
      "display_name": "Python 3",
      "language": "python",
      "name": "python3"
    },
    "language_info": {
      "codemirror_mode": {
        "name": "ipython",
        "version": 3
      },
      "file_extension": ".py",
      "mimetype": "text/x-python",
      "name": "python",
      "nbconvert_exporter": "python",
      "pygments_lexer": "ipython3",
      "version": "3.7.2"
    }
  },
  "nbformat": 4,
  "nbformat_minor": 0
}
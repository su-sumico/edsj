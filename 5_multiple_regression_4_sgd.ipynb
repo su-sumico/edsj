{
  "nbformat": 4,
  "nbformat_minor": 0,
  "metadata": {
    "colab": {
      "provenance": [],
      "include_colab_link": true
    },
    "kernelspec": {
      "name": "python3",
      "display_name": "Python 3"
    }
  },
  "cells": [
    {
      "cell_type": "markdown",
      "metadata": {
        "id": "view-in-github",
        "colab_type": "text"
      },
      "source": [
        "<a href=\"https://colab.research.google.com/github/su-sumico/edsj/blob/main/5_multiple_regression_4_sgd.ipynb\" target=\"_parent\"><img src=\"https://colab.research.google.com/assets/colab-badge.svg\" alt=\"Open In Colab\"/></a>"
      ]
    },
    {
      "cell_type": "markdown",
      "source": [
        "予測モデルの訓練の流れ\n",
        "\n",
        "1. データセットを訓練データとテストデータに分割\n",
        "2. 説明変数の標準化\n",
        "3. 予測モデルの指定\n",
        "4. 損失関数の指定\n",
        "5. 訓練データと損失関数を用いたモデルの訓練\n",
        "6. テストデータを用いたモデルの評価\n",
        "---\n",
        "Flow of training a predictive model\n",
        "\n",
        "1. split the dataset into training and test data\n",
        "2. standardize explanatory variables\n",
        "3. specify a predictive model\n",
        "4. specify a loss function\n",
        "5. train the model using the training data and the loss function\n",
        "6. evaluate the model using the test data"
      ],
      "metadata": {
        "id": "8sjAHqN0VVXE"
      }
    },
    {
      "cell_type": "markdown",
      "metadata": {
        "id": "tZixgDruxdZ3"
      },
      "source": [
        "目的\n",
        "\n",
        "* データセットの13個の説明変数を使って、**確率的勾配降下法のモデルを訓練し**、住宅価格の予測モデルを実装します。\n",
        "---\n",
        "Objective\n",
        "\n",
        "* Using the 13 explanatory variables in the data set, we **train a stochastic gradient descent model** to implement a predictive model of housing prices."
      ]
    },
    {
      "cell_type": "code",
      "source": [
        "from google.colab import drive\n",
        "drive.mount('/content/drive')"
      ],
      "metadata": {
        "colab": {
          "base_uri": "https://localhost:8080/"
        },
        "id": "9E-KKtie1Wzt",
        "outputId": "80c04d49-749b-4994-d398-0e1fc72fd203"
      },
      "execution_count": null,
      "outputs": [
        {
          "output_type": "stream",
          "name": "stdout",
          "text": [
            "Mounted at /content/drive\n"
          ]
        }
      ]
    },
    {
      "cell_type": "code",
      "source": [
        "# ライブラリのインポート/Import libraries\n",
        "%matplotlib inline\n",
        "import matplotlib.pyplot as plt\n",
        "import numpy as np\n",
        "import pandas as pd\n",
        "from sklearn.linear_model import SGDRegressor\n",
        "from sklearn.preprocessing import StandardScaler\n",
        "from sklearn.model_selection import train_test_split\n",
        "from sklearn.metrics import mean_squared_error"
      ],
      "metadata": {
        "id": "0wMJgywYDVje"
      },
      "execution_count": null,
      "outputs": []
    },
    {
      "cell_type": "code",
      "source": [
        "# データセットの読み込み/Load dataset\n",
        "df = pd.read_csv('/content/drive/MyDrive/Colab Notebooks/5data/BostonHousing.csv')\n",
        "\n",
        "X = df.iloc[:, 0:13]\n",
        "y = df['medv'].values\n",
        "\n",
        "# 1. 訓練データとテストデータに分割/Split into training and test data\n",
        "X_train, X_test, y_train, y_test = train_test_split(X, y, test_size=0.2, random_state=0)\n",
        "print('Shape of X_train：',X_train.shape,'Shape of y_train：',y_train.shape,'Shape of X_test：',X_test.shape,'Shape of y_test：',y_test.shape)"
      ],
      "metadata": {
        "colab": {
          "base_uri": "https://localhost:8080/"
        },
        "id": "_15kIRoQDZef",
        "outputId": "8245fbd6-3e9f-475b-d02b-b3c79f108754"
      },
      "execution_count": null,
      "outputs": [
        {
          "output_type": "stream",
          "name": "stdout",
          "text": [
            "Shape of X_train： (404, 13) Shape of y_train： (404,) Shape of X_test： (102, 13) Shape of y_test： (102,)\n"
          ]
        }
      ]
    },
    {
      "cell_type": "code",
      "source": [
        "# 2. 説明変数の標準化/Standardize explanatory variables\n",
        "sc = StandardScaler()\n",
        "\n",
        "# 訓練データを変換器で標準化/Standardize training data with a transformer\n",
        "X_train_std = sc.fit_transform(X_train)\n",
        "\n",
        "# テストデータを作成した変換器で標準化/Standardize test data with transformer created\n",
        "X_test_std = sc.transform(X_test)"
      ],
      "metadata": {
        "id": "3Fp8FZkrEUd9"
      },
      "execution_count": null,
      "outputs": []
    },
    {
      "cell_type": "markdown",
      "source": [
        "SGDRegressor: https://scikit-learn.org/stable/modules/generated/sklearn.linear_model.SGDRegressor.html\n",
        "* 確率的勾配降下法（Stochastic Gradient Descent: SGD）は、パラメータを一度に求めるのではなく勾配を計算し繰り返しパラメータを更新していく方法です。\n",
        "* 確率的勾配降下法にはsklearn.linear_model.SGDRegressorを使います。\n",
        "* インスタンスを生成する時にパラメタを設定します。\n",
        "---\n",
        "* Stochastic Gradient Descent (SGD) is a method that iteratively updates parameters by calculating their gradients rather than finding them all at once.\n",
        "* Use sklearn.linear_model.SGDRegressor for stochastic gradient descent.\n",
        "* Parameters are set when the instance is created."
      ],
      "metadata": {
        "id": "RWBHimtwwz5X"
      }
    },
    {
      "cell_type": "markdown",
      "source": [
        "* ↓インスタンス作成後、SGDRegressor.fitというメソッドにスケーリングした学習データを渡して確率的勾配降下法の学習を行います。\n",
        "* ↓After creating the instance, the scaled training data is passed to the SGDRegressor.fit method to train the stochastic gradient descent method."
      ],
      "metadata": {
        "id": "nsG1G1Q0djoZ"
      }
    },
    {
      "cell_type": "code",
      "source": [
        "# 3. モデルの指定 4. 損失関数の指定 5. モデルの訓練\n",
        "# 3. Specify model 4. Specify loss function 5. Train the model\n",
        "# 確率的勾配降下法の回帰モデルを作成/Create regression models for stochastic gradient descent\n",
        "model = SGDRegressor(loss='squared_error', max_iter=100, eta0=0.01, learning_rate='constant', alpha=1e-09, penalty='l2', l1_ratio=0, random_state=0)\n",
        "\n",
        "# モデルの訓練/Train the model\n",
        "model.fit(X_train_std, y_train)"
      ],
      "metadata": {
        "colab": {
          "base_uri": "https://localhost:8080/",
          "height": 92
        },
        "id": "oTwgjXstEwj9",
        "outputId": "42406301-4ef7-40c6-cb3c-73aad10591bf"
      },
      "execution_count": null,
      "outputs": [
        {
          "output_type": "execute_result",
          "data": {
            "text/plain": [
              "SGDRegressor(alpha=1e-09, l1_ratio=0, learning_rate='constant', max_iter=100,\n",
              "             random_state=0)"
            ],
            "text/html": [
              "<style>#sk-container-id-1 {color: black;background-color: white;}#sk-container-id-1 pre{padding: 0;}#sk-container-id-1 div.sk-toggleable {background-color: white;}#sk-container-id-1 label.sk-toggleable__label {cursor: pointer;display: block;width: 100%;margin-bottom: 0;padding: 0.3em;box-sizing: border-box;text-align: center;}#sk-container-id-1 label.sk-toggleable__label-arrow:before {content: \"▸\";float: left;margin-right: 0.25em;color: #696969;}#sk-container-id-1 label.sk-toggleable__label-arrow:hover:before {color: black;}#sk-container-id-1 div.sk-estimator:hover label.sk-toggleable__label-arrow:before {color: black;}#sk-container-id-1 div.sk-toggleable__content {max-height: 0;max-width: 0;overflow: hidden;text-align: left;background-color: #f0f8ff;}#sk-container-id-1 div.sk-toggleable__content pre {margin: 0.2em;color: black;border-radius: 0.25em;background-color: #f0f8ff;}#sk-container-id-1 input.sk-toggleable__control:checked~div.sk-toggleable__content {max-height: 200px;max-width: 100%;overflow: auto;}#sk-container-id-1 input.sk-toggleable__control:checked~label.sk-toggleable__label-arrow:before {content: \"▾\";}#sk-container-id-1 div.sk-estimator input.sk-toggleable__control:checked~label.sk-toggleable__label {background-color: #d4ebff;}#sk-container-id-1 div.sk-label input.sk-toggleable__control:checked~label.sk-toggleable__label {background-color: #d4ebff;}#sk-container-id-1 input.sk-hidden--visually {border: 0;clip: rect(1px 1px 1px 1px);clip: rect(1px, 1px, 1px, 1px);height: 1px;margin: -1px;overflow: hidden;padding: 0;position: absolute;width: 1px;}#sk-container-id-1 div.sk-estimator {font-family: monospace;background-color: #f0f8ff;border: 1px dotted black;border-radius: 0.25em;box-sizing: border-box;margin-bottom: 0.5em;}#sk-container-id-1 div.sk-estimator:hover {background-color: #d4ebff;}#sk-container-id-1 div.sk-parallel-item::after {content: \"\";width: 100%;border-bottom: 1px solid gray;flex-grow: 1;}#sk-container-id-1 div.sk-label:hover label.sk-toggleable__label {background-color: #d4ebff;}#sk-container-id-1 div.sk-serial::before {content: \"\";position: absolute;border-left: 1px solid gray;box-sizing: border-box;top: 0;bottom: 0;left: 50%;z-index: 0;}#sk-container-id-1 div.sk-serial {display: flex;flex-direction: column;align-items: center;background-color: white;padding-right: 0.2em;padding-left: 0.2em;position: relative;}#sk-container-id-1 div.sk-item {position: relative;z-index: 1;}#sk-container-id-1 div.sk-parallel {display: flex;align-items: stretch;justify-content: center;background-color: white;position: relative;}#sk-container-id-1 div.sk-item::before, #sk-container-id-1 div.sk-parallel-item::before {content: \"\";position: absolute;border-left: 1px solid gray;box-sizing: border-box;top: 0;bottom: 0;left: 50%;z-index: -1;}#sk-container-id-1 div.sk-parallel-item {display: flex;flex-direction: column;z-index: 1;position: relative;background-color: white;}#sk-container-id-1 div.sk-parallel-item:first-child::after {align-self: flex-end;width: 50%;}#sk-container-id-1 div.sk-parallel-item:last-child::after {align-self: flex-start;width: 50%;}#sk-container-id-1 div.sk-parallel-item:only-child::after {width: 0;}#sk-container-id-1 div.sk-dashed-wrapped {border: 1px dashed gray;margin: 0 0.4em 0.5em 0.4em;box-sizing: border-box;padding-bottom: 0.4em;background-color: white;}#sk-container-id-1 div.sk-label label {font-family: monospace;font-weight: bold;display: inline-block;line-height: 1.2em;}#sk-container-id-1 div.sk-label-container {text-align: center;}#sk-container-id-1 div.sk-container {/* jupyter's `normalize.less` sets `[hidden] { display: none; }` but bootstrap.min.css set `[hidden] { display: none !important; }` so we also need the `!important` here to be able to override the default hidden behavior on the sphinx rendered scikit-learn.org. See: https://github.com/scikit-learn/scikit-learn/issues/21755 */display: inline-block !important;position: relative;}#sk-container-id-1 div.sk-text-repr-fallback {display: none;}</style><div id=\"sk-container-id-1\" class=\"sk-top-container\"><div class=\"sk-text-repr-fallback\"><pre>SGDRegressor(alpha=1e-09, l1_ratio=0, learning_rate=&#x27;constant&#x27;, max_iter=100,\n",
              "             random_state=0)</pre><b>In a Jupyter environment, please rerun this cell to show the HTML representation or trust the notebook. <br />On GitHub, the HTML representation is unable to render, please try loading this page with nbviewer.org.</b></div><div class=\"sk-container\" hidden><div class=\"sk-item\"><div class=\"sk-estimator sk-toggleable\"><input class=\"sk-toggleable__control sk-hidden--visually\" id=\"sk-estimator-id-1\" type=\"checkbox\" checked><label for=\"sk-estimator-id-1\" class=\"sk-toggleable__label sk-toggleable__label-arrow\">SGDRegressor</label><div class=\"sk-toggleable__content\"><pre>SGDRegressor(alpha=1e-09, l1_ratio=0, learning_rate=&#x27;constant&#x27;, max_iter=100,\n",
              "             random_state=0)</pre></div></div></div></div></div>"
            ]
          },
          "metadata": {},
          "execution_count": 5
        }
      ]
    },
    {
      "cell_type": "code",
      "source": [
        "# 6. モデルの評価/Evaluate the model\n",
        "# 訓練データ、テストデータの住宅価格を予測/Predict housing prices on training and test data\n",
        "y_train_pred = model.predict(X_train_std)\n",
        "y_test_pred = model.predict(X_test_std)\n",
        "\n",
        "# MSEの計算/Calculate MSE\n",
        "print('MSE train: %.2f, test: %.2f' % (\n",
        "        mean_squared_error(y_train, y_train_pred),\n",
        "        mean_squared_error(y_test, y_test_pred)))"
      ],
      "metadata": {
        "colab": {
          "base_uri": "https://localhost:8080/"
        },
        "id": "ufcwd5FbE0KV",
        "outputId": "7d32a7a7-fa7f-4a5d-f3c0-488e5be759cd"
      },
      "execution_count": null,
      "outputs": [
        {
          "output_type": "stream",
          "name": "stdout",
          "text": [
            "MSE train: 19.57, test: 34.04\n"
          ]
        }
      ]
    },
    {
      "cell_type": "markdown",
      "source": [
        "* 重回帰より僅かに大きいMSEになりました。\n",
        "* 重回帰は解析解なのでMSEは不変ですが、確率的勾配降下法回帰は、勾配降下法を用いた近似計算なので、学習率などのハイパーパラメータをチューニングすることで、MSEは上下します。\n",
        "---\n",
        "* The MSE is now slightly larger than the multiple regression.\n",
        "* Multiple regression is an analytical solution, so the MSE is invariant, but stochastic gradient descent regression is an approximate calculation using gradient descent, so the MSE can go up or down by tuning hyperparameters such as the learning rate."
      ],
      "metadata": {
        "id": "mvygcDF8LiOT"
      }
    }
  ]
}
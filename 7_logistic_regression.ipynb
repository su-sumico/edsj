{
  "nbformat": 4,
  "nbformat_minor": 0,
  "metadata": {
    "colab": {
      "provenance": [],
      "include_colab_link": true
    },
    "kernelspec": {
      "name": "python3",
      "display_name": "Python 3"
    },
    "language_info": {
      "name": "python"
    }
  },
  "cells": [
    {
      "cell_type": "markdown",
      "metadata": {
        "id": "view-in-github",
        "colab_type": "text"
      },
      "source": [
        "<a href=\"https://colab.research.google.com/github/su-sumico/edsj/blob/main/7_logistic_regression.ipynb\" target=\"_parent\"><img src=\"https://colab.research.google.com/assets/colab-badge.svg\" alt=\"Open In Colab\"/></a>"
      ]
    },
    {
      "cell_type": "markdown",
      "source": [
        "#####予測モデルの訓練の流れ\n",
        "1. データセットを訓練データとテストデータに分割\n",
        "2. 説明変数の標準化\n",
        "3. 予測モデルの指定\n",
        "4. 損失関数の指定\n",
        "5. 訓練データと損失関数を用いたモデルの訓練\n",
        "6. テストデータを用いたモデルの評価\n",
        "---\n",
        "#####Flow of training a predictive model\n",
        "1. split the dataset into training and test data\n",
        "2. standardize explanatory variables\n",
        "3. specify a predictive model\n",
        "4. specify a loss function\n",
        "5. train the model using the training data and the loss function\n",
        "6. evaluate the model using the test data"
      ],
      "metadata": {
        "id": "LOKM2eOCkeZd"
      }
    },
    {
      "cell_type": "markdown",
      "source": [
        "ロジスティック回帰/logistic regression\n",
        "* タイタニック号の乗客の情報から**生存したか否かを予測**\n",
        "* **Predicting whether or not the Titanic survived** based on information about its passengers."
      ],
      "metadata": {
        "id": "4H3hTtx87uk3"
      }
    },
    {
      "cell_type": "markdown",
      "source": [
        "データセット/Dataset\n",
        "* train.csv: 顧客情報と生存の有無が記載されています.\n",
        "* train.csv: It contains customer information and whether the customer is still alive or not."
      ],
      "metadata": {
        "id": "oLeN7MHB77h3"
      }
    },
    {
      "cell_type": "markdown",
      "source": [
        "データ項目/Data item\n",
        "* PassengerId: 乗客識別連番ID/Passenger Identification Sequential Number ID\n",
        "* Survived: 生存の有無（0=死亡, 1=生存）/Survival (0=dead, 1=alive)\n",
        "* Pclass: チケットクラス（1=上層クラス, 2=一般クラス, 3=下層クラス）/Ticket Class (1=Upper Class, 2=General Class, 3=Lower Class)\n",
        "* Name: 乗客の名前/Passenger's Name\n",
        "* Sex: 性別（male=男性, female＝女性）/Gender (male=male, female=female)\n",
        "* Age: 年齢/Age\n",
        "* SibSp: タイタニックに同乗している兄弟配偶者の数/Number of sibling spouses on board the Titanic.\n",
        "* Parch: タイタニックに同乗している親子供の数/Number of parents and children boarding with the Titanic\n",
        "* Ticket: チケット番号/Ticket Number\n",
        "* Fare: 料金/Fee\n",
        "* Cabin: 客室番号/Room Number\n",
        "* Embarked: 出港地（C = Cherbourg, Q = Queenstown, S = Southampton）/Departure point (C = Cherbourg, Q = Queenstown, S = Southampton)"
      ],
      "metadata": {
        "id": "ZSu4n6wQ8LGI"
      }
    },
    {
      "cell_type": "code",
      "source": [
        "from google.colab import drive\n",
        "drive.mount('/content/drive')"
      ],
      "metadata": {
        "id": "mxGcFMrVCdWm"
      },
      "execution_count": null,
      "outputs": []
    },
    {
      "cell_type": "code",
      "execution_count": null,
      "metadata": {
        "id": "cm5LLgB463T7"
      },
      "outputs": [],
      "source": [
        "import numpy as np\n",
        "import pandas as pd\n",
        "from sklearn import datasets\n",
        "\n",
        "# データセット読み込み（train.csvを利用）/Load dataset (using train.csv)\n",
        "df = pd.read_csv(\"/content/drive/MyDrive/Colab Notebooks/7data/train.csv\")"
      ]
    },
    {
      "cell_type": "code",
      "source": [
        "df"
      ],
      "metadata": {
        "colab": {
          "base_uri": "https://localhost:8080/",
          "height": 502
        },
        "id": "USbu1_byAfQW",
        "outputId": "97ee3cd4-2bd7-4147-8f89-55133bdbf4d3"
      },
      "execution_count": null,
      "outputs": [
        {
          "output_type": "execute_result",
          "data": {
            "text/plain": [
              "     PassengerId  Survived  Pclass  \\\n",
              "0              1         0       3   \n",
              "1              2         1       1   \n",
              "2              3         1       3   \n",
              "3              4         1       1   \n",
              "4              5         0       3   \n",
              "..           ...       ...     ...   \n",
              "886          887         0       2   \n",
              "887          888         1       1   \n",
              "888          889         0       3   \n",
              "889          890         1       1   \n",
              "890          891         0       3   \n",
              "\n",
              "                                                  Name     Sex   Age  SibSp  \\\n",
              "0                              Braund, Mr. Owen Harris    male  22.0      1   \n",
              "1    Cumings, Mrs. John Bradley (Florence Briggs Th...  female  38.0      1   \n",
              "2                               Heikkinen, Miss. Laina  female  26.0      0   \n",
              "3         Futrelle, Mrs. Jacques Heath (Lily May Peel)  female  35.0      1   \n",
              "4                             Allen, Mr. William Henry    male  35.0      0   \n",
              "..                                                 ...     ...   ...    ...   \n",
              "886                              Montvila, Rev. Juozas    male  27.0      0   \n",
              "887                       Graham, Miss. Margaret Edith  female  19.0      0   \n",
              "888           Johnston, Miss. Catherine Helen \"Carrie\"  female   NaN      1   \n",
              "889                              Behr, Mr. Karl Howell    male  26.0      0   \n",
              "890                                Dooley, Mr. Patrick    male  32.0      0   \n",
              "\n",
              "     Parch            Ticket     Fare Cabin Embarked  \n",
              "0        0         A/5 21171   7.2500   NaN        S  \n",
              "1        0          PC 17599  71.2833   C85        C  \n",
              "2        0  STON/O2. 3101282   7.9250   NaN        S  \n",
              "3        0            113803  53.1000  C123        S  \n",
              "4        0            373450   8.0500   NaN        S  \n",
              "..     ...               ...      ...   ...      ...  \n",
              "886      0            211536  13.0000   NaN        S  \n",
              "887      0            112053  30.0000   B42        S  \n",
              "888      2        W./C. 6607  23.4500   NaN        S  \n",
              "889      0            111369  30.0000  C148        C  \n",
              "890      0            370376   7.7500   NaN        Q  \n",
              "\n",
              "[891 rows x 12 columns]"
            ],
            "text/html": [
              "\n",
              "  <div id=\"df-d3588ed1-5169-4941-80f9-43279a34e0d9\">\n",
              "    <div class=\"colab-df-container\">\n",
              "      <div>\n",
              "<style scoped>\n",
              "    .dataframe tbody tr th:only-of-type {\n",
              "        vertical-align: middle;\n",
              "    }\n",
              "\n",
              "    .dataframe tbody tr th {\n",
              "        vertical-align: top;\n",
              "    }\n",
              "\n",
              "    .dataframe thead th {\n",
              "        text-align: right;\n",
              "    }\n",
              "</style>\n",
              "<table border=\"1\" class=\"dataframe\">\n",
              "  <thead>\n",
              "    <tr style=\"text-align: right;\">\n",
              "      <th></th>\n",
              "      <th>PassengerId</th>\n",
              "      <th>Survived</th>\n",
              "      <th>Pclass</th>\n",
              "      <th>Name</th>\n",
              "      <th>Sex</th>\n",
              "      <th>Age</th>\n",
              "      <th>SibSp</th>\n",
              "      <th>Parch</th>\n",
              "      <th>Ticket</th>\n",
              "      <th>Fare</th>\n",
              "      <th>Cabin</th>\n",
              "      <th>Embarked</th>\n",
              "    </tr>\n",
              "  </thead>\n",
              "  <tbody>\n",
              "    <tr>\n",
              "      <th>0</th>\n",
              "      <td>1</td>\n",
              "      <td>0</td>\n",
              "      <td>3</td>\n",
              "      <td>Braund, Mr. Owen Harris</td>\n",
              "      <td>male</td>\n",
              "      <td>22.0</td>\n",
              "      <td>1</td>\n",
              "      <td>0</td>\n",
              "      <td>A/5 21171</td>\n",
              "      <td>7.2500</td>\n",
              "      <td>NaN</td>\n",
              "      <td>S</td>\n",
              "    </tr>\n",
              "    <tr>\n",
              "      <th>1</th>\n",
              "      <td>2</td>\n",
              "      <td>1</td>\n",
              "      <td>1</td>\n",
              "      <td>Cumings, Mrs. John Bradley (Florence Briggs Th...</td>\n",
              "      <td>female</td>\n",
              "      <td>38.0</td>\n",
              "      <td>1</td>\n",
              "      <td>0</td>\n",
              "      <td>PC 17599</td>\n",
              "      <td>71.2833</td>\n",
              "      <td>C85</td>\n",
              "      <td>C</td>\n",
              "    </tr>\n",
              "    <tr>\n",
              "      <th>2</th>\n",
              "      <td>3</td>\n",
              "      <td>1</td>\n",
              "      <td>3</td>\n",
              "      <td>Heikkinen, Miss. Laina</td>\n",
              "      <td>female</td>\n",
              "      <td>26.0</td>\n",
              "      <td>0</td>\n",
              "      <td>0</td>\n",
              "      <td>STON/O2. 3101282</td>\n",
              "      <td>7.9250</td>\n",
              "      <td>NaN</td>\n",
              "      <td>S</td>\n",
              "    </tr>\n",
              "    <tr>\n",
              "      <th>3</th>\n",
              "      <td>4</td>\n",
              "      <td>1</td>\n",
              "      <td>1</td>\n",
              "      <td>Futrelle, Mrs. Jacques Heath (Lily May Peel)</td>\n",
              "      <td>female</td>\n",
              "      <td>35.0</td>\n",
              "      <td>1</td>\n",
              "      <td>0</td>\n",
              "      <td>113803</td>\n",
              "      <td>53.1000</td>\n",
              "      <td>C123</td>\n",
              "      <td>S</td>\n",
              "    </tr>\n",
              "    <tr>\n",
              "      <th>4</th>\n",
              "      <td>5</td>\n",
              "      <td>0</td>\n",
              "      <td>3</td>\n",
              "      <td>Allen, Mr. William Henry</td>\n",
              "      <td>male</td>\n",
              "      <td>35.0</td>\n",
              "      <td>0</td>\n",
              "      <td>0</td>\n",
              "      <td>373450</td>\n",
              "      <td>8.0500</td>\n",
              "      <td>NaN</td>\n",
              "      <td>S</td>\n",
              "    </tr>\n",
              "    <tr>\n",
              "      <th>...</th>\n",
              "      <td>...</td>\n",
              "      <td>...</td>\n",
              "      <td>...</td>\n",
              "      <td>...</td>\n",
              "      <td>...</td>\n",
              "      <td>...</td>\n",
              "      <td>...</td>\n",
              "      <td>...</td>\n",
              "      <td>...</td>\n",
              "      <td>...</td>\n",
              "      <td>...</td>\n",
              "      <td>...</td>\n",
              "    </tr>\n",
              "    <tr>\n",
              "      <th>886</th>\n",
              "      <td>887</td>\n",
              "      <td>0</td>\n",
              "      <td>2</td>\n",
              "      <td>Montvila, Rev. Juozas</td>\n",
              "      <td>male</td>\n",
              "      <td>27.0</td>\n",
              "      <td>0</td>\n",
              "      <td>0</td>\n",
              "      <td>211536</td>\n",
              "      <td>13.0000</td>\n",
              "      <td>NaN</td>\n",
              "      <td>S</td>\n",
              "    </tr>\n",
              "    <tr>\n",
              "      <th>887</th>\n",
              "      <td>888</td>\n",
              "      <td>1</td>\n",
              "      <td>1</td>\n",
              "      <td>Graham, Miss. Margaret Edith</td>\n",
              "      <td>female</td>\n",
              "      <td>19.0</td>\n",
              "      <td>0</td>\n",
              "      <td>0</td>\n",
              "      <td>112053</td>\n",
              "      <td>30.0000</td>\n",
              "      <td>B42</td>\n",
              "      <td>S</td>\n",
              "    </tr>\n",
              "    <tr>\n",
              "      <th>888</th>\n",
              "      <td>889</td>\n",
              "      <td>0</td>\n",
              "      <td>3</td>\n",
              "      <td>Johnston, Miss. Catherine Helen \"Carrie\"</td>\n",
              "      <td>female</td>\n",
              "      <td>NaN</td>\n",
              "      <td>1</td>\n",
              "      <td>2</td>\n",
              "      <td>W./C. 6607</td>\n",
              "      <td>23.4500</td>\n",
              "      <td>NaN</td>\n",
              "      <td>S</td>\n",
              "    </tr>\n",
              "    <tr>\n",
              "      <th>889</th>\n",
              "      <td>890</td>\n",
              "      <td>1</td>\n",
              "      <td>1</td>\n",
              "      <td>Behr, Mr. Karl Howell</td>\n",
              "      <td>male</td>\n",
              "      <td>26.0</td>\n",
              "      <td>0</td>\n",
              "      <td>0</td>\n",
              "      <td>111369</td>\n",
              "      <td>30.0000</td>\n",
              "      <td>C148</td>\n",
              "      <td>C</td>\n",
              "    </tr>\n",
              "    <tr>\n",
              "      <th>890</th>\n",
              "      <td>891</td>\n",
              "      <td>0</td>\n",
              "      <td>3</td>\n",
              "      <td>Dooley, Mr. Patrick</td>\n",
              "      <td>male</td>\n",
              "      <td>32.0</td>\n",
              "      <td>0</td>\n",
              "      <td>0</td>\n",
              "      <td>370376</td>\n",
              "      <td>7.7500</td>\n",
              "      <td>NaN</td>\n",
              "      <td>Q</td>\n",
              "    </tr>\n",
              "  </tbody>\n",
              "</table>\n",
              "<p>891 rows × 12 columns</p>\n",
              "</div>\n",
              "      <button class=\"colab-df-convert\" onclick=\"convertToInteractive('df-d3588ed1-5169-4941-80f9-43279a34e0d9')\"\n",
              "              title=\"Convert this dataframe to an interactive table.\"\n",
              "              style=\"display:none;\">\n",
              "        \n",
              "  <svg xmlns=\"http://www.w3.org/2000/svg\" height=\"24px\"viewBox=\"0 0 24 24\"\n",
              "       width=\"24px\">\n",
              "    <path d=\"M0 0h24v24H0V0z\" fill=\"none\"/>\n",
              "    <path d=\"M18.56 5.44l.94 2.06.94-2.06 2.06-.94-2.06-.94-.94-2.06-.94 2.06-2.06.94zm-11 1L8.5 8.5l.94-2.06 2.06-.94-2.06-.94L8.5 2.5l-.94 2.06-2.06.94zm10 10l.94 2.06.94-2.06 2.06-.94-2.06-.94-.94-2.06-.94 2.06-2.06.94z\"/><path d=\"M17.41 7.96l-1.37-1.37c-.4-.4-.92-.59-1.43-.59-.52 0-1.04.2-1.43.59L10.3 9.45l-7.72 7.72c-.78.78-.78 2.05 0 2.83L4 21.41c.39.39.9.59 1.41.59.51 0 1.02-.2 1.41-.59l7.78-7.78 2.81-2.81c.8-.78.8-2.07 0-2.86zM5.41 20L4 18.59l7.72-7.72 1.47 1.35L5.41 20z\"/>\n",
              "  </svg>\n",
              "      </button>\n",
              "      \n",
              "  <style>\n",
              "    .colab-df-container {\n",
              "      display:flex;\n",
              "      flex-wrap:wrap;\n",
              "      gap: 12px;\n",
              "    }\n",
              "\n",
              "    .colab-df-convert {\n",
              "      background-color: #E8F0FE;\n",
              "      border: none;\n",
              "      border-radius: 50%;\n",
              "      cursor: pointer;\n",
              "      display: none;\n",
              "      fill: #1967D2;\n",
              "      height: 32px;\n",
              "      padding: 0 0 0 0;\n",
              "      width: 32px;\n",
              "    }\n",
              "\n",
              "    .colab-df-convert:hover {\n",
              "      background-color: #E2EBFA;\n",
              "      box-shadow: 0px 1px 2px rgba(60, 64, 67, 0.3), 0px 1px 3px 1px rgba(60, 64, 67, 0.15);\n",
              "      fill: #174EA6;\n",
              "    }\n",
              "\n",
              "    [theme=dark] .colab-df-convert {\n",
              "      background-color: #3B4455;\n",
              "      fill: #D2E3FC;\n",
              "    }\n",
              "\n",
              "    [theme=dark] .colab-df-convert:hover {\n",
              "      background-color: #434B5C;\n",
              "      box-shadow: 0px 1px 3px 1px rgba(0, 0, 0, 0.15);\n",
              "      filter: drop-shadow(0px 1px 2px rgba(0, 0, 0, 0.3));\n",
              "      fill: #FFFFFF;\n",
              "    }\n",
              "  </style>\n",
              "\n",
              "      <script>\n",
              "        const buttonEl =\n",
              "          document.querySelector('#df-d3588ed1-5169-4941-80f9-43279a34e0d9 button.colab-df-convert');\n",
              "        buttonEl.style.display =\n",
              "          google.colab.kernel.accessAllowed ? 'block' : 'none';\n",
              "\n",
              "        async function convertToInteractive(key) {\n",
              "          const element = document.querySelector('#df-d3588ed1-5169-4941-80f9-43279a34e0d9');\n",
              "          const dataTable =\n",
              "            await google.colab.kernel.invokeFunction('convertToInteractive',\n",
              "                                                     [key], {});\n",
              "          if (!dataTable) return;\n",
              "\n",
              "          const docLinkHtml = 'Like what you see? Visit the ' +\n",
              "            '<a target=\"_blank\" href=https://colab.research.google.com/notebooks/data_table.ipynb>data table notebook</a>'\n",
              "            + ' to learn more about interactive tables.';\n",
              "          element.innerHTML = '';\n",
              "          dataTable['output_type'] = 'display_data';\n",
              "          await google.colab.output.renderOutput(dataTable, element);\n",
              "          const docLink = document.createElement('div');\n",
              "          docLink.innerHTML = docLinkHtml;\n",
              "          element.appendChild(docLink);\n",
              "        }\n",
              "      </script>\n",
              "    </div>\n",
              "  </div>\n",
              "  "
            ]
          },
          "metadata": {},
          "execution_count": 19
        }
      ]
    },
    {
      "cell_type": "markdown",
      "source": [
        "データ加工 (数値変換)/Data processing (numerical conversion)"
      ],
      "metadata": {
        "id": "liqQmT5UAph_"
      }
    },
    {
      "cell_type": "code",
      "source": [
        "# 性別を[0,1]変換/Convert gender to [0,1]\n",
        "def gender_convert(x):\n",
        "    if x == 'male':\n",
        "        return 0\n",
        "    elif x == 'female':\n",
        "        return 1\n",
        "\n",
        "# 港を数値変換/Convert ports to numeric value\n",
        "def embarked_convert(x):\n",
        "    if x == 'C':\n",
        "        return 0\n",
        "    elif x == 'Q':\n",
        "        return 1\n",
        "    elif x == 'S':\n",
        "        return 2\n",
        "\n",
        "\n",
        "# 性別を数値変換/Convert gender to numeric value\n",
        "df[\"Sex\"] = df[\"Sex\"].apply(gender_convert)\n",
        "\n",
        "# 港を数値変換/Convert ports to numeric value\n",
        "df[\"Embarked\"] = df[\"Embarked\"].apply(embarked_convert)"
      ],
      "metadata": {
        "id": "ft_eEOGgAgNm"
      },
      "execution_count": null,
      "outputs": []
    },
    {
      "cell_type": "markdown",
      "source": [
        "データ加工 (特徴量スケーリング: 標準化）/Data processing (feature scaling: standardization)"
      ],
      "metadata": {
        "id": "zm8G-oLxBJu9"
      }
    },
    {
      "cell_type": "code",
      "source": [
        "# 2. 説明変数の標準化/Standardize explanatory variables\n",
        "from sklearn.preprocessing import StandardScaler\n",
        "\n",
        "# 標準化インスタンス (平均=0, 標準偏差=1)/standardized instances (mean=0, standard deviation=1)\n",
        "standard_sc = StandardScaler()\n",
        "\n",
        "# 年齢と運賃を標準化/Standardize ages and fares\n",
        "X = df.loc[:, ['Age','Fare']]\n",
        "X = standard_sc.fit_transform(X)\n",
        "\n",
        "#標準化後のデータ出力/Output data after standardization\n",
        "df.loc[:, ['Age','Fare']] = X"
      ],
      "metadata": {
        "id": "-mAgVv-eBSSt"
      },
      "execution_count": null,
      "outputs": []
    },
    {
      "cell_type": "markdown",
      "source": [
        "データ加工 (欠損値の除去)/Data processing (removal of missing values)"
      ],
      "metadata": {
        "id": "DQAHpmP1BdAt"
      }
    },
    {
      "cell_type": "code",
      "source": [
        "# 各種説明変数における欠損値数の確認/Check number of missing values in the explanatory variables\n",
        "df.isnull().sum()\n",
        "\n",
        "# 出力イメージ/output image\n",
        "# PassengerId      0\n",
        "# Survived         0\n",
        "# Pclass           0\n",
        "# Name             0\n",
        "# Sex              0\n",
        "# Age            177\n",
        "# SibSp            0\n",
        "# Parch            0\n",
        "# Ticket           0\n",
        "# Fare             0\n",
        "# Cabin          687\n",
        "# Embarked         2\n",
        "# dtype: int64"
      ],
      "metadata": {
        "colab": {
          "base_uri": "https://localhost:8080/"
        },
        "id": "FYmNCaeKBmKl",
        "outputId": "d95e55a7-11a3-453f-f413-0f2a8c411aad"
      },
      "execution_count": null,
      "outputs": [
        {
          "output_type": "execute_result",
          "data": {
            "text/plain": [
              "PassengerId      0\n",
              "Survived         0\n",
              "Pclass           0\n",
              "Name             0\n",
              "Sex              0\n",
              "Age            177\n",
              "SibSp            0\n",
              "Parch            0\n",
              "Ticket           0\n",
              "Fare             0\n",
              "Cabin          687\n",
              "Embarked         2\n",
              "dtype: int64"
            ]
          },
          "metadata": {},
          "execution_count": 22
        }
      ]
    },
    {
      "cell_type": "code",
      "source": [
        "# 欠損値がある行を除去/Remove rows with missing values\n",
        "df = df.dropna(axis=0).reset_index(drop=True)\n",
        "\n",
        "# 欠損値がある行が除去されたことを再確認/Reconfirm that rows with missing values have been removed\n",
        "df.isnull().sum()\n",
        "\n",
        "# 出力イメージ/Output image\n",
        "# PassengerId    0\n",
        "# Survived       0\n",
        "# Pclass         0\n",
        "# Name           0\n",
        "# Sex            0\n",
        "# Age            0\n",
        "# SibSp          0\n",
        "# Parch          0\n",
        "# Ticket         0\n",
        "# Fare           0\n",
        "# Cabin          0\n",
        "# Embarked       0\n",
        "# dtype: int64"
      ],
      "metadata": {
        "colab": {
          "base_uri": "https://localhost:8080/"
        },
        "id": "wRu2oyGWBuh8",
        "outputId": "61cf1481-b1be-4af3-e14f-9cf50d5f0ca1"
      },
      "execution_count": null,
      "outputs": [
        {
          "output_type": "execute_result",
          "data": {
            "text/plain": [
              "PassengerId    0\n",
              "Survived       0\n",
              "Pclass         0\n",
              "Name           0\n",
              "Sex            0\n",
              "Age            0\n",
              "SibSp          0\n",
              "Parch          0\n",
              "Ticket         0\n",
              "Fare           0\n",
              "Cabin          0\n",
              "Embarked       0\n",
              "dtype: int64"
            ]
          },
          "metadata": {},
          "execution_count": 23
        }
      ]
    },
    {
      "cell_type": "markdown",
      "source": [
        "変数選択/Select variables\n",
        "* 説明変数/explanatory variable: Pclass, Sex, Age, SibSp, Embarked, Fare\n",
        "* 目的変数/objective variable: Survived"
      ],
      "metadata": {
        "id": "4pfyRB4wBz6t"
      }
    },
    {
      "cell_type": "code",
      "source": [
        "# 説明変数/explanatory variable\n",
        "X = df[[\"Pclass\",\"Sex\",\"Age\",\"SibSp\",\"Embarked\",\"Fare\"]]\n",
        "\n",
        "# 目的変数/objective variable\n",
        "y = df[\"Survived\"]"
      ],
      "metadata": {
        "id": "r2rk2znQChXG"
      },
      "execution_count": null,
      "outputs": []
    },
    {
      "cell_type": "markdown",
      "source": [
        "* ロジスティック回帰のインスタンスを作成し、モデル学習を行います。\n",
        "* Create an instance of logistic regression and perform model training."
      ],
      "metadata": {
        "id": "IhR6D0_QCrCM"
      }
    },
    {
      "cell_type": "code",
      "source": [
        "from sklearn.linear_model    import LogisticRegression\n",
        "from sklearn.model_selection import train_test_split\n",
        "\n",
        "# 1. データセットを訓練データとテストデータに分割/Split dataset into training and test data\n",
        "# トレーニングデータおよびテストデータ分割/Split training and test data\n",
        "X_train,X_test,Y_train,Y_test = train_test_split(X,y, test_size=0.3, shuffle=True, random_state=3)\n",
        "\n",
        "# 3. 予測モデルの指定 4. 損失関数の指定 5. 訓練データと損失関数を用いたモデルの訓練\n",
        "# 3. specify specify the predictive model 4. specify the loss function 5. train the model using the training data and the loss function\n",
        "# ロジスティック回帰のインスタンス/Instances of logistic regression\n",
        "model = LogisticRegression(penalty='l2',          # 正則化項(L1正則化 or L2正則化が選択可能)/Regularization term (L1 regularization or L2 regularization can be selected)\n",
        "                           dual=False,            # Dual or primal\n",
        "                           tol=0.0001,            # 計算を停止するための基準値/Reference value to stop calculation\n",
        "                           C=1.0,                 # 正則化の強さ/Strength of regularization\n",
        "                           fit_intercept=True,    # バイアス項の計算要否/Bias term calculation required or not\n",
        "                           intercept_scaling=1,   # solver=‘liblinear’の際に有効なスケーリング基準値/Valid scaling reference value when solver='liblinear'.\n",
        "                           class_weight=None,     # クラスに付与された重み/Weight assigned to the class\n",
        "                           random_state=None,     # 乱数シード/random number seed\n",
        "                           solver='lbfgs',        # ハイパーパラメータ探索アルゴリズム/Hyperparameter search algorithm\n",
        "                           max_iter=100,          # 最大イテレーション数/Maximum number of iterations\n",
        "                           multi_class='auto',    # クラスラベルの分類問題（2値問題の場合'auto'を指定）/Classification problem for class labels (specify 'auto' for binary problems)\n",
        "                           verbose=0,             # liblinearおよびlbfgsがsolverに指定されている場合、冗長性のためにverboseを任意の正の数に設定/If liblinear and lbfgs are specified for solver, set verbose to any positive number for redundancy\n",
        "                           warm_start=False,      # Trueの場合、モデル学習の初期化に前の呼出情報を利用/If True, use previous call information to initialize model training\n",
        "                           n_jobs=None,           # 学習時に並列して動かすスレッドの数/Number of threads to run in parallel during training\n",
        "                           l1_ratio=None          # L1/L2正則化比率(penaltyでElastic Netを指定した場合のみ)/L1/L2 regularization ratio (only if Elastic Net is specified in penalty)\n",
        "                          )\n",
        "\n",
        "# モデル学習/model training\n",
        "model.fit(X_train, Y_train)"
      ],
      "metadata": {
        "colab": {
          "base_uri": "https://localhost:8080/"
        },
        "id": "mjkcGWgrC5tO",
        "outputId": "4595d449-82b8-4cc0-a370-b49c13b08168"
      },
      "execution_count": null,
      "outputs": [
        {
          "output_type": "execute_result",
          "data": {
            "text/plain": [
              "LogisticRegression()"
            ]
          },
          "metadata": {},
          "execution_count": 25
        }
      ]
    },
    {
      "cell_type": "markdown",
      "source": [
        "偏回帰係数の確認/Check partial regression coefficients"
      ],
      "metadata": {
        "id": "-OaorfnqDNYs"
      }
    },
    {
      "cell_type": "code",
      "source": [
        "df_model = pd.DataFrame(index=[\"Pclass\",\"Sex\",\"Age\",\"SibSp\",\"Embarked\",\"Fare\"])\n",
        "df_model[\"偏回帰係数/partial regression coefficient\"] = model.coef_[0]\n",
        "\n",
        "# 出力イメージ/Output image\n",
        "#               偏回帰係数/partial regression coefficient\n",
        "# b1  Pclass   -0.418780\n",
        "# b2  Sex       2.363631\n",
        "# b3  Age      -0.607834\n",
        "# b4  SibSp     0.195629\n",
        "# b5  Embarked -0.428897\n",
        "# b6  Fare      0.015289"
      ],
      "metadata": {
        "id": "EGwBECkPENZ-"
      },
      "execution_count": null,
      "outputs": []
    },
    {
      "cell_type": "markdown",
      "source": [
        "* 偏回帰係数の絶対値が大きい程、その説明変数がモデルの精度向上に際して重要な役割を果たしていることを意味します。\n",
        "* 重要度の低い説明変数の係数は、その説明変数の影響を打ち消すために0に近い値を取るのが特徴です。\n",
        "---\n",
        "* The larger the absolute value of the partial regression coefficient, the more important the explanatory variable plays in improving the accuracy of the model.\n",
        "* The coefficients for less important explanatory variables are characterized by values close to zero in order to cancel out the influence of the explanatory variable."
      ],
      "metadata": {
        "id": "Y5p5FZCREOOt"
      }
    },
    {
      "cell_type": "markdown",
      "source": [
        "バイアス項（切片）の確認/Check bias term (intercept)"
      ],
      "metadata": {
        "id": "WuNPXuK3ElWd"
      }
    },
    {
      "cell_type": "code",
      "source": [
        "print(\"intercept: \", model.intercept_)\n",
        "\n",
        "# 出力イメージ/Output image\n",
        "# intercept:  [1.0597535]"
      ],
      "metadata": {
        "colab": {
          "base_uri": "https://localhost:8080/"
        },
        "id": "np3hMtzPEsMN",
        "outputId": "32c2a8e5-26c7-4a19-811f-22b83e758826"
      },
      "execution_count": null,
      "outputs": [
        {
          "output_type": "stream",
          "name": "stdout",
          "text": [
            "intercept:  [1.0597535]\n"
          ]
        }
      ]
    },
    {
      "cell_type": "markdown",
      "source": [
        "モデル推論/model inference\n",
        "* 作成したロジスティック回帰モデルにテストデータを渡し、予測値を得ます。\n",
        "* A logistic regression model created is passed through the test data to obtain predictions."
      ],
      "metadata": {
        "id": "1-1qhPk3Ex2F"
      }
    },
    {
      "cell_type": "code",
      "source": [
        "# 確率算出の際は、predict_proba()メソッドを利用/Use predict_proba() method for probability calculation\n",
        "Y_pred_proba = model.predict_proba(X_test)\n",
        "\n",
        "# データ出力/Data output\n",
        "df_proba     = pd.DataFrame()\n",
        "df_proba[\"非生存率/non-survival rate(Surviced=0)\"] = Y_pred_proba[:,0]\n",
        "df_proba[\"生存率/survival rate(Surviced=1)\"] = Y_pred_proba[:,1]\n",
        "print(df_proba)\n",
        "\n",
        "# 出力イメージ/Output image\n",
        "#     非生存率/non-survival rate(Surviced=0)  生存率/survival rate(Surviced=1)\n",
        "# 0          0.715506          0.284494\n",
        "# 1          0.070686          0.929314\n",
        "# 2          0.327845          0.672155\n",
        "# 3          0.108550          0.891450\n",
        "# 4          0.065910          0.934090\n",
        "# 5          0.294308          0.705692\n",
        "# 6          0.536102          0.463898\n",
        "# 7          0.055910          0.944090\n",
        "# 8          0.123385          0.876615\n",
        "# 9          0.176352          0.823648\n",
        "# 10         0.024932          0.975068"
      ],
      "metadata": {
        "colab": {
          "base_uri": "https://localhost:8080/"
        },
        "id": "bA2DErbxFiGM",
        "outputId": "0f088526-5775-4e95-b0b6-3458c256c01c"
      },
      "execution_count": null,
      "outputs": [
        {
          "output_type": "stream",
          "name": "stdout",
          "text": [
            "    非生存率/non-survival rate(Surviced=0)  生存率/survival rate(Surviced=1)\n",
            "0                             0.715506                       0.284494\n",
            "1                             0.070686                       0.929314\n",
            "2                             0.327845                       0.672155\n",
            "3                             0.108550                       0.891450\n",
            "4                             0.065910                       0.934090\n",
            "5                             0.294308                       0.705692\n",
            "6                             0.536102                       0.463898\n",
            "7                             0.055910                       0.944090\n",
            "8                             0.123385                       0.876615\n",
            "9                             0.176352                       0.823648\n",
            "10                            0.024932                       0.975068\n",
            "11                            0.612847                       0.387153\n",
            "12                            0.579437                       0.420563\n",
            "13                            0.021228                       0.978772\n",
            "14                            0.276869                       0.723131\n",
            "15                            0.586854                       0.413146\n",
            "16                            0.752219                       0.247781\n",
            "17                            0.494422                       0.505578\n",
            "18                            0.348190                       0.651810\n",
            "19                            0.747937                       0.252063\n",
            "20                            0.608403                       0.391597\n",
            "21                            0.078537                       0.921463\n",
            "22                            0.077543                       0.922457\n",
            "23                            0.037007                       0.962993\n",
            "24                            0.055462                       0.944538\n",
            "25                            0.495332                       0.504668\n",
            "26                            0.205857                       0.794143\n",
            "27                            0.056389                       0.943611\n",
            "28                            0.098798                       0.901202\n",
            "29                            0.178365                       0.821635\n",
            "30                            0.564144                       0.435856\n",
            "31                            0.479010                       0.520990\n",
            "32                            0.760998                       0.239002\n",
            "33                            0.702503                       0.297497\n",
            "34                            0.658824                       0.341176\n",
            "35                            0.308064                       0.691936\n",
            "36                            0.172453                       0.827547\n",
            "37                            0.161784                       0.838216\n",
            "38                            0.127972                       0.872028\n",
            "39                            0.045504                       0.954496\n",
            "40                            0.269116                       0.730884\n",
            "41                            0.459759                       0.540241\n",
            "42                            0.579478                       0.420522\n",
            "43                            0.337138                       0.662862\n",
            "44                            0.618332                       0.381668\n",
            "45                            0.694576                       0.305424\n",
            "46                            0.193486                       0.806514\n",
            "47                            0.675619                       0.324381\n",
            "48                            0.845109                       0.154891\n",
            "49                            0.546918                       0.453082\n",
            "50                            0.703741                       0.296259\n",
            "51                            0.667041                       0.332959\n",
            "52                            0.290269                       0.709731\n",
            "53                            0.034479                       0.965521\n",
            "54                            0.517022                       0.482978\n"
          ]
        }
      ]
    },
    {
      "cell_type": "markdown",
      "source": [
        "2値（0または1）で結果を出力/Output results as binary values (0 or 1)"
      ],
      "metadata": {
        "id": "5OvxpLXGForF"
      }
    },
    {
      "cell_type": "code",
      "source": [
        "# 推論/inference\n",
        "Y_pred = model.predict(X_test)\n",
        "print(Y_pred)\n",
        "\n",
        "# 出力イメージ/Output image\n",
        "# [0 1 1 1 1 1 0 1 1 1 1 0 0 1 1 0 0 1 1 0 0 1 1 1 1 1 1 1\n",
        "# 1 1 0 1 0 0 0 1 1 1 1 1 1 1 0 1 0 0 1 0 0 0 0 0 1 1 0]"
      ],
      "metadata": {
        "colab": {
          "base_uri": "https://localhost:8080/"
        },
        "id": "pu9cwRZiGJBE",
        "outputId": "192431ee-8961-428c-9446-f21e2e453081"
      },
      "execution_count": null,
      "outputs": [
        {
          "output_type": "stream",
          "name": "stdout",
          "text": [
            "[0 1 1 1 1 1 0 1 1 1 1 0 0 1 1 0 0 1 1 0 0 1 1 1 1 1 1 1 1 1 0 1 0 0 0 1 1\n",
            " 1 1 1 1 1 0 1 0 0 1 0 0 0 0 0 1 1 0]\n"
          ]
        }
      ]
    },
    {
      "cell_type": "markdown",
      "source": [
        "作成したモデルの性能評価/Performance evaluation of the created model"
      ],
      "metadata": {
        "id": "gXAu6ACbGY88"
      }
    },
    {
      "cell_type": "markdown",
      "source": [
        "* 評価指標 (混合行列・正解率・適合率・再現率・F1) を用いて学習済みモデルを評価します。\n",
        "* Evaluates trained models using evaluation metrics (mixture matrix, percentage correct, goodness-of-fit, recall, F1)."
      ],
      "metadata": {
        "id": "kgLf9eN5G0Td"
      }
    },
    {
      "cell_type": "markdown",
      "source": [
        "混合行列/mixed matrix"
      ],
      "metadata": {
        "id": "wEIm4vZWG-hk"
      }
    },
    {
      "cell_type": "code",
      "source": [
        "# 6. テストデータを用いたモデルの評価/Evaluate the model using test data\n",
        "from sklearn.metrics import confusion_matrix\n",
        "\n",
        "# 混合行列/mixed matrix\n",
        "print(confusion_matrix(y_true=Y_test, # 実測値/actual value\n",
        "                       y_pred=Y_pred  # 予測値/predicted value\n",
        "                      ))\n",
        "\n",
        "# 出力イメージ/Output image\n",
        "# [[ 9  9]\n",
        "#  [12 25]]"
      ],
      "metadata": {
        "colab": {
          "base_uri": "https://localhost:8080/"
        },
        "id": "GxQ96-afHkKC",
        "outputId": "b5750bac-57d6-4608-fd10-2332106409c6"
      },
      "execution_count": null,
      "outputs": [
        {
          "output_type": "stream",
          "name": "stdout",
          "text": [
            "[[ 9  9]\n",
            " [12 25]]\n"
          ]
        }
      ]
    },
    {
      "cell_type": "markdown",
      "source": [
        "混合行列・正解率・適合率・再現率/mixture matrix, percentage of correct answers, goodness-of-fit rate, and repeatability"
      ],
      "metadata": {
        "id": "lzrURP9lHoGc"
      }
    },
    {
      "cell_type": "code",
      "source": [
        "# 6. テストデータを用いたモデルの評価/Evaluate the model using test data\n",
        "from sklearn.metrics import accuracy_score, precision_score, recall_score, f1_score\n",
        "\n",
        "# 正解率/percentage of correct answers\n",
        "print('accuracy: ',  round(accuracy_score(y_true=Y_test, y_pred=Y_pred),2))\n",
        "# 適合率/precision ratio\n",
        "print('precision: ', round(precision_score(y_true=Y_test, y_pred=Y_pred),2))\n",
        "# 再現率/recall ratio\n",
        "print('recall: ',    round(recall_score(y_true=Y_test, y_pred=Y_pred),2))\n",
        "# f1スコア/f1 score\n",
        "print('f1 score: ',  round(f1_score(y_true=Y_test, y_pred=Y_pred),2))\n",
        "\n",
        "# 出力イメージ/Output image\n",
        "# accuracy:   0.62\n",
        "# precision:  0.74\n",
        "# recall:     0.68\n",
        "# f1 score:   0.7"
      ],
      "metadata": {
        "colab": {
          "base_uri": "https://localhost:8080/"
        },
        "id": "15U2cFkMH8As",
        "outputId": "829e756b-e279-41ec-b550-e717c4cb8cf7"
      },
      "execution_count": null,
      "outputs": [
        {
          "output_type": "stream",
          "name": "stdout",
          "text": [
            "accuracy:  0.62\n",
            "precision:  0.74\n",
            "recall:  0.68\n",
            "f1 score:  0.7\n"
          ]
        }
      ]
    },
    {
      "cell_type": "markdown",
      "source": [
        "上記指標のレポート出力/Report output of the above indicators"
      ],
      "metadata": {
        "id": "hheBanKWIA0U"
      }
    },
    {
      "cell_type": "code",
      "source": [
        "from sklearn.metrics import classification_report\n",
        "\n",
        "# 分類問題における評価レポート/Evaluation report in classification problems\n",
        "print(classification_report(Y_test, Y_pred))\n",
        "\n",
        "# 出力イメージ/Output image\n",
        "#               precision    recall  f1-score   support\n",
        "\n",
        "#            0       0.43      0.50      0.46        18\n",
        "#            1       0.74      0.68      0.70        37\n",
        "\n",
        "#     accuracy                           0.62        55\n",
        "#    macro avg       0.58      0.59      0.58        55\n",
        "# weighted avg       0.63      0.62      0.62        55"
      ],
      "metadata": {
        "colab": {
          "base_uri": "https://localhost:8080/"
        },
        "id": "Gcrnrz9_IKRm",
        "outputId": "2009a4a8-bacf-4310-a791-dcd3107bf929"
      },
      "execution_count": null,
      "outputs": [
        {
          "output_type": "stream",
          "name": "stdout",
          "text": [
            "              precision    recall  f1-score   support\n",
            "\n",
            "           0       0.43      0.50      0.46        18\n",
            "           1       0.74      0.68      0.70        37\n",
            "\n",
            "    accuracy                           0.62        55\n",
            "   macro avg       0.58      0.59      0.58        55\n",
            "weighted avg       0.63      0.62      0.62        55\n",
            "\n"
          ]
        }
      ]
    }
  ]
}